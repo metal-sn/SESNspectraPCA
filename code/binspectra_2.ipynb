{
 "cells": [
  {
   "cell_type": "code",
   "execution_count": 4,
   "metadata": {},
   "outputs": [],
   "source": [
    "from __future__ import print_function\n",
    "import SNIDsn\n",
    "import SNIDdataset as snid\n",
    "import numpy as np\n",
    "import SNePCA\n",
    "\n",
    "import plotly.plotly as ply\n",
    "import plotly.graph_objs as go\n",
    "import plotly.tools as tls\n",
    "\n",
    "import matplotlib.pyplot as plt\n",
    "\n",
    "import pandas\n",
    "import scipy"
   ]
  },
  {
   "cell_type": "code",
   "execution_count": 5,
   "metadata": {},
   "outputs": [],
   "source": [
    "dataset0 = snid.loadPickle('../Data/DataProducts/dataset0.pickle')\n",
    "dataset5 = snid.loadPickle('../Data/DataProducts/dataset5.pickle')\n",
    "dataset10 = snid.loadPickle('../Data/DataProducts/dataset10.pickle')\n",
    "dataset15 = snid.loadPickle('../Data/DataProducts/dataset15.pickle')"
   ]
  },
  {
   "cell_type": "code",
   "execution_count": 23,
   "metadata": {},
   "outputs": [],
   "source": [
    "wvl = dataset5[\"11hs\"].wavelengths\n",
    "y_11hs = dataset5[\"11hs\"].data\n",
    "flux = y_11hs.astype('float64')\n",
    "wstart = wvl[0]\n",
    "wend = wvl[-1]\n",
    "res = 2\n",
    "wbin = (wvl[1] - wvl[0])*res"
   ]
  },
  {
   "cell_type": "code",
   "execution_count": 24,
   "metadata": {},
   "outputs": [],
   "source": [
    "def binspec(wvl, wstart, wend, wbin):\n",
    "    nbin = (wend - wstart) / wbin + 1\n",
    "    nbin = int(np.ceil(nbin))\n",
    "    outlam = np.arange(nbin) * wbin + wstart\n",
    "    return outlam"
   ]
  },
  {
   "cell_type": "code",
   "execution_count": 29,
   "metadata": {},
   "outputs": [],
   "source": [
    "binspect = binspec(wvl, wstart, wend, wbin)"
   ]
  },
  {
   "cell_type": "code",
   "execution_count": 44,
   "metadata": {},
   "outputs": [],
   "source": [
    "binned = np.histogram(wvl, bins=277)\n",
    "binn = binned[1]"
   ]
  },
  {
   "cell_type": "code",
   "execution_count": 48,
   "metadata": {},
   "outputs": [
    {
     "data": {
      "text/plain": [
       "10.840000000000146"
      ]
     },
     "execution_count": 48,
     "metadata": {},
     "output_type": "execute_result"
    }
   ],
   "source": [
    "res = 2\n",
    "(wvl[1] - wvl[0])*res"
   ]
  },
  {
   "cell_type": "code",
   "execution_count": 45,
   "metadata": {},
   "outputs": [
    {
     "data": {
      "text/plain": [
       "((278,), (278,))"
      ]
     },
     "execution_count": 45,
     "metadata": {},
     "output_type": "execute_result"
    }
   ],
   "source": [
    "binn.shape, binspect.shape"
   ]
  },
  {
   "cell_type": "code",
   "execution_count": 46,
   "metadata": {},
   "outputs": [
    {
     "data": {
      "text/plain": [
       "(10.822635379061467,\n",
       " 10.822635379061467,\n",
       " 10.822635379061012,\n",
       " 10.822635379061467)"
      ]
     },
     "execution_count": 46,
     "metadata": {},
     "output_type": "execute_result"
    }
   ],
   "source": [
    "binn[1]-binn[0],binn[2]-binn[1],binn[3]-binn[2],binn[-1]-binn[-2]"
   ]
  },
  {
   "cell_type": "code",
   "execution_count": 39,
   "metadata": {},
   "outputs": [
    {
     "data": {
      "text/plain": [
       "(10.840000000000146,\n",
       " 10.840000000000146,\n",
       " 10.840000000000146,\n",
       " 10.840000000000146)"
      ]
     },
     "execution_count": 39,
     "metadata": {},
     "output_type": "execute_result"
    }
   ],
   "source": [
    "binspect[1]-binspect[0],binspect[2]-binspect[1],binspect[3]-binspect[2],binspect[-1]-binspect[-2]"
   ]
  },
  {
   "cell_type": "code",
   "execution_count": null,
   "metadata": {},
   "outputs": [],
   "source": []
  },
  {
   "cell_type": "code",
   "execution_count": null,
   "metadata": {},
   "outputs": [],
   "source": []
  },
  {
   "cell_type": "code",
   "execution_count": null,
   "metadata": {},
   "outputs": [],
   "source": []
  },
  {
   "cell_type": "code",
   "execution_count": null,
   "metadata": {},
   "outputs": [],
   "source": []
  },
  {
   "cell_type": "code",
   "execution_count": null,
   "metadata": {},
   "outputs": [],
   "source": []
  },
  {
   "cell_type": "code",
   "execution_count": null,
   "metadata": {},
   "outputs": [],
   "source": []
  },
  {
   "cell_type": "code",
   "execution_count": null,
   "metadata": {},
   "outputs": [],
   "source": []
  }
 ],
 "metadata": {
  "kernelspec": {
   "display_name": "Python 2",
   "language": "python",
   "name": "python2"
  },
  "language_info": {
   "codemirror_mode": {
    "name": "ipython",
    "version": 2
   },
   "file_extension": ".py",
   "mimetype": "text/x-python",
   "name": "python",
   "nbconvert_exporter": "python",
   "pygments_lexer": "ipython2",
   "version": "2.7.16"
  }
 },
 "nbformat": 4,
 "nbformat_minor": 2
}
