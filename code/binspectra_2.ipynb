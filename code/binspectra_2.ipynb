{
 "cells": [
  {
   "cell_type": "code",
   "execution_count": 1,
   "metadata": {},
   "outputs": [],
   "source": [
    "from __future__ import print_function\n",
    "import SNIDsn\n",
    "import SNIDdataset as snid\n",
    "import numpy as np\n",
    "import SNePCA\n",
    "\n",
    "import plotly.plotly as ply\n",
    "import plotly.graph_objs as go\n",
    "import plotly.tools as tls\n",
    "\n",
    "import matplotlib.pyplot as plt\n",
    "\n",
    "import pandas\n",
    "import scipy\n",
    "from statistics import mean"
   ]
  },
  {
   "cell_type": "code",
   "execution_count": 2,
   "metadata": {},
   "outputs": [],
   "source": [
    "dataset0 = snid.loadPickle('../Data/DataProducts/dataset0.pickle')\n",
    "dataset5 = snid.loadPickle('../Data/DataProducts/dataset5.pickle')\n",
    "dataset10 = snid.loadPickle('../Data/DataProducts/dataset10.pickle')\n",
    "dataset15 = snid.loadPickle('../Data/DataProducts/dataset15.pickle')"
   ]
  },
  {
   "cell_type": "code",
   "execution_count": 3,
   "metadata": {},
   "outputs": [],
   "source": [
    "wvl = dataset5[\"11hs\"].wavelengths\n",
    "y_11hs = dataset5[\"11hs\"].data\n",
    "flux = y_11hs.astype('float64')\n",
    "wstart = wvl[0]\n",
    "wend = wvl[-1]\n",
    "res = 10\n",
    "wbin = (wvl[1] - wvl[0])*res"
   ]
  },
  {
   "cell_type": "code",
   "execution_count": 4,
   "metadata": {},
   "outputs": [
    {
     "data": {
      "text/plain": [
       "207"
      ]
     },
     "execution_count": 4,
     "metadata": {},
     "output_type": "execute_result"
    }
   ],
   "source": [
    "414/2"
   ]
  },
  {
   "cell_type": "code",
   "execution_count": 13,
   "metadata": {
    "scrolled": true
   },
   "outputs": [],
   "source": [
    "fsum = [flux[i:i+54].sum() for i in range(0,413,54)]"
   ]
  },
  {
   "cell_type": "code",
   "execution_count": 6,
   "metadata": {},
   "outputs": [],
   "source": [
    "rebinned = np.arange(wstart, wend, wbin)"
   ]
  },
  {
   "cell_type": "code",
   "execution_count": 5,
   "metadata": {},
   "outputs": [
    {
     "ename": "NameError",
     "evalue": "name 'fsum' is not defined",
     "output_type": "error",
     "traceback": [
      "\u001b[0;31m---------------------------------------------------------------------------\u001b[0m",
      "\u001b[0;31mNameError\u001b[0m                                 Traceback (most recent call last)",
      "\u001b[0;32m<ipython-input-5-c3cbdd106ed7>\u001b[0m in \u001b[0;36m<module>\u001b[0;34m()\u001b[0m\n\u001b[0;32m----> 1\u001b[0;31m \u001b[0mplt\u001b[0m\u001b[0;34m.\u001b[0m\u001b[0mplot\u001b[0m\u001b[0;34m(\u001b[0m\u001b[0mwvl\u001b[0m\u001b[0;34m,\u001b[0m\u001b[0mfsum\u001b[0m\u001b[0;34m)\u001b[0m\u001b[0;34m\u001b[0m\u001b[0m\n\u001b[0m",
      "\u001b[0;31mNameError\u001b[0m: name 'fsum' is not defined"
     ]
    }
   ],
   "source": [
    "plt.plot(wvl,fsum)"
   ]
  },
  {
   "cell_type": "code",
   "execution_count": 4,
   "metadata": {},
   "outputs": [],
   "source": [
    "def binspec(wvl, wstart, wend, wbin):\n",
    "    nbin = (wend - wstart) / wbin + 1\n",
    "    nbin = int(np.ceil(nbin))\n",
    "    outlam = np.arange(nbin) * wbin + wstart\n",
    "    return outlam"
   ]
  },
  {
   "cell_type": "code",
   "execution_count": 5,
   "metadata": {},
   "outputs": [],
   "source": [
    "binspect = binspec(wvl, wstart, wend, wbin)"
   ]
  },
  {
   "cell_type": "code",
   "execution_count": 72,
   "metadata": {},
   "outputs": [],
   "source": [
    "binned = np.histogram(wvl, bins=277)\n",
    "binn = binned[1]"
   ]
  },
  {
   "cell_type": "code",
   "execution_count": 48,
   "metadata": {},
   "outputs": [
    {
     "data": {
      "text/plain": [
       "10.840000000000146"
      ]
     },
     "execution_count": 48,
     "metadata": {},
     "output_type": "execute_result"
    }
   ],
   "source": [
    "res = 2\n",
    "(wvl[1] - wvl[0])*res"
   ]
  },
  {
   "cell_type": "code",
   "execution_count": 55,
   "metadata": {},
   "outputs": [
    {
     "ename": "TypeError",
     "evalue": "range() integer end argument expected, got numpy.float64.",
     "output_type": "error",
     "traceback": [
      "\u001b[0;31m---------------------------------------------------------------------------\u001b[0m",
      "\u001b[0;31mTypeError\u001b[0m                                 Traceback (most recent call last)",
      "\u001b[0;32m<ipython-input-55-25c0307715bb>\u001b[0m in \u001b[0;36m<module>\u001b[0;34m()\u001b[0m\n\u001b[0;32m----> 1\u001b[0;31m \u001b[0;32mfor\u001b[0m \u001b[0mi\u001b[0m \u001b[0;32min\u001b[0m \u001b[0mrange\u001b[0m\u001b[0;34m(\u001b[0m\u001b[0mwstart\u001b[0m\u001b[0;34m,\u001b[0m \u001b[0mwend\u001b[0m\u001b[0;34m,\u001b[0m \u001b[0mwbin\u001b[0m\u001b[0;34m)\u001b[0m\u001b[0;34m:\u001b[0m\u001b[0;34m\u001b[0m\u001b[0m\n\u001b[0m\u001b[1;32m      2\u001b[0m     \u001b[0mflux\u001b[0m\u001b[0;34m[\u001b[0m\u001b[0mi\u001b[0m\u001b[0;34m:\u001b[0m\u001b[0mi\u001b[0m \u001b[0;34m+\u001b[0m \u001b[0mwbin\u001b[0m\u001b[0;34m.\u001b[0m\u001b[0msum\u001b[0m\u001b[0;34m(\u001b[0m\u001b[0;34m)\u001b[0m\u001b[0;34m]\u001b[0m\u001b[0;34m\u001b[0m\u001b[0m\n",
      "\u001b[0;31mTypeError\u001b[0m: range() integer end argument expected, got numpy.float64."
     ]
    }
   ],
   "source": [
    "for i in range(wstart, wend, wbin):\n",
    "    flux[i:i + wbin.sum()]"
   ]
  },
  {
   "cell_type": "code",
   "execution_count": 76,
   "metadata": {},
   "outputs": [],
   "source": [
    "for i in range(4010, 6990, 10):\n",
    "    fsum = flux[i:i+10].sum()"
   ]
  },
  {
   "cell_type": "code",
   "execution_count": 77,
   "metadata": {},
   "outputs": [
    {
     "data": {
      "text/plain": [
       "0.0"
      ]
     },
     "execution_count": 77,
     "metadata": {},
     "output_type": "execute_result"
    }
   ],
   "source": [
    "fsum"
   ]
  },
  {
   "cell_type": "code",
   "execution_count": 70,
   "metadata": {},
   "outputs": [
    {
     "data": {
      "text/plain": [
       "(10.783705035971252,\n",
       " 10.783705035971252,\n",
       " 10.783705035971252,\n",
       " 10.783705035971252)"
      ]
     },
     "execution_count": 70,
     "metadata": {},
     "output_type": "execute_result"
    }
   ],
   "source": [
    "binn[1]-binn[0],binn[2]-binn[1],binn[3]-binn[2],binn[-1]-binn[-2]"
   ]
  },
  {
   "cell_type": "code",
   "execution_count": null,
   "metadata": {},
   "outputs": [],
   "source": []
  },
  {
   "cell_type": "code",
   "execution_count": 39,
   "metadata": {},
   "outputs": [
    {
     "data": {
      "text/plain": [
       "(10.840000000000146,\n",
       " 10.840000000000146,\n",
       " 10.840000000000146,\n",
       " 10.840000000000146)"
      ]
     },
     "execution_count": 39,
     "metadata": {},
     "output_type": "execute_result"
    }
   ],
   "source": [
    "binspect[1]-binspect[0],binspect[2]-binspect[1],binspect[3]-binspect[2],binspect[-1]-binspect[-2]"
   ]
  },
  {
   "cell_type": "code",
   "execution_count": 6,
   "metadata": {},
   "outputs": [],
   "source": [
    "binned = np.histogram(wvl, bins=277)\n",
    "bins = binned[1]\n",
    "y = binned[0]"
   ]
  },
  {
   "cell_type": "code",
   "execution_count": 81,
   "metadata": {},
   "outputs": [],
   "source": [
    "def betterstep(bins, y, **kwargs):\n",
    "    \"\"\"A 'better' version of matplotlib's step function\n",
    "    \n",
    "    Given a set of bin edges and bin heights, this plots the thing\n",
    "    that I wish matplotlib's ``step`` command plotted. All extra\n",
    "    arguments are passed directly to matplotlib's ``plot`` command.\n",
    "    \n",
    "    Args:\n",
    "        bins: The bin edges. This should be one element longer than\n",
    "            the bin heights array ``y``.\n",
    "        y: The bin heights.\n",
    "        ax (Optional): The axis where this should be plotted.\n",
    "    \n",
    "    \"\"\"\n",
    "    new_x = [a for row in zip(bins[:-1], bins[1:]) for a in row]\n",
    "    new_y = [a for row in zip(y, y) for a in row]\n",
    "    ax = kwargs.pop(\"ax\", plt.gca())\n",
    "    return ax.plot(new_x, new_y, **kwargs)"
   ]
  },
  {
   "cell_type": "code",
   "execution_count": 76,
   "metadata": {},
   "outputs": [
    {
     "ename": "NameError",
     "evalue": "name 'kwargs' is not defined",
     "output_type": "error",
     "traceback": [
      "\u001b[0;31m---------------------------------------------------------------------------\u001b[0m",
      "\u001b[0;31mNameError\u001b[0m                                 Traceback (most recent call last)",
      "\u001b[0;32m<ipython-input-76-49768a1afe01>\u001b[0m in \u001b[0;36m<module>\u001b[0;34m()\u001b[0m\n\u001b[0;32m----> 1\u001b[0;31m \u001b[0mbetterstep\u001b[0m\u001b[0;34m(\u001b[0m\u001b[0mbins\u001b[0m\u001b[0;34m,\u001b[0m \u001b[0my\u001b[0m\u001b[0;34m,\u001b[0m \u001b[0;34m**\u001b[0m\u001b[0mkwargs\u001b[0m\u001b[0;34m)\u001b[0m\u001b[0;34m\u001b[0m\u001b[0m\n\u001b[0m",
      "\u001b[0;31mNameError\u001b[0m: name 'kwargs' is not defined"
     ]
    }
   ],
   "source": [
    "betterstep(bins, y, **kwargs)"
   ]
  },
  {
   "cell_type": "code",
   "execution_count": 82,
   "metadata": {},
   "outputs": [],
   "source": [
    "grid1 = np.arange(4012.01, 6988.8, 10.84)\n",
    "grid2 = np.arange(4011.17, 6989.64, 10.) # 1/2 relolution\n",
    "grid3 = np.arange(4055.37, 6945.44, 54.2) # 1/10 resolution\n",
    "new_spec_wavs = grid3\n",
    "\n",
    "old_spec_wavs = wvl\n",
    "spec_fluxes = flux"
   ]
  },
  {
   "cell_type": "code",
   "execution_count": 83,
   "metadata": {},
   "outputs": [],
   "source": [
    "from __future__ import print_function, division, absolute_import\n",
    "\n",
    "import numpy as np\n",
    "\n",
    "\n",
    "def spectres(new_spec_wavs, old_spec_wavs, spec_fluxes, spec_errs=None):\n",
    "\n",
    "    \"\"\"\n",
    "    Function for resampling spectra (and optionally associated\n",
    "    uncertainties) onto a new wavelength basis.\n",
    "    Parameters\n",
    "    ----------\n",
    "    new_spec_wavs : numpy.ndarray\n",
    "        Array containing the new wavelength sampling desired for the\n",
    "        spectrum or spectra.\n",
    "    old_spec_wavs : numpy.ndarray\n",
    "        1D array containing the current wavelength sampling of the\n",
    "        spectrum or spectra.\n",
    "    spec_fluxes : numpy.ndarray\n",
    "        Array containing spectral fluxes at the wavelengths specified in\n",
    "        old_spec_wavs, last dimension must correspond to the shape of\n",
    "        old_spec_wavs. Extra dimensions before this may be used to\n",
    "        include multiple spectra.\n",
    "    spec_errs : numpy.ndarray (optional)\n",
    "        Array of the same shape as spec_fluxes containing uncertainties\n",
    "        associated with each spectral flux value.\n",
    "    Returns\n",
    "    -------\n",
    "    res_fluxes : numpy.ndarray\n",
    "        Array of resampled flux values, first dimension is the same\n",
    "        length as new_spec_wavs, other dimensions are the same as\n",
    "        spec_fluxes.\n",
    "    resampled_errs : numpy.ndarray\n",
    "        Array of uncertainties associated with fluxes in\n",
    "        res_fluxes. Only returned if spec_errs was specified.\n",
    "    \"\"\"\n",
    "\n",
    "    # Arrays of left-hand sides and widths for the old and new bins\n",
    "    spec_lhs = np.zeros(old_spec_wavs.shape[0])\n",
    "    spec_widths = np.zeros(old_spec_wavs.shape[0])\n",
    "    spec_lhs = np.zeros(old_spec_wavs.shape[0])\n",
    "    spec_lhs[0] = old_spec_wavs[0]\n",
    "    spec_lhs[0] -= (old_spec_wavs[1] - old_spec_wavs[0])/2\n",
    "    spec_widths[-1] = (old_spec_wavs[-1] - old_spec_wavs[-2])\n",
    "    spec_lhs[1:] = (old_spec_wavs[1:] + old_spec_wavs[:-1])/2\n",
    "    spec_widths[:-1] = spec_lhs[1:] - spec_lhs[:-1]\n",
    "\n",
    "    filter_lhs = np.zeros(new_spec_wavs.shape[0]+1)\n",
    "    filter_widths = np.zeros(new_spec_wavs.shape[0])\n",
    "    filter_lhs[0] = new_spec_wavs[0]\n",
    "    filter_lhs[0] -= (new_spec_wavs[1] - new_spec_wavs[0])/2\n",
    "    filter_widths[-1] = (new_spec_wavs[-1] - new_spec_wavs[-2])\n",
    "    filter_lhs[-1] = new_spec_wavs[-1]\n",
    "    filter_lhs[-1] += (new_spec_wavs[-1] - new_spec_wavs[-2])/2\n",
    "    filter_lhs[1:-1] = (new_spec_wavs[1:] + new_spec_wavs[:-1])/2\n",
    "    filter_widths[:-1] = filter_lhs[1:-1] - filter_lhs[:-2]\n",
    "\n",
    "    if filter_lhs[0] < spec_lhs[0] or filter_lhs[-1] > spec_lhs[-1]:\n",
    "        raise ValueError(\"spectres: The new wavelengths specified must fall\"\n",
    "                         \"within the range of the old wavelength values.\")\n",
    "\n",
    "    # Generate output arrays to be populated\n",
    "    res_fluxes = np.zeros(spec_fluxes[..., 0].shape + new_spec_wavs.shape)\n",
    "\n",
    "    if spec_errs is not None:\n",
    "        if spec_errs.shape != spec_fluxes.shape:\n",
    "            raise ValueError(\"If specified, spec_errs must be the same shape\"\n",
    "                             \"as spec_fluxes.\")\n",
    "        else:\n",
    "            res_fluxerrs = np.copy(res_fluxes)\n",
    "\n",
    "    start = 0\n",
    "    stop = 0\n",
    "\n",
    "    # Calculate new flux and uncertainty values, loop over new bins\n",
    "    for j in range(new_spec_wavs.shape[0]):\n",
    "\n",
    "        # Find first old bin which is partially covered by the new bin\n",
    "        while spec_lhs[start+1] <= filter_lhs[j]:\n",
    "            start += 1\n",
    "\n",
    "        # Find last old bin which is partially covered by the new bin\n",
    "        while spec_lhs[stop+1] < filter_lhs[j+1]:\n",
    "            stop += 1\n",
    "\n",
    "        # If new bin is fully within one old bin these are the same\n",
    "        if stop == start:\n",
    "\n",
    "            res_fluxes[..., j] = spec_fluxes[..., start]\n",
    "            if spec_errs is not None:\n",
    "                res_fluxerrs[..., j] = spec_errs[..., start]\n",
    "\n",
    "        # Otherwise multiply the first and last old bin widths by P_ij\n",
    "        else:\n",
    "\n",
    "            start_factor = ((spec_lhs[start+1] - filter_lhs[j])\n",
    "                            / (spec_lhs[start+1] - spec_lhs[start]))\n",
    "\n",
    "            end_factor = ((filter_lhs[j+1] - spec_lhs[stop])\n",
    "                          / (spec_lhs[stop+1] - spec_lhs[stop]))\n",
    "\n",
    "            spec_widths[start] *= start_factor\n",
    "            spec_widths[stop] *= end_factor\n",
    "\n",
    "            # Populate res_fluxes spectrum and uncertainty arrays\n",
    "            f_widths = spec_widths[start:stop+1]*spec_fluxes[..., start:stop+1]\n",
    "            res_fluxes[..., j] = np.sum(f_widths, axis=-1)\n",
    "            res_fluxes[..., j] /= np.sum(spec_widths[start:stop+1])\n",
    "\n",
    "            if spec_errs is not None:\n",
    "                e_wid = spec_widths[start:stop+1]*spec_errs[..., start:stop+1]\n",
    "\n",
    "                res_fluxerrs[..., j] = np.sqrt(np.sum(e_wid**2, axis=-1))\n",
    "                res_fluxerrs[..., j] /= np.sum(spec_widths[start:stop+1])\n",
    "\n",
    "            # Put back the old bin widths to their initial values for later use\n",
    "            spec_widths[start] /= start_factor\n",
    "            spec_widths[stop] /= end_factor\n",
    "\n",
    "    # If errors were supplied return the res_fluxes spectrum and error arrays\n",
    "    if spec_errs is not None:\n",
    "        return res_fluxes, res_fluxerrs\n",
    "\n",
    "    # Otherwise just return the res_fluxes spectrum array\n",
    "    else:\n",
    "        return res_fluxes"
   ]
  },
  {
   "cell_type": "code",
   "execution_count": 84,
   "metadata": {},
   "outputs": [],
   "source": [
    "x_11hs = dataset5[\"11hs\"].wavelengths\n",
    "y_11hs = dataset5[\"11hs\"].data\n",
    "fluxres = spectres(new_spec_wavs, old_spec_wavs, spec_fluxes, spec_errs=None)\n",
    "wavres = new_spec_wavs"
   ]
  },
  {
   "cell_type": "code",
   "execution_count": 89,
   "metadata": {},
   "outputs": [
    {
     "ename": "SyntaxError",
     "evalue": "non-keyword arg after keyword arg (<ipython-input-89-d91a59a5b5ce>, line 1)",
     "output_type": "error",
     "traceback": [
      "\u001b[0;36m  File \u001b[0;32m\"<ipython-input-89-d91a59a5b5ce>\"\u001b[0;36m, line \u001b[0;32m1\u001b[0m\n\u001b[0;31m    plt.plot(x_11hs,y_11hs,'o', markersize=3, b,label=\"Original resolution\")\u001b[0m\n\u001b[0;31mSyntaxError\u001b[0m\u001b[0;31m:\u001b[0m non-keyword arg after keyword arg\n"
     ]
    }
   ],
   "source": [
    "plt.plot(x_11hs,y_11hs,'o', markersize=3,label=\"Original resolution\")\n",
    "plt.plot(wavres,fluxres, 'o', markersize=3, label=\"1/10 resolution\")\n",
    "plt.xlabel('Wavelength', fontsize=14)\n",
    "plt.ylabel('Flux', fontsize=14)\n",
    "plt.title('11hs (5 days)', fontsize=16)\n",
    "plt.legend(bbox_to_anchor=(1.05, 1), loc='upper left', borderaxespad=0.)\n",
    "plt.show()"
   ]
  },
  {
   "cell_type": "code",
   "execution_count": 86,
   "metadata": {},
   "outputs": [
    {
     "data": {
      "image/png": "[encoded data removed]",
      "text/plain": [
       "<Figure size 432x288 with 1 Axes>"
      ]
     },
     "metadata": {
      "needs_background": "light"
     },
     "output_type": "display_data"
    }
   ],
   "source": [
    "plt.plot(x_11hs,y_11hs, label=\"Original resolution\")\n",
    "plt.plot(wavres,fluxres, label=\"1/10 resolution\")\n",
    "plt.xlabel('Wavelength', fontsize=14)\n",
    "plt.ylabel('Flux', fontsize=14)\n",
    "plt.title('11hs (5 days)', fontsize=16)\n",
    "plt.legend(bbox_to_anchor=(1.05, 1), loc='upper left', borderaxespad=0.)\n",
    "plt.show()"
   ]
  },
  {
   "cell_type": "code",
   "execution_count": null,
   "metadata": {},
   "outputs": [],
   "source": []
  },
  {
   "cell_type": "code",
   "execution_count": null,
   "metadata": {},
   "outputs": [],
   "source": []
  },
  {
   "cell_type": "code",
   "execution_count": 9,
   "metadata": {},
   "outputs": [
    {
     "data": {
      "text/plain": [
       "array([4001.17, 4011.17, 4021.17, 4031.17, 4041.17, 4051.17, 4061.17,\n",
       "       4071.17, 4081.17, 4091.17, 4101.17, 4111.17, 4121.17, 4131.17,\n",
       "       4141.17, 4151.17, 4161.17, 4171.17, 4181.17, 4191.17, 4201.17,\n",
       "       4211.17, 4221.17, 4231.17, 4241.17, 4251.17, 4261.17, 4271.17,\n",
       "       4281.17, 4291.17, 4301.17, 4311.17, 4321.17, 4331.17, 4341.17,\n",
       "       4351.17, 4361.17, 4371.17, 4381.17, 4391.17, 4401.17, 4411.17,\n",
       "       4421.17, 4431.17, 4441.17, 4451.17, 4461.17, 4471.17, 4481.17,\n",
       "       4491.17, 4501.17, 4511.17, 4521.17, 4531.17, 4541.17, 4551.17,\n",
       "       4561.17, 4571.17, 4581.17, 4591.17, 4601.17, 4611.17, 4621.17,\n",
       "       4631.17, 4641.17, 4651.17, 4661.17, 4671.17, 4681.17, 4691.17,\n",
       "       4701.17, 4711.17, 4721.17, 4731.17, 4741.17, 4751.17, 4761.17,\n",
       "       4771.17, 4781.17, 4791.17, 4801.17, 4811.17, 4821.17, 4831.17,\n",
       "       4841.17, 4851.17, 4861.17, 4871.17, 4881.17, 4891.17, 4901.17,\n",
       "       4911.17, 4921.17, 4931.17, 4941.17, 4951.17, 4961.17, 4971.17,\n",
       "       4981.17, 4991.17, 5001.17, 5011.17, 5021.17, 5031.17, 5041.17,\n",
       "       5051.17, 5061.17, 5071.17, 5081.17, 5091.17, 5101.17, 5111.17,\n",
       "       5121.17, 5131.17, 5141.17, 5151.17, 5161.17, 5171.17, 5181.17,\n",
       "       5191.17, 5201.17, 5211.17, 5221.17, 5231.17, 5241.17, 5251.17,\n",
       "       5261.17, 5271.17, 5281.17, 5291.17, 5301.17, 5311.17, 5321.17,\n",
       "       5331.17, 5341.17, 5351.17, 5361.17, 5371.17, 5381.17, 5391.17,\n",
       "       5401.17, 5411.17, 5421.17, 5431.17, 5441.17, 5451.17, 5461.17,\n",
       "       5471.17, 5481.17, 5491.17, 5501.17, 5511.17, 5521.17, 5531.17,\n",
       "       5541.17, 5551.17, 5561.17, 5571.17, 5581.17, 5591.17, 5601.17,\n",
       "       5611.17, 5621.17, 5631.17, 5641.17, 5651.17, 5661.17, 5671.17,\n",
       "       5681.17, 5691.17, 5701.17, 5711.17, 5721.17, 5731.17, 5741.17,\n",
       "       5751.17, 5761.17, 5771.17, 5781.17, 5791.17, 5801.17, 5811.17,\n",
       "       5821.17, 5831.17, 5841.17, 5851.17, 5861.17, 5871.17, 5881.17,\n",
       "       5891.17, 5901.17, 5911.17, 5921.17, 5931.17, 5941.17, 5951.17,\n",
       "       5961.17, 5971.17, 5981.17, 5991.17, 6001.17, 6011.17, 6021.17,\n",
       "       6031.17, 6041.17, 6051.17, 6061.17, 6071.17, 6081.17, 6091.17,\n",
       "       6101.17, 6111.17, 6121.17, 6131.17, 6141.17, 6151.17, 6161.17,\n",
       "       6171.17, 6181.17, 6191.17, 6201.17, 6211.17, 6221.17, 6231.17,\n",
       "       6241.17, 6251.17, 6261.17, 6271.17, 6281.17, 6291.17, 6301.17,\n",
       "       6311.17, 6321.17, 6331.17, 6341.17, 6351.17, 6361.17, 6371.17,\n",
       "       6381.17, 6391.17, 6401.17, 6411.17, 6421.17, 6431.17, 6441.17,\n",
       "       6451.17, 6461.17, 6471.17, 6481.17, 6491.17, 6501.17, 6511.17,\n",
       "       6521.17, 6531.17, 6541.17, 6551.17, 6561.17, 6571.17, 6581.17,\n",
       "       6591.17, 6601.17, 6611.17, 6621.17, 6631.17, 6641.17, 6651.17,\n",
       "       6661.17, 6671.17, 6681.17, 6691.17, 6701.17, 6711.17, 6721.17,\n",
       "       6731.17, 6741.17, 6751.17, 6761.17, 6771.17, 6781.17, 6791.17,\n",
       "       6801.17, 6811.17, 6821.17, 6831.17, 6841.17, 6851.17, 6861.17,\n",
       "       6871.17, 6881.17, 6891.17, 6901.17, 6911.17, 6921.17, 6931.17,\n",
       "       6941.17, 6951.17, 6961.17, 6971.17, 6981.17, 6991.17])"
      ]
     },
     "execution_count": 9,
     "metadata": {},
     "output_type": "execute_result"
    }
   ],
   "source": [
    "np.arange(4001.17, 6999.64, 10.)"
   ]
  },
  {
   "cell_type": "code",
   "execution_count": 78,
   "metadata": {},
   "outputs": [
    {
     "data": {
      "text/plain": [
       "4055.37"
      ]
     },
     "execution_count": 78,
     "metadata": {},
     "output_type": "execute_result"
    }
   ],
   "source": [
    "4001.17+54.2"
   ]
  },
  {
   "cell_type": "code",
   "execution_count": 79,
   "metadata": {},
   "outputs": [
    {
     "data": {
      "text/plain": [
       "6945.4400000000005"
      ]
     },
     "execution_count": 79,
     "metadata": {},
     "output_type": "execute_result"
    }
   ],
   "source": [
    "6999.64-54.2"
   ]
  },
  {
   "cell_type": "code",
   "execution_count": 69,
   "metadata": {},
   "outputs": [
    {
     "data": {
      "text/plain": [
       "(275,)"
      ]
     },
     "execution_count": 69,
     "metadata": {},
     "output_type": "execute_result"
    }
   ],
   "source": [
    "np.arange(4012.01, 6988.8, 10.84).shape"
   ]
  },
  {
   "cell_type": "code",
   "execution_count": 77,
   "metadata": {},
   "outputs": [
    {
     "data": {
      "text/plain": [
       "54.20000000000073"
      ]
     },
     "execution_count": 77,
     "metadata": {},
     "output_type": "execute_result"
    }
   ],
   "source": [
    "(wvl[1]-wvl[0])*10"
   ]
  },
  {
   "cell_type": "code",
   "execution_count": 81,
   "metadata": {},
   "outputs": [
    {
     "data": {
      "text/plain": [
       "(54,)"
      ]
     },
     "execution_count": 81,
     "metadata": {},
     "output_type": "execute_result"
    }
   ],
   "source": [
    "np.arange(4055.37, 6945.44, 54.2).shape"
   ]
  },
  {
   "cell_type": "code",
   "execution_count": null,
   "metadata": {},
   "outputs": [],
   "source": [
    "for i in range(4010, 6990, 10):\n",
    "    fsum = flux[i:i+10].sum()"
   ]
  },
  {
   "cell_type": "code",
   "execution_count": 103,
   "metadata": {},
   "outputs": [],
   "source": [
    "for i in range(4010, 6990, 10):\n",
    "    fsum = flux[i:i+10].sum()"
   ]
  },
  {
   "cell_type": "code",
   "execution_count": 45,
   "metadata": {},
   "outputs": [],
   "source": [
    "N=3\n",
    "#i = 0\n",
    "wsum = [wvl[i:i+N].sum()/N for i in range(0,len(wvl),N)]\n",
    "wsum = np.asarray(wsum)"
   ]
  },
  {
   "cell_type": "code",
   "execution_count": 46,
   "metadata": {},
   "outputs": [
    {
     "data": {
      "text/plain": [
       "(138,)"
      ]
     },
     "execution_count": 46,
     "metadata": {},
     "output_type": "execute_result"
    }
   ],
   "source": [
    "wsum.shape"
   ]
  },
  {
   "cell_type": "code",
   "execution_count": 47,
   "metadata": {},
   "outputs": [
    {
     "data": {
      "text/plain": [
       "array([4007.19333333, 4023.50333333, 4039.88      , 4056.32      ,\n",
       "       4072.83      , 4089.40333333, 4106.04666667, 4122.75666667,\n",
       "       4139.53333333, 4156.38      , 4173.29666667, 4190.28      ,\n",
       "       4207.33333333, 4224.45666667, 4241.64666667, 4258.91      ,\n",
       "       4276.24      , 4293.64333333, 4311.12      , 4328.66      ,\n",
       "       4346.28      , 4363.96666667, 4381.72666667, 4399.56      ,\n",
       "       4417.46666667, 4435.44333333, 4453.49      , 4471.61333333,\n",
       "       4489.81333333, 4508.08333333, 4526.43333333, 4544.85333333,\n",
       "       4563.35      , 4581.92333333, 4600.57      , 4619.29333333,\n",
       "       4638.09      , 4656.96333333, 4675.92      , 4694.94333333,\n",
       "       4714.05333333, 4733.24      , 4752.50333333, 4771.84      ,\n",
       "       4791.26333333, 4810.76333333, 4830.34      , 4849.99333333,\n",
       "       4869.73333333, 4889.55333333, 4909.45333333, 4929.43333333,\n",
       "       4949.49333333, 4969.63666667, 4989.86333333, 5010.17      ,\n",
       "       5030.55666667, 5051.03      , 5071.58333333, 5092.22333333,\n",
       "       5112.95      , 5133.75666667, 5154.65      , 5175.62666667,\n",
       "       5196.69333333, 5217.84333333, 5239.07333333, 5260.39666667,\n",
       "       5281.80666667, 5303.3       , 5324.88      , 5346.55333333,\n",
       "       5368.31333333, 5390.16      , 5412.09333333, 5434.12333333,\n",
       "       5456.23333333, 5478.44333333, 5500.73333333, 5523.12333333,\n",
       "       5545.6       , 5568.17      , 5590.83      , 5613.58      ,\n",
       "       5636.42666667, 5659.36666667, 5682.39666667, 5705.52333333,\n",
       "       5728.74333333, 5752.05333333, 5775.46666667, 5798.97      ,\n",
       "       5822.57      , 5846.26333333, 5870.05666667, 5893.94666667,\n",
       "       5917.93333333, 5942.01333333, 5966.2       , 5990.48      ,\n",
       "       6014.85666667, 6039.33666667, 6063.91666667, 6088.59333333,\n",
       "       6113.37333333, 6138.25      , 6163.23333333, 6188.31333333,\n",
       "       6213.5       , 6238.78333333, 6264.17666667, 6289.67333333,\n",
       "       6315.26666667, 6340.96333333, 6366.77      , 6392.68333333,\n",
       "       6418.7       , 6444.82333333, 6471.04666667, 6497.38333333,\n",
       "       6523.82666667, 6550.37666667, 6577.03333333, 6603.8       ,\n",
       "       6630.67333333, 6657.66333333, 6684.75666667, 6711.96333333,\n",
       "       6739.27333333, 6766.7       , 6794.24      , 6821.89333333,\n",
       "       6849.65333333, 6877.52666667, 6905.51666667, 6933.62333333,\n",
       "       6961.84      , 6990.17333333])"
      ]
     },
     "execution_count": 47,
     "metadata": {},
     "output_type": "execute_result"
    }
   ],
   "source": [
    "wsum"
   ]
  },
  {
   "cell_type": "code",
   "execution_count": 52,
   "metadata": {},
   "outputs": [
    {
     "data": {
      "text/plain": [
       "(28.21666667000045, 27.98999999999978, 28.333333329999732)"
      ]
     },
     "execution_count": 52,
     "metadata": {},
     "output_type": "execute_result"
    }
   ],
   "source": [
    "6961.84-6933.62333333, 6905.51666667-6877.52666667, 6990.17333333-6961.84 "
   ]
  },
  {
   "cell_type": "code",
   "execution_count": 15,
   "metadata": {},
   "outputs": [
    {
     "data": {
      "text/plain": [
       "5.300663739442825"
      ]
     },
     "execution_count": 15,
     "metadata": {},
     "output_type": "execute_result"
    }
   ],
   "source": [
    "N=3\n",
    "i = 0\n",
    "flux[i:i+10].sum()"
   ]
  },
  {
   "cell_type": "code",
   "execution_count": 51,
   "metadata": {},
   "outputs": [
    {
     "data": {
      "text/plain": [
       "138"
      ]
     },
     "execution_count": 51,
     "metadata": {},
     "output_type": "execute_result"
    }
   ],
   "source": [
    "414/3"
   ]
  },
  {
   "cell_type": "code",
   "execution_count": 31,
   "metadata": {},
   "outputs": [
    {
     "data": {
      "text/plain": [
       "6882.18"
      ]
     },
     "execution_count": 31,
     "metadata": {},
     "output_type": "execute_result"
    }
   ],
   "source": [
    "N=2\n",
    "i = 400\n",
    "wvl[i:i+N].sum()/N"
   ]
  },
  {
   "cell_type": "code",
   "execution_count": 12,
   "metadata": {},
   "outputs": [
    {
     "data": {
      "text/plain": [
       "4004.48"
      ]
     },
     "execution_count": 12,
     "metadata": {},
     "output_type": "execute_result"
    }
   ],
   "source": [
    "(wvl[1]+wvl[0])/2"
   ]
  },
  {
   "cell_type": "code",
   "execution_count": 16,
   "metadata": {},
   "outputs": [
    {
     "data": {
      "text/plain": [
       "8008.96"
      ]
     },
     "execution_count": 16,
     "metadata": {},
     "output_type": "execute_result"
    }
   ],
   "source": [
    "wvl[0:2].sum()"
   ]
  },
  {
   "cell_type": "code",
   "execution_count": 17,
   "metadata": {},
   "outputs": [
    {
     "data": {
      "text/plain": [
       "0.8496889173984528"
      ]
     },
     "execution_count": 17,
     "metadata": {},
     "output_type": "execute_result"
    }
   ],
   "source": [
    "flux[0:2].sum()"
   ]
  },
  {
   "cell_type": "code",
   "execution_count": 19,
   "metadata": {},
   "outputs": [
    {
     "data": {
      "text/plain": [
       "(4001.77, 4007.19)"
      ]
     },
     "execution_count": 19,
     "metadata": {},
     "output_type": "execute_result"
    }
   ],
   "source": [
    "wvl[0],wvl[1]"
   ]
  },
  {
   "cell_type": "code",
   "execution_count": 21,
   "metadata": {},
   "outputs": [
    {
     "data": {
      "text/plain": [
       "0.8496889173984528"
      ]
     },
     "execution_count": 21,
     "metadata": {},
     "output_type": "execute_result"
    }
   ],
   "source": [
    "flux[0]+ flux[1]"
   ]
  },
  {
   "cell_type": "code",
   "execution_count": 23,
   "metadata": {},
   "outputs": [
    {
     "data": {
      "text/plain": [
       "10.860000000000127"
      ]
     },
     "execution_count": 23,
     "metadata": {},
     "output_type": "execute_result"
    }
   ],
   "source": [
    "b1 = (wvl[0]+wvl[1])/2\n",
    "b2 = (wvl[2]+wvl[3])/2\n",
    "b2-b1"
   ]
  },
  {
   "cell_type": "code",
   "execution_count": 23,
   "metadata": {},
   "outputs": [
    {
     "data": {
      "text/plain": [
       "array([0.33257899, 0.51710993])"
      ]
     },
     "execution_count": 23,
     "metadata": {},
     "output_type": "execute_result"
    }
   ],
   "source": [
    "flux[0:2]"
   ]
  },
  {
   "cell_type": "code",
   "execution_count": null,
   "metadata": {},
   "outputs": [],
   "source": []
  },
  {
   "cell_type": "code",
   "execution_count": 4,
   "metadata": {},
   "outputs": [],
   "source": [
    "def binspectra(wvl, flux, N):\n",
    "    wnew = [wvl[i:i+N].sum()/N for i in range(0,len(wvl),N)]\n",
    "    wnew = np.asarray(wnew)\n",
    "    fnew = [flux[i:i+N].sum() for i in range(0,len(wvl),N)]\n",
    "    fnew = np.asarray(fnew)\n",
    "\n",
    "    return wnew, fnew"
   ]
  },
  {
   "cell_type": "code",
   "execution_count": 5,
   "metadata": {},
   "outputs": [],
   "source": [
    "wvl = dataset5[\"11hs\"].wavelengths\n",
    "y_11hs = dataset5[\"11hs\"].data\n",
    "flux = y_11hs.astype('float64')"
   ]
  },
  {
   "cell_type": "code",
   "execution_count": 6,
   "metadata": {},
   "outputs": [],
   "source": [
    "newspectra = binspectra(wvl, flux, 2)\n",
    "newspectra10 = binspectra(wvl, flux, 10)"
   ]
  },
  {
   "cell_type": "code",
   "execution_count": 19,
   "metadata": {},
   "outputs": [
    {
     "data": {
      "text/plain": [
       "((41,), (41,))"
      ]
     },
     "execution_count": 19,
     "metadata": {},
     "output_type": "execute_result"
    }
   ],
   "source": [
    "newspectra10[0][0:-1].shape, newspectra10[1][0:-1].shape"
   ]
  },
  {
   "cell_type": "code",
   "execution_count": 21,
   "metadata": {},
   "outputs": [
    {
     "data": {
      "image/png": "[encoded data removed]",
      "text/plain": [
       "<Figure size 432x288 with 1 Axes>"
      ]
     },
     "metadata": {
      "needs_background": "light"
     },
     "output_type": "display_data"
    }
   ],
   "source": [
    "plt.plot(wvl, flux, c='xkcd:goldenrod', label=\"Original resolution\")\n",
    "plt.plot(newspectra10[0][0:-1], newspectra10[1][0:-1], c='tab:purple', label=\"1/10 resolution\")\n",
    "plt.xlabel('Wavelength', fontsize=14)\n",
    "plt.ylabel('Flux', fontsize=14)\n",
    "plt.title('11hs (5 days)', fontsize=16)\n",
    "plt.legend(bbox_to_anchor=(1.05, 1), loc='upper left', borderaxespad=0.)\n",
    "plt.show()"
   ]
  },
  {
   "cell_type": "code",
   "execution_count": 8,
   "metadata": {},
   "outputs": [
    {
     "data": {
      "image/png": "[encoded data removed]",
      "text/plain": [
       "<Figure size 432x288 with 1 Axes>"
      ]
     },
     "metadata": {
      "needs_background": "light"
     },
     "output_type": "display_data"
    }
   ],
   "source": [
    "plt.plot(wvl, flux, c='xkcd:goldenrod', label=\"Original resolution\")\n",
    "plt.plot(newspectra[0], newspectra[1], c='tab:purple', label=\"1/2 resolution\")\n",
    "plt.xlabel('Wavelength', fontsize=14)\n",
    "plt.ylabel('Flux', fontsize=14)\n",
    "plt.title('11hs (5 days)', fontsize=16)\n",
    "plt.legend(bbox_to_anchor=(1.05, 1), loc='upper left', borderaxespad=0.)\n",
    "plt.show()"
   ]
  },
  {
   "cell_type": "code",
   "execution_count": 41,
   "metadata": {},
   "outputs": [
    {
     "data": {
      "image/png": "[encoded data removed]",
      "text/plain": [
       "<Figure size 432x288 with 1 Axes>"
      ]
     },
     "metadata": {
      "needs_background": "light"
     },
     "output_type": "display_data"
    }
   ],
   "source": [
    "plt.plot(wvl, flux, 'o', markersize=3, c='xkcd:moss', label=\"Original resolution\")\n",
    "plt.plot(newspectra[0], newspectra[1], 'o', markersize=3, c='tab:purple', label=\"1/2 resolution\")\n",
    "plt.xlabel('Wavelength', fontsize=14)\n",
    "plt.ylabel('Flux', fontsize=14)\n",
    "plt.title('11hs (5 days)', fontsize=16)\n",
    "plt.legend(bbox_to_anchor=(1.05, 1), loc='upper left', borderaxespad=0.)\n",
    "plt.show()"
   ]
  },
  {
   "cell_type": "code",
   "execution_count": 19,
   "metadata": {},
   "outputs": [
    {
     "data": {
      "text/plain": [
       "0.01093102210184416"
      ]
     },
     "execution_count": 19,
     "metadata": {},
     "output_type": "execute_result"
    }
   ],
   "source": [
    "mean(flux)"
   ]
  },
  {
   "cell_type": "code",
   "execution_count": 20,
   "metadata": {},
   "outputs": [
    {
     "data": {
      "text/plain": [
       "0.02186204420368832"
      ]
     },
     "execution_count": 20,
     "metadata": {},
     "output_type": "execute_result"
    }
   ],
   "source": [
    "mean(newspectra[1])"
   ]
  },
  {
   "cell_type": "code",
   "execution_count": 43,
   "metadata": {},
   "outputs": [
    {
     "data": {
      "image/png": "[encoded data removed]",
      "text/plain": [
       "<Figure size 432x288 with 1 Axes>"
      ]
     },
     "metadata": {
      "needs_background": "light"
     },
     "output_type": "display_data"
    }
   ],
   "source": [
    "plt.plot(wvl, flux, c='xkcd:goldenrod', label=\"Original resolution\")\n",
    "plt.plot(newspectra10[0], newspectra10[1], c='tab:purple', label=\"1/10 resolution\")\n",
    "plt.xlabel('Wavelength', fontsize=14)\n",
    "plt.ylabel('Flux', fontsize=14)\n",
    "plt.title('11hs (5 days)', fontsize=16)\n",
    "plt.legend(bbox_to_anchor=(1.05, 1), loc='upper left', borderaxespad=0.)\n",
    "plt.show()"
   ]
  },
  {
   "cell_type": "code",
   "execution_count": 46,
   "metadata": {},
   "outputs": [
    {
     "data": {
      "text/plain": [
       "array([4026.256, 4081.136, 4136.762, 4193.147, 4250.299, 4308.23 ,\n",
       "       4366.952, 4426.476, 4486.805, 4547.963, 4609.954, 4672.785,\n",
       "       4736.477, 4801.036, 4866.472, 4932.805, 5000.04 , 5068.188,\n",
       "       5137.269, 5207.292, 5278.268, 5350.21 , 5423.135, 5497.052,\n",
       "       5571.978, 5647.924, 5724.905, 5802.937, 5882.03 , 5962.203,\n",
       "       6043.468, 6125.842, 6209.337, 6293.973, 6379.758, 6466.715,\n",
       "       6554.857, 6644.201, 6734.762, 6826.558, 6919.603, 2794.179])"
      ]
     },
     "execution_count": 46,
     "metadata": {},
     "output_type": "execute_result"
    }
   ],
   "source": [
    "newspectra10[0]"
   ]
  },
  {
   "cell_type": "code",
   "execution_count": 62,
   "metadata": {},
   "outputs": [
    {
     "data": {
      "text/plain": [
       "array([4001.77, 4007.19, 4012.62, 4018.06, 4023.5 , 4028.95, 4034.41,\n",
       "       4039.88, 4045.35, 4050.83, 4056.32, 4061.81, 4067.32, 4072.83,\n",
       "       4078.34, 4083.87, 4089.4 , 4094.94, 4100.49, 4106.04, 4111.61,\n",
       "       4117.18, 4122.75, 4128.34, 4133.93, 4139.53, 4145.14, 4150.75,\n",
       "       4156.38, 4162.01, 4167.65, 4173.29, 4178.95, 4184.61, 4190.28,\n",
       "       4195.95, 4201.64, 4207.33, 4213.03, 4218.74, 4224.45, 4230.18,\n",
       "       4235.91, 4241.64, 4247.39, 4253.14, 4258.91, 4264.68, 4270.45,\n",
       "       4276.24, 4282.03, 4287.83, 4293.64, 4299.46, 4305.28, 4311.12,\n",
       "       4316.96, 4322.8 , 4328.66, 4334.52, 4340.4 , 4346.28, 4352.16,\n",
       "       4358.06, 4363.96, 4369.88, 4375.8 , 4381.72, 4387.66, 4393.6 ,\n",
       "       4399.56, 4405.52, 4411.49, 4417.46, 4423.45, 4429.44, 4435.44,\n",
       "       4441.45, 4447.46, 4453.49, 4459.52, 4465.56, 4471.61, 4477.67,\n",
       "       4483.74, 4489.81, 4495.89, 4501.98, 4508.08, 4514.19, 4520.31,\n",
       "       4526.43, 4532.56, 4538.7 , 4544.85, 4551.01, 4557.17, 4563.35,\n",
       "       4569.53, 4575.72, 4581.92, 4588.13, 4594.34, 4600.57, 4606.8 ,\n",
       "       4613.04, 4619.29, 4625.55, 4631.81, 4638.09, 4644.37, 4650.66,\n",
       "       4656.96, 4663.27, 4669.59, 4675.92, 4682.25, 4688.59, 4694.94,\n",
       "       4701.3 , 4707.67, 4714.05, 4720.44, 4726.83, 4733.24, 4739.65,\n",
       "       4746.07, 4752.5 , 4758.94, 4765.38, 4771.84, 4778.3 , 4784.78,\n",
       "       4791.26, 4797.75, 4804.25, 4810.76, 4817.28, 4823.8 , 4830.34,\n",
       "       4836.88, 4843.43, 4849.99, 4856.56, 4863.14, 4869.73, 4876.33,\n",
       "       4882.94, 4889.55, 4896.17, 4902.81, 4909.45, 4916.1 , 4922.76,\n",
       "       4929.43, 4936.11, 4942.79, 4949.49, 4956.2 , 4962.91, 4969.63,\n",
       "       4976.37, 4983.11, 4989.86, 4996.62, 5003.39, 5010.17, 5016.95,\n",
       "       5023.75, 5030.55, 5037.37, 5044.19, 5051.03, 5057.87, 5064.72,\n",
       "       5071.58, 5078.45, 5085.33, 5092.22, 5099.12, 5106.03, 5112.95,\n",
       "       5119.87, 5126.81, 5133.75, 5140.71, 5147.67, 5154.65, 5161.63,\n",
       "       5168.62, 5175.62, 5182.64, 5189.66, 5196.69, 5203.73, 5210.78,\n",
       "       5217.84, 5224.91, 5231.98, 5239.07, 5246.17, 5253.28, 5260.39,\n",
       "       5267.52, 5274.66, 5281.8 , 5288.96, 5296.12, 5303.3 , 5310.48,\n",
       "       5317.67, 5324.88, 5332.09, 5339.32, 5346.55, 5353.79, 5361.05,\n",
       "       5368.31, 5375.58, 5382.86, 5390.16, 5397.46, 5404.77, 5412.09,\n",
       "       5419.42, 5426.77, 5434.12, 5441.48, 5448.85, 5456.23, 5463.62,\n",
       "       5471.03, 5478.44, 5485.86, 5493.29, 5500.73, 5508.18, 5515.65,\n",
       "       5523.12, 5530.6 , 5538.09, 5545.6 , 5553.11, 5560.63, 5568.17,\n",
       "       5575.71, 5583.26, 5590.83, 5598.4 , 5605.98, 5613.58, 5621.18,\n",
       "       5628.8 , 5636.42, 5644.06, 5651.71, 5659.36, 5667.03, 5674.71,\n",
       "       5682.39, 5690.09, 5697.8 , 5705.52, 5713.25, 5720.99, 5728.74,\n",
       "       5736.5 , 5744.27, 5752.05, 5759.84, 5767.65, 5775.46, 5783.29,\n",
       "       5791.12, 5798.97, 5806.82, 5814.69, 5822.57, 5830.45, 5838.35,\n",
       "       5846.26, 5854.18, 5862.11, 5870.05, 5878.01, 5885.97, 5893.94,\n",
       "       5901.93, 5909.92, 5917.93, 5925.95, 5933.97, 5942.01, 5950.06,\n",
       "       5958.12, 5966.2 , 5974.28, 5982.37, 5990.48, 5998.59, 6006.72,\n",
       "       6014.85, 6023.  , 6031.16, 6039.33, 6047.52, 6055.71, 6063.91,\n",
       "       6072.13, 6080.35, 6088.59, 6096.84, 6105.1 , 6113.37, 6121.65,\n",
       "       6129.94, 6138.25, 6146.56, 6154.89, 6163.23, 6171.58, 6179.94,\n",
       "       6188.31, 6196.69, 6205.09, 6213.5 , 6221.91, 6230.34, 6238.78,\n",
       "       6247.23, 6255.7 , 6264.17, 6272.66, 6281.16, 6289.67, 6298.19,\n",
       "       6306.72, 6315.26, 6323.82, 6332.38, 6340.96, 6349.55, 6358.15,\n",
       "       6366.77, 6375.39, 6384.03, 6392.68, 6401.34, 6410.01, 6418.7 ,\n",
       "       6427.39, 6436.1 , 6444.82, 6453.55, 6462.29, 6471.04, 6479.81,\n",
       "       6488.59, 6497.38, 6506.18, 6515.  , 6523.82, 6532.66, 6541.51,\n",
       "       6550.37, 6559.25, 6568.13, 6577.03, 6585.94, 6594.86, 6603.8 ,\n",
       "       6612.74, 6621.7 , 6630.67, 6639.65, 6648.65, 6657.66, 6666.68,\n",
       "       6675.71, 6684.75, 6693.81, 6702.88, 6711.96, 6721.05, 6730.15,\n",
       "       6739.27, 6748.4 , 6757.54, 6766.7 , 6775.86, 6785.04, 6794.24,\n",
       "       6803.44, 6812.66, 6821.89, 6831.13, 6840.38, 6849.65, 6858.93,\n",
       "       6868.22, 6877.52, 6886.84, 6896.17, 6905.51, 6914.87, 6924.24,\n",
       "       6933.62, 6943.01, 6952.42, 6961.83, 6971.27, 6980.71, 6990.17,\n",
       "       6999.64])"
      ]
     },
     "execution_count": 62,
     "metadata": {},
     "output_type": "execute_result"
    }
   ],
   "source": [
    "wvl"
   ]
  },
  {
   "cell_type": "code",
   "execution_count": 68,
   "metadata": {},
   "outputs": [
    {
     "data": {
      "text/plain": [
       "[<matplotlib.lines.Line2D at 0x7f9432601d90>]"
      ]
     },
     "execution_count": 68,
     "metadata": {},
     "output_type": "execute_result"
    },
    {
     "data": {
      "image/png": "[encoded data removed]",
      "text/plain": [
       "<Figure size 432x288 with 1 Axes>"
      ]
     },
     "metadata": {
      "needs_background": "light"
     },
     "output_type": "display_data"
    }
   ],
   "source": [
    "plt.plot(np.diff(np.log(wvl)))"
   ]
  },
  {
   "cell_type": "code",
   "execution_count": null,
   "metadata": {},
   "outputs": [],
   "source": []
  }
 ],
 "metadata": {
  "kernelspec": {
   "display_name": "Python 2",
   "language": "python",
   "name": "python2"
  },
  "language_info": {
   "codemirror_mode": {
    "name": "ipython",
    "version": 2
   },
   "file_extension": ".py",
   "mimetype": "text/x-python",
   "name": "python",
   "nbconvert_exporter": "python",
   "pygments_lexer": "ipython2",
   "version": "2.7.16"
  }
 },
 "nbformat": 4,
 "nbformat_minor": 2
}
