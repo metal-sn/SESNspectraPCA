{
 "cells": [
  {
   "cell_type": "code",
   "execution_count": 33,
   "metadata": {},
   "outputs": [],
   "source": [
    "from __future__ import print_function\n",
    "import SNIDsn\n",
    "import SNIDdataset as snid\n",
    "import numpy as np\n",
    "import SNePCA\n",
    "\n",
    "import plotly.plotly as ply\n",
    "import plotly.graph_objs as go\n",
    "import plotly.tools as tls\n",
    "\n",
    "import matplotlib.pyplot as plt\n",
    "\n",
    "import pandas\n",
    "import scipy\n",
    "from statistics import mean"
   ]
  },
  {
   "cell_type": "code",
   "execution_count": 34,
   "metadata": {},
   "outputs": [],
   "source": [
    "dataset0 = snid.loadPickle('../Data/DataProducts/dataset0.pickle')\n",
    "dataset5 = snid.loadPickle('../Data/DataProducts/dataset5.pickle')\n",
    "dataset10 = snid.loadPickle('../Data/DataProducts/dataset10.pickle')\n",
    "dataset15 = snid.loadPickle('../Data/DataProducts/dataset15.pickle')"
   ]
  },
  {
   "cell_type": "code",
   "execution_count": 3,
   "metadata": {},
   "outputs": [],
   "source": [
    "wvl = dataset5[\"11hs\"].wavelengths\n",
    "y_11hs = dataset5[\"11hs\"].data\n",
    "flux = y_11hs.astype('float64')"
   ]
  },
  {
   "cell_type": "code",
   "execution_count": 28,
   "metadata": {},
   "outputs": [
    {
     "data": {
      "text/plain": [
       "41.4"
      ]
     },
     "execution_count": 28,
     "metadata": {},
     "output_type": "execute_result"
    }
   ],
   "source": [
    "N = 10\n",
    "nw = len(wvl)\n",
    "float(nw)/N"
   ]
  },
  {
   "cell_type": "code",
   "execution_count": 13,
   "metadata": {
    "scrolled": true
   },
   "outputs": [],
   "source": [
    "fsum = [flux[i:i+54].sum() for i in range(0,413,54)]"
   ]
  },
  {
   "cell_type": "code",
   "execution_count": 6,
   "metadata": {},
   "outputs": [],
   "source": [
    "rebinned = np.arange(wstart, wend, wbin)"
   ]
  },
  {
   "cell_type": "code",
   "execution_count": 5,
   "metadata": {},
   "outputs": [
    {
     "ename": "NameError",
     "evalue": "name 'fsum' is not defined",
     "output_type": "error",
     "traceback": [
      "\u001b[0;31m---------------------------------------------------------------------------\u001b[0m",
      "\u001b[0;31mNameError\u001b[0m                                 Traceback (most recent call last)",
      "\u001b[0;32m<ipython-input-5-c3cbdd106ed7>\u001b[0m in \u001b[0;36m<module>\u001b[0;34m()\u001b[0m\n\u001b[0;32m----> 1\u001b[0;31m \u001b[0mplt\u001b[0m\u001b[0;34m.\u001b[0m\u001b[0mplot\u001b[0m\u001b[0;34m(\u001b[0m\u001b[0mwvl\u001b[0m\u001b[0;34m,\u001b[0m\u001b[0mfsum\u001b[0m\u001b[0;34m)\u001b[0m\u001b[0;34m\u001b[0m\u001b[0m\n\u001b[0m",
      "\u001b[0;31mNameError\u001b[0m: name 'fsum' is not defined"
     ]
    }
   ],
   "source": [
    "plt.plot(wvl,fsum)"
   ]
  },
  {
   "cell_type": "code",
   "execution_count": 4,
   "metadata": {},
   "outputs": [],
   "source": [
    "def binspec(wvl, wstart, wend, wbin):\n",
    "    nbin = (wend - wstart) / wbin + 1\n",
    "    nbin = int(np.ceil(nbin))\n",
    "    outlam = np.arange(nbin) * wbin + wstart\n",
    "    return outlam"
   ]
  },
  {
   "cell_type": "code",
   "execution_count": 5,
   "metadata": {},
   "outputs": [],
   "source": [
    "binspect = binspec(wvl, wstart, wend, wbin)"
   ]
  },
  {
   "cell_type": "code",
   "execution_count": 72,
   "metadata": {},
   "outputs": [],
   "source": [
    "binned = np.histogram(wvl, bins=277)\n",
    "binn = binned[1]"
   ]
  },
  {
   "cell_type": "code",
   "execution_count": 48,
   "metadata": {},
   "outputs": [
    {
     "data": {
      "text/plain": [
       "10.840000000000146"
      ]
     },
     "execution_count": 48,
     "metadata": {},
     "output_type": "execute_result"
    }
   ],
   "source": [
    "res = 2\n",
    "(wvl[1] - wvl[0])*res"
   ]
  },
  {
   "cell_type": "code",
   "execution_count": 55,
   "metadata": {},
   "outputs": [
    {
     "ename": "TypeError",
     "evalue": "range() integer end argument expected, got numpy.float64.",
     "output_type": "error",
     "traceback": [
      "\u001b[0;31m---------------------------------------------------------------------------\u001b[0m",
      "\u001b[0;31mTypeError\u001b[0m                                 Traceback (most recent call last)",
      "\u001b[0;32m<ipython-input-55-25c0307715bb>\u001b[0m in \u001b[0;36m<module>\u001b[0;34m()\u001b[0m\n\u001b[0;32m----> 1\u001b[0;31m \u001b[0;32mfor\u001b[0m \u001b[0mi\u001b[0m \u001b[0;32min\u001b[0m \u001b[0mrange\u001b[0m\u001b[0;34m(\u001b[0m\u001b[0mwstart\u001b[0m\u001b[0;34m,\u001b[0m \u001b[0mwend\u001b[0m\u001b[0;34m,\u001b[0m \u001b[0mwbin\u001b[0m\u001b[0;34m)\u001b[0m\u001b[0;34m:\u001b[0m\u001b[0;34m\u001b[0m\u001b[0m\n\u001b[0m\u001b[1;32m      2\u001b[0m     \u001b[0mflux\u001b[0m\u001b[0;34m[\u001b[0m\u001b[0mi\u001b[0m\u001b[0;34m:\u001b[0m\u001b[0mi\u001b[0m \u001b[0;34m+\u001b[0m \u001b[0mwbin\u001b[0m\u001b[0;34m.\u001b[0m\u001b[0msum\u001b[0m\u001b[0;34m(\u001b[0m\u001b[0;34m)\u001b[0m\u001b[0;34m]\u001b[0m\u001b[0;34m\u001b[0m\u001b[0m\n",
      "\u001b[0;31mTypeError\u001b[0m: range() integer end argument expected, got numpy.float64."
     ]
    }
   ],
   "source": [
    "for i in range(wstart, wend, wbin):\n",
    "    flux[i:i + wbin.sum()]"
   ]
  },
  {
   "cell_type": "code",
   "execution_count": 76,
   "metadata": {},
   "outputs": [],
   "source": [
    "for i in range(4010, 6990, 10):\n",
    "    fsum = flux[i:i+10].sum()"
   ]
  },
  {
   "cell_type": "code",
   "execution_count": 77,
   "metadata": {},
   "outputs": [
    {
     "data": {
      "text/plain": [
       "0.0"
      ]
     },
     "execution_count": 77,
     "metadata": {},
     "output_type": "execute_result"
    }
   ],
   "source": [
    "fsum"
   ]
  },
  {
   "cell_type": "code",
   "execution_count": 70,
   "metadata": {},
   "outputs": [
    {
     "data": {
      "text/plain": [
       "(10.783705035971252,\n",
       " 10.783705035971252,\n",
       " 10.783705035971252,\n",
       " 10.783705035971252)"
      ]
     },
     "execution_count": 70,
     "metadata": {},
     "output_type": "execute_result"
    }
   ],
   "source": [
    "binn[1]-binn[0],binn[2]-binn[1],binn[3]-binn[2],binn[-1]-binn[-2]"
   ]
  },
  {
   "cell_type": "code",
   "execution_count": null,
   "metadata": {},
   "outputs": [],
   "source": []
  },
  {
   "cell_type": "code",
   "execution_count": 39,
   "metadata": {},
   "outputs": [
    {
     "data": {
      "text/plain": [
       "(10.840000000000146,\n",
       " 10.840000000000146,\n",
       " 10.840000000000146,\n",
       " 10.840000000000146)"
      ]
     },
     "execution_count": 39,
     "metadata": {},
     "output_type": "execute_result"
    }
   ],
   "source": [
    "binspect[1]-binspect[0],binspect[2]-binspect[1],binspect[3]-binspect[2],binspect[-1]-binspect[-2]"
   ]
  },
  {
   "cell_type": "code",
   "execution_count": 6,
   "metadata": {},
   "outputs": [],
   "source": []
  },
  {
   "cell_type": "code",
   "execution_count": 81,
   "metadata": {},
   "outputs": [],
   "source": []
  },
  {
   "cell_type": "code",
   "execution_count": null,
   "metadata": {},
   "outputs": [],
   "source": []
  },
  {
   "cell_type": "code",
   "execution_count": null,
   "metadata": {},
   "outputs": [],
   "source": []
  },
  {
   "cell_type": "code",
   "execution_count": null,
   "metadata": {},
   "outputs": [],
   "source": []
  },
  {
   "cell_type": "code",
   "execution_count": null,
   "metadata": {},
   "outputs": [],
   "source": []
  },
  {
   "cell_type": "code",
   "execution_count": null,
   "metadata": {},
   "outputs": [],
   "source": []
  },
  {
   "cell_type": "code",
   "execution_count": null,
   "metadata": {},
   "outputs": [],
   "source": []
  },
  {
   "cell_type": "code",
   "execution_count": null,
   "metadata": {},
   "outputs": [],
   "source": []
  },
  {
   "cell_type": "code",
   "execution_count": null,
   "metadata": {},
   "outputs": [],
   "source": []
  },
  {
   "cell_type": "code",
   "execution_count": null,
   "metadata": {},
   "outputs": [],
   "source": []
  },
  {
   "cell_type": "code",
   "execution_count": null,
   "metadata": {},
   "outputs": [],
   "source": []
  },
  {
   "cell_type": "code",
   "execution_count": null,
   "metadata": {},
   "outputs": [],
   "source": []
  },
  {
   "cell_type": "code",
   "execution_count": null,
   "metadata": {},
   "outputs": [],
   "source": []
  },
  {
   "cell_type": "code",
   "execution_count": null,
   "metadata": {},
   "outputs": [],
   "source": []
  },
  {
   "cell_type": "code",
   "execution_count": null,
   "metadata": {},
   "outputs": [],
   "source": []
  },
  {
   "cell_type": "code",
   "execution_count": null,
   "metadata": {},
   "outputs": [],
   "source": [
    "for i in range(4010, 6990, 10):\n",
    "    fsum = flux[i:i+10].sum()"
   ]
  },
  {
   "cell_type": "code",
   "execution_count": 103,
   "metadata": {},
   "outputs": [],
   "source": [
    "for i in range(4010, 6990, 10):\n",
    "    fsum = flux[i:i+10].sum()"
   ]
  },
  {
   "cell_type": "code",
   "execution_count": 45,
   "metadata": {},
   "outputs": [],
   "source": [
    "N=3\n",
    "#i = 0\n",
    "wsum = [wvl[i:i+N].sum()/N for i in range(0,len(wvl),N)]\n",
    "wsum = np.asarray(wsum)"
   ]
  },
  {
   "cell_type": "code",
   "execution_count": 46,
   "metadata": {},
   "outputs": [
    {
     "data": {
      "text/plain": [
       "(138,)"
      ]
     },
     "execution_count": 46,
     "metadata": {},
     "output_type": "execute_result"
    }
   ],
   "source": [
    "wsum.shape"
   ]
  },
  {
   "cell_type": "code",
   "execution_count": null,
   "metadata": {},
   "outputs": [],
   "source": []
  },
  {
   "cell_type": "code",
   "execution_count": 52,
   "metadata": {},
   "outputs": [
    {
     "data": {
      "text/plain": [
       "(28.21666667000045, 27.98999999999978, 28.333333329999732)"
      ]
     },
     "execution_count": 52,
     "metadata": {},
     "output_type": "execute_result"
    }
   ],
   "source": [
    "6961.84-6933.62333333, 6905.51666667-6877.52666667, 6990.17333333-6961.84 "
   ]
  },
  {
   "cell_type": "code",
   "execution_count": 15,
   "metadata": {},
   "outputs": [
    {
     "data": {
      "text/plain": [
       "5.300663739442825"
      ]
     },
     "execution_count": 15,
     "metadata": {},
     "output_type": "execute_result"
    }
   ],
   "source": [
    "N=3\n",
    "i = 0\n",
    "flux[i:i+10].sum()"
   ]
  },
  {
   "cell_type": "code",
   "execution_count": 51,
   "metadata": {},
   "outputs": [
    {
     "data": {
      "text/plain": [
       "138"
      ]
     },
     "execution_count": 51,
     "metadata": {},
     "output_type": "execute_result"
    }
   ],
   "source": [
    "414/3"
   ]
  },
  {
   "cell_type": "code",
   "execution_count": 31,
   "metadata": {},
   "outputs": [
    {
     "data": {
      "text/plain": [
       "6882.18"
      ]
     },
     "execution_count": 31,
     "metadata": {},
     "output_type": "execute_result"
    }
   ],
   "source": [
    "N=2\n",
    "i = 400\n",
    "wvl[i:i+N].sum()/N"
   ]
  },
  {
   "cell_type": "code",
   "execution_count": 12,
   "metadata": {},
   "outputs": [
    {
     "data": {
      "text/plain": [
       "4004.48"
      ]
     },
     "execution_count": 12,
     "metadata": {},
     "output_type": "execute_result"
    }
   ],
   "source": [
    "(wvl[1]+wvl[0])/2"
   ]
  },
  {
   "cell_type": "code",
   "execution_count": 16,
   "metadata": {},
   "outputs": [
    {
     "data": {
      "text/plain": [
       "8008.96"
      ]
     },
     "execution_count": 16,
     "metadata": {},
     "output_type": "execute_result"
    }
   ],
   "source": [
    "wvl[0:2].sum()"
   ]
  },
  {
   "cell_type": "code",
   "execution_count": 17,
   "metadata": {},
   "outputs": [
    {
     "data": {
      "text/plain": [
       "0.8496889173984528"
      ]
     },
     "execution_count": 17,
     "metadata": {},
     "output_type": "execute_result"
    }
   ],
   "source": [
    "flux[0:2].sum()"
   ]
  },
  {
   "cell_type": "code",
   "execution_count": 19,
   "metadata": {},
   "outputs": [
    {
     "data": {
      "text/plain": [
       "(4001.77, 4007.19)"
      ]
     },
     "execution_count": 19,
     "metadata": {},
     "output_type": "execute_result"
    }
   ],
   "source": [
    "wvl[0],wvl[1]"
   ]
  },
  {
   "cell_type": "code",
   "execution_count": 21,
   "metadata": {},
   "outputs": [
    {
     "data": {
      "text/plain": [
       "0.8496889173984528"
      ]
     },
     "execution_count": 21,
     "metadata": {},
     "output_type": "execute_result"
    }
   ],
   "source": [
    "flux[0]+ flux[1]"
   ]
  },
  {
   "cell_type": "code",
   "execution_count": 23,
   "metadata": {},
   "outputs": [
    {
     "data": {
      "text/plain": [
       "10.860000000000127"
      ]
     },
     "execution_count": 23,
     "metadata": {},
     "output_type": "execute_result"
    }
   ],
   "source": [
    "b1 = (wvl[0]+wvl[1])/2\n",
    "b2 = (wvl[2]+wvl[3])/2\n",
    "b2-b1"
   ]
  },
  {
   "cell_type": "code",
   "execution_count": 23,
   "metadata": {},
   "outputs": [
    {
     "data": {
      "text/plain": [
       "array([0.33257899, 0.51710993])"
      ]
     },
     "execution_count": 23,
     "metadata": {},
     "output_type": "execute_result"
    }
   ],
   "source": [
    "flux[0:2]"
   ]
  },
  {
   "cell_type": "code",
   "execution_count": null,
   "metadata": {},
   "outputs": [],
   "source": [
    "# Summed Spectra with unpaired binns removed."
   ]
  },
  {
   "cell_type": "code",
   "execution_count": 18,
   "metadata": {},
   "outputs": [],
   "source": [
    "N = 10\n",
    "nw = len(wvl)\n",
    "nbins = float(nw)/N\n",
    "rembin = int(nbins)\n",
    "rembin2 = rembin*N\n",
    "unpairedbins = nw - rembin2\n",
    "def evenodd(nbin):\n",
    "    if float(nbins).is_integer():\n",
    "        k = (0, 0)\n",
    "    else:\n",
    "        if (unpairedbins % 2) == 0:\n",
    "            k = (int(unpairedbins/2), int(unpairedbins/2))\n",
    "        else:\n",
    "            k = (int(unpairedbins/2), int(unpairedbins/2+1))\n",
    "    return k\n",
    "unpaired = evenodd(nbins)\n",
    "l = unpaired[0]\n",
    "m = unpaired[1]"
   ]
  },
  {
   "cell_type": "code",
   "execution_count": 19,
   "metadata": {},
   "outputs": [],
   "source": [
    "def binspectra(wvl, flux, N):\n",
    "    wnew = [wvl[i:i+N].sum()/N for i in range(0+l,len(wvl)-m,N)]\n",
    "    wnew = np.asarray(wnew)\n",
    "    fnew = [flux[i:i+N].sum() for i in range(0+l,len(wvl)-m,N)]\n",
    "    fnew = np.asarray(fnew)\n",
    "\n",
    "    return wnew, fnew"
   ]
  },
  {
   "cell_type": "code",
   "execution_count": 8,
   "metadata": {},
   "outputs": [],
   "source": [
    "wvl = dataset5[\"11hs\"].wavelengths\n",
    "y_11hs = dataset5[\"11hs\"].data\n",
    "flux = y_11hs.astype('float64')"
   ]
  },
  {
   "cell_type": "code",
   "execution_count": 23,
   "metadata": {},
   "outputs": [],
   "source": [
    "newspectra10 = binspectra(wvl, flux, N)"
   ]
  },
  {
   "cell_type": "code",
   "execution_count": 21,
   "metadata": {},
   "outputs": [
    {
     "data": {
      "text/plain": [
       "((41,), (41,))"
      ]
     },
     "execution_count": 21,
     "metadata": {},
     "output_type": "execute_result"
    }
   ],
   "source": [
    "newspectra[0].shape, newspectra[1].shape"
   ]
  },
  {
   "cell_type": "code",
   "execution_count": 24,
   "metadata": {},
   "outputs": [
    {
     "data": {
      "image/png": "[encoded data removed]",
      "text/plain": [
       "<Figure size 432x288 with 1 Axes>"
      ]
     },
     "metadata": {
      "needs_background": "light"
     },
     "output_type": "display_data"
    }
   ],
   "source": [
    "plt.plot(wvl, flux, c='xkcd:goldenrod', label=\"Original resolution\")\n",
    "plt.plot(newspectra10[0][0:-1], newspectra10[1][0:-1], c='tab:purple', label=\"1/10 resolution\")\n",
    "plt.xlabel('Wavelength', fontsize=14)\n",
    "plt.ylabel('Flux', fontsize=14)\n",
    "plt.title('11hs (5 days)', fontsize=16)\n",
    "plt.legend(bbox_to_anchor=(1.05, 1), loc='upper left', borderaxespad=0.)\n",
    "plt.show()"
   ]
  },
  {
   "cell_type": "code",
   "execution_count": 8,
   "metadata": {},
   "outputs": [
    {
     "data": {
      "image/png": "[encoded data removed]",
      "text/plain": [
       "<Figure size 432x288 with 1 Axes>"
      ]
     },
     "metadata": {
      "needs_background": "light"
     },
     "output_type": "display_data"
    }
   ],
   "source": [
    "plt.plot(wvl, flux, c='xkcd:goldenrod', label=\"Original resolution\")\n",
    "plt.plot(newspectra[0], newspectra[1], c='tab:purple', label=\"1/2 resolution\")\n",
    "plt.xlabel('Wavelength', fontsize=14)\n",
    "plt.ylabel('Flux', fontsize=14)\n",
    "plt.title('11hs (5 days)', fontsize=16)\n",
    "plt.legend(bbox_to_anchor=(1.05, 1), loc='upper left', borderaxespad=0.)\n",
    "plt.show()"
   ]
  },
  {
   "cell_type": "code",
   "execution_count": 41,
   "metadata": {},
   "outputs": [
    {
     "data": {
      "image/png": "[encoded data removed]",
      "text/plain": [
       "<Figure size 432x288 with 1 Axes>"
      ]
     },
     "metadata": {
      "needs_background": "light"
     },
     "output_type": "display_data"
    }
   ],
   "source": [
    "plt.plot(wvl, flux, 'o', markersize=3, c='xkcd:moss', label=\"Original resolution\")\n",
    "plt.plot(newspectra[0], newspectra[1], 'o', markersize=3, c='tab:purple', label=\"1/2 resolution\")\n",
    "plt.xlabel('Wavelength', fontsize=14)\n",
    "plt.ylabel('Flux', fontsize=14)\n",
    "plt.title('11hs (5 days)', fontsize=16)\n",
    "plt.legend(bbox_to_anchor=(1.05, 1), loc='upper left', borderaxespad=0.)\n",
    "plt.show()"
   ]
  },
  {
   "cell_type": "code",
   "execution_count": 19,
   "metadata": {},
   "outputs": [
    {
     "data": {
      "text/plain": [
       "0.01093102210184416"
      ]
     },
     "execution_count": 19,
     "metadata": {},
     "output_type": "execute_result"
    }
   ],
   "source": [
    "mean(flux)"
   ]
  },
  {
   "cell_type": "code",
   "execution_count": 20,
   "metadata": {},
   "outputs": [
    {
     "data": {
      "text/plain": [
       "0.02186204420368832"
      ]
     },
     "execution_count": 20,
     "metadata": {},
     "output_type": "execute_result"
    }
   ],
   "source": [
    "mean(newspectra[1])"
   ]
  },
  {
   "cell_type": "code",
   "execution_count": 43,
   "metadata": {},
   "outputs": [
    {
     "data": {
      "image/png": "[encoded data removed]",
      "text/plain": [
       "<Figure size 432x288 with 1 Axes>"
      ]
     },
     "metadata": {
      "needs_background": "light"
     },
     "output_type": "display_data"
    }
   ],
   "source": [
    "plt.plot(wvl, flux, c='xkcd:goldenrod', label=\"Original resolution\")\n",
    "plt.plot(newspectra10[0], newspectra10[1], c='tab:purple', label=\"1/10 resolution\")\n",
    "plt.xlabel('Wavelength', fontsize=14)\n",
    "plt.ylabel('Flux', fontsize=14)\n",
    "plt.title('11hs (5 days)', fontsize=16)\n",
    "plt.legend(bbox_to_anchor=(1.05, 1), loc='upper left', borderaxespad=0.)\n",
    "plt.show()"
   ]
  },
  {
   "cell_type": "code",
   "execution_count": 22,
   "metadata": {},
   "outputs": [
    {
     "data": {
      "text/plain": [
       "array([4037.173, 4092.202, 4147.977, 4204.516, 4261.822, 4319.912,\n",
       "       4378.792, 4438.476, 4498.971, 4560.294, 4622.452, 4685.454,\n",
       "       4749.319, 4814.053, 4879.667, 4946.179, 5013.596, 5081.93 ,\n",
       "       5151.197, 5221.411, 5292.578, 5364.717, 5437.838, 5511.956,\n",
       "       5587.085, 5663.237, 5740.427, 5818.67 , 5897.978, 5978.368,\n",
       "       6059.854, 6142.451, 6226.172, 6311.037, 6397.056, 6484.248,\n",
       "       6572.629, 6662.216, 6753.021, 6845.066, 6938.365])"
      ]
     },
     "execution_count": 22,
     "metadata": {},
     "output_type": "execute_result"
    }
   ],
   "source": [
    "newspectra[0]"
   ]
  },
  {
   "cell_type": "code",
   "execution_count": 46,
   "metadata": {},
   "outputs": [
    {
     "data": {
      "text/plain": [
       "array([4026.256, 4081.136, 4136.762, 4193.147, 4250.299, 4308.23 ,\n",
       "       4366.952, 4426.476, 4486.805, 4547.963, 4609.954, 4672.785,\n",
       "       4736.477, 4801.036, 4866.472, 4932.805, 5000.04 , 5068.188,\n",
       "       5137.269, 5207.292, 5278.268, 5350.21 , 5423.135, 5497.052,\n",
       "       5571.978, 5647.924, 5724.905, 5802.937, 5882.03 , 5962.203,\n",
       "       6043.468, 6125.842, 6209.337, 6293.973, 6379.758, 6466.715,\n",
       "       6554.857, 6644.201, 6734.762, 6826.558, 6919.603, 2794.179])"
      ]
     },
     "execution_count": 46,
     "metadata": {},
     "output_type": "execute_result"
    }
   ],
   "source": [
    "newspectra10[0]"
   ]
  },
  {
   "cell_type": "code",
   "execution_count": 15,
   "metadata": {},
   "outputs": [],
   "source": [
    "abcd = [4026.256, 4081.136, 4136.762, 4193.147, 4250.299, 4308.23 ,\n",
    "       4366.952, 4426.476, 4486.805, 4547.963, 4609.954, 4672.785,\n",
    "       4736.477, 4801.036, 4866.472, 4932.805, 5000.04 , 5068.188,\n",
    "       5137.269, 5207.292, 5278.268, 5350.21 , 5423.135, 5497.052,\n",
    "       5571.978, 5647.924, 5724.905, 5802.937, 5882.03 , 5962.203,\n",
    "       6043.468, 6125.842, 6209.337, 6293.973, 6379.758, 6466.715,\n",
    "       6554.857, 6644.201, 6734.762, 6826.558, 6919.603, 2794.179]\n",
    "abcd = np.asarray(abcd)"
   ]
  },
  {
   "cell_type": "code",
   "execution_count": 17,
   "metadata": {},
   "outputs": [
    {
     "data": {
      "text/plain": [
       "(42,)"
      ]
     },
     "execution_count": 17,
     "metadata": {},
     "output_type": "execute_result"
    }
   ],
   "source": [
    "abcd.shape"
   ]
  },
  {
   "cell_type": "code",
   "execution_count": 68,
   "metadata": {},
   "outputs": [
    {
     "data": {
      "text/plain": [
       "[<matplotlib.lines.Line2D at 0x7f9432601d90>]"
      ]
     },
     "execution_count": 68,
     "metadata": {},
     "output_type": "execute_result"
    },
    {
     "data": {
      "image/png": "[encoded data removed]",
      "text/plain": [
       "<Figure size 432x288 with 1 Axes>"
      ]
     },
     "metadata": {
      "needs_background": "light"
     },
     "output_type": "display_data"
    }
   ],
   "source": [
    "plt.plot(np.diff(np.log(wvl)))"
   ]
  },
  {
   "cell_type": "code",
   "execution_count": 28,
   "metadata": {},
   "outputs": [
    {
     "data": {
      "text/plain": [
       "4002.5"
      ]
     },
     "execution_count": 28,
     "metadata": {},
     "output_type": "execute_result"
    }
   ],
   "source": [
    "array2 = np.arange(4000., 5000., 5.)\n",
    "i = 0\n",
    "N = 2\n",
    "array2[i:i+N].sum()/N"
   ]
  },
  {
   "cell_type": "code",
   "execution_count": 35,
   "metadata": {},
   "outputs": [
    {
     "data": {
      "text/plain": [
       "{'Ph3.83': array([0.21516965, 0.0944399 , 0.09951722, 0.08448192, 0.08339248,\n",
       "        0.08399675, 0.07757377, 0.07267247, 0.06883018, 0.06539096,\n",
       "        0.0484643 , 0.04830791, 0.04986932, 0.04469601, 0.04339134,\n",
       "        0.04357966, 0.04377947, 0.03183452, 0.03165743, 0.02459961,\n",
       "        0.02258622, 0.02222731, 0.02172999, 0.02226035, 0.01973522,\n",
       "        0.01952721, 0.01808126, 0.01820297, 0.02322535, 0.02318157,\n",
       "        0.02335367, 0.01875043, 0.01917442, 0.01924513, 0.020257  ,\n",
       "        0.02067099, 0.02067583, 0.01957453, 0.01962741, 0.01919481,\n",
       "        0.0196591 , 0.01965696, 0.01985228, 0.02126113, 0.02120512,\n",
       "        0.02091904, 0.02088226, 0.01766653, 0.01766741, 0.0178373 ,\n",
       "        0.01778535, 0.01690684, 0.01706031, 0.01607965, 0.01540572,\n",
       "        0.01535161, 0.01544185, 0.01622465, 0.01669212, 0.01637208,\n",
       "        0.01660345, 0.01656243, 0.01400571, 0.01404563, 0.01361999,\n",
       "        0.01383505, 0.01419688, 0.01415678, 0.01282868, 0.01203526,\n",
       "        0.01301516, 0.01342109, 0.01348024, 0.01339472, 0.01340054,\n",
       "        0.01351574, 0.01252742, 0.01230425, 0.01652157, 0.01637942,\n",
       "        0.01761227, 0.01805704, 0.01822592, 0.01867231, 0.01810811,\n",
       "        0.01816109, 0.01785645, 0.01700081, 0.01734829, 0.01803347,\n",
       "        0.01902047, 0.01909242, 0.01982016, 0.01979569, 0.02043015,\n",
       "        0.02092117, 0.02142104, 0.01857976, 0.02225605, 0.02428572,\n",
       "        0.02429801, 0.02434387, 0.02446689, 0.02487413, 0.02501933,\n",
       "        0.02568266, 0.02453357, 0.02564882, 0.02956135, 0.02978935,\n",
       "        0.02928552, 0.02926829, 0.02928677, 0.02928731, 0.02950254,\n",
       "        0.02833631, 0.02790399, 0.02621944, 0.02470836, 0.02470044,\n",
       "        0.02458553, 0.02429488, 0.02353304, 0.02300882, 0.02240163,\n",
       "        0.0214406 , 0.0213792 , 0.01739965, 0.01582252, 0.01590797,\n",
       "        0.01640116, 0.01609463, 0.01596225, 0.01576183, 0.01575204,\n",
       "        0.01674433, 0.01666681, 0.01657331, 0.01561552, 0.0159975 ,\n",
       "        0.01601057, 0.01623693, 0.01786978, 0.01622422, 0.0161967 ,\n",
       "        0.01714793, 0.01703928, 0.01595796, 0.01666756, 0.01569757,\n",
       "        0.01726999, 0.01723066, 0.01909827, 0.01980034, 0.01911687,\n",
       "        0.01923228, 0.01987808, 0.02068014, 0.02029431, 0.02034227,\n",
       "        0.02023793, 0.01789038, 0.01852111, 0.01906409, 0.01674236,\n",
       "        0.0159848 , 0.01585559, 0.01400341, 0.01338238, 0.01269232,\n",
       "        0.01277534, 0.01150153, 0.01154093, 0.01140325, 0.01161279,\n",
       "        0.01093336, 0.00969889, 0.00995128, 0.00988363, 0.00967866,\n",
       "        0.00970009, 0.00872427, 0.00790671, 0.00792158, 0.00795958,\n",
       "        0.00781512, 0.00807645, 0.00832893, 0.0090901 , 0.00911265,\n",
       "        0.00912734, 0.00997205, 0.01114667, 0.01023648, 0.01027947,\n",
       "        0.01023868, 0.01037071, 0.00973826, 0.01000432, 0.0094122 ,\n",
       "        0.00937042, 0.009623  , 0.00953045, 0.00919368, 0.00997613,\n",
       "        0.01020521, 0.01020952, 0.01038641, 0.01086733, 0.01205492,\n",
       "        0.01172775, 0.01137606, 0.01192416, 0.01195485, 0.01184422,\n",
       "        0.01174326, 0.01144968, 0.01008466, 0.0098469 , 0.00964167,\n",
       "        0.00966014, 0.01044086, 0.01080356, 0.01059401, 0.00992224,\n",
       "        0.0095538 , 0.00950969, 0.00927801, 0.00868128, 0.00903165,\n",
       "        0.00853813, 0.00841287, 0.00844253, 0.00857565, 0.00970259,\n",
       "        0.00988739, 0.01009325, 0.00969671, 0.00971395, 0.00969554,\n",
       "        0.01058929, 0.00961637, 0.00912109, 0.00918481, 0.00948167,\n",
       "        0.00938729, 0.00960174, 0.00963809, 0.01037496, 0.01091745,\n",
       "        0.01132013, 0.01029162, 0.0106767 , 0.01174599, 0.01439545,\n",
       "        0.01569211, 0.01736195, 0.01823263, 0.01896722, 0.01747826,\n",
       "        0.01734323, 0.0170637 , 0.01727353, 0.01784783, 0.01758591,\n",
       "        0.01662099, 0.01582654, 0.01402361, 0.01068573, 0.01198433,\n",
       "        0.01122769, 0.01113409, 0.01113221, 0.01078698, 0.01156246,\n",
       "        0.01276738, 0.01633409, 0.01790859, 0.01871543, 0.01984904,\n",
       "        0.02036787, 0.02041059, 0.02052357, 0.02102648, 0.02069218,\n",
       "        0.02085772, 0.02053982, 0.02142349, 0.02002875, 0.01958352,\n",
       "        0.01971295, 0.0196321 , 0.01922088, 0.02006118, 0.01995485,\n",
       "        0.01846203, 0.01515134, 0.01272179, 0.01232497, 0.01224483,\n",
       "        0.0110487 , 0.00837305, 0.00837002, 0.00774942, 0.0078507 ,\n",
       "        0.00769214, 0.00728731, 0.0072913 , 0.00730206, 0.007974  ,\n",
       "        0.0079557 , 0.0079796 , 0.00776347, 0.00813615, 0.00882184,\n",
       "        0.01039001, 0.01060028, 0.01063515, 0.01087683, 0.01091421,\n",
       "        0.01079858, 0.01085154, 0.01117981, 0.01136156, 0.01131511,\n",
       "        0.0116453 , 0.01204699, 0.01249087, 0.01215676, 0.01232296,\n",
       "        0.01401555, 0.01580571, 0.01791721, 0.01829961, 0.01703138,\n",
       "        0.01510946, 0.01399153, 0.01425034, 0.01327012, 0.01253251,\n",
       "        0.01202885, 0.01182978, 0.01153168, 0.01045009, 0.01199805,\n",
       "        0.01206159, 0.01190821, 0.01091907, 0.0103588 , 0.01044618,\n",
       "        0.00999261, 0.00895512, 0.00984489, 0.00994147, 0.01010392,\n",
       "        0.01010403, 0.00991722, 0.01254932, 0.01227383, 0.0132463 ,\n",
       "        0.01283272, 0.01320478, 0.01374453, 0.01329311, 0.01401175,\n",
       "        0.01381111, 0.01381854, 0.01316672, 0.01209642, 0.01184651,\n",
       "        0.01115482, 0.01115776, 0.01120862, 0.01139207, 0.01049478,\n",
       "        0.00927028, 0.00815344, 0.00734582, 0.00708539, 0.00770271,\n",
       "        0.00775813, 0.00770778, 0.00770496, 0.00754906, 0.00785625,\n",
       "        0.01002024, 0.00991344, 0.00985241, 0.00859224, 0.00961364,\n",
       "        0.01036913, 0.01210479, 0.01332192, 0.01331161, 0.01323796,\n",
       "        0.01345578, 0.01347707, 0.01731306, 0.01813235, 0.01818214,\n",
       "        0.02093188, 0.02589329, 0.02603536, 0.03638055, 0.07531047,\n",
       "        0.07879199, 0.08352616, 0.08959197, 0.09700951, 0.10495624,\n",
       "        0.11839237, 0.13733348, 0.13077194, 0.29859684])}"
      ]
     },
     "execution_count": 35,
     "metadata": {},
     "output_type": "execute_result"
    }
   ],
   "source": [
    "dataset0[\"11hs\"].smooth_uncertainty"
   ]
  },
  {
   "cell_type": "markdown",
   "metadata": {},
   "source": [
    "dataset0[\"11hs\"].smooth_uncertainty"
   ]
  },
  {
   "cell_type": "code",
   "execution_count": null,
   "metadata": {},
   "outputs": [],
   "source": []
  }
 ],
 "metadata": {
  "kernelspec": {
   "display_name": "Python 2",
   "language": "python",
   "name": "python2"
  },
  "language_info": {
   "codemirror_mode": {
    "name": "ipython",
    "version": 2
   },
   "file_extension": ".py",
   "mimetype": "text/x-python",
   "name": "python",
   "nbconvert_exporter": "python",
   "pygments_lexer": "ipython2",
   "version": "2.7.16"
  }
 },
 "nbformat": 4,
 "nbformat_minor": 2
}
