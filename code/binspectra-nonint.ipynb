{
 "cells": [
  {
   "cell_type": "code",
   "execution_count": 1,
   "metadata": {},
   "outputs": [],
   "source": [
    "# Load required packages\n",
    "\n",
    "from __future__ import print_function, division\n",
    "import SNIDsn\n",
    "import SNIDdataset as snid\n",
    "import numpy as np\n",
    "import SNePCA\n",
    "\n",
    "import plotly.plotly as ply\n",
    "import plotly.graph_objs as go\n",
    "import plotly.tools as tls\n",
    "\n",
    "import matplotlib.pyplot as plt\n",
    "\n",
    "import pandas\n",
    "import scipy\n",
    "from statistics import mean"
   ]
  },
  {
   "cell_type": "code",
   "execution_count": 2,
   "metadata": {},
   "outputs": [],
   "source": [
    "# Load pickled data\n",
    "\n",
    "dataset0 = snid.loadPickle('../Data/DataProducts/dataset0.pickle')\n",
    "dataset5 = snid.loadPickle('../Data/DataProducts/dataset5.pickle')\n",
    "dataset10 = snid.loadPickle('../Data/DataProducts/dataset10.pickle')\n",
    "dataset15 = snid.loadPickle('../Data/DataProducts/dataset15.pickle')"
   ]
  },
  {
   "cell_type": "code",
   "execution_count": 17,
   "metadata": {},
   "outputs": [],
   "source": [
    "# Wavelength, Flux and Uncertainty arrays for supernova 'sn2004gq'.\n",
    "\n",
    "wvl = dataset15[\"sn2009iz\"].wavelengths\n",
    "y_11hs = dataset15[\"sn2009iz\"].data\n",
    "flux = y_11hs.astype('float64')\n",
    "uncer = dataset15[\"sn2009iz\"].smooth_uncertainty['Ph12.9']"
   ]
  },
  {
   "cell_type": "code",
   "execution_count": null,
   "metadata": {},
   "outputs": [],
   "source": [
    "# Summing uncertainties in non-integer bins.\n",
    "def nonintuncer(uncer, N):\n",
    "    N1 = int(N)\n",
    "    n = N - N1\n",
    "    n2 = N - N1\n",
    "    i = 0\n",
    "    newbins = []\n",
    "    newbins.append(np.sum(np.square(uncer[i:i + N1])) + np.square(n * uncer[i + N1]))\n",
    "    while i < len(uncer) - np.ceil(N) - N1:\n",
    "        i = i + N1\n",
    "        N1 = int(N - (1 - n)) + 1\n",
    "        newbins.append(np.square((1 - n) * uncer[i]))\n",
    "        n = N - (N1 - 1 + (1 - n))\n",
    "        newbins[-1] += np.sum(np.square(uncer[i + 1:i + N1])) + np.square(n * uncer[i + N1])\n",
    "    return np.sqrt(newbins)"
   ]
  },
  {
   "cell_type": "code",
   "execution_count": null,
   "metadata": {},
   "outputs": [],
   "source": [
    "# Summing flux in Non-integer bins.\n",
    "def nonintflux(flux, N):\n",
    "    N1 = int(N)\n",
    "    n = N - N1\n",
    "    n2 = N - N1\n",
    "    i = 0\n",
    "    newbins = []\n",
    "    newbins.append(flux[i:i + N1].sum() + n * flux[i + N1]) \n",
    "    #print(newbins)\n",
    "    while i < len(flux) - np.ceil(N) - N1:\n",
    "        #print(i, N1)\n",
    "        i = i + N1\n",
    "        N1 = int(N - (1 - n)) + 1\n",
    "        newbins.append((1 - n) * flux[i])\n",
    "        n = N - (N1 - 1 + (1 - n))\n",
    "        print(i, N1, n)\n",
    "        #print(n)\n",
    "        #print(1-n)\n",
    "        newbins[-1] += flux[i + 1:i + N1].sum() + n * flux[i + N1]\n",
    "    return np.array(newbins)"
   ]
  },
  {
   "cell_type": "code",
   "execution_count": null,
   "metadata": {},
   "outputs": [],
   "source": [
    "# The function that takes in old wavelength bins and give back the new reduced resolution bins by\n",
    "# any non-integer factor N.\n",
    "def nonintwavbins(wvl, N):\n",
    "    N1 = int(N)\n",
    "    N3 = int(N)\n",
    "    n = N - N1\n",
    "    n0 = N - N1\n",
    "    N2 = int(np.ceil(N))\n",
    "    i = 0\n",
    "    k = 0\n",
    "    obl = wvl[i+1] - wvl[i]\n",
    "    obr = float(obl)/2\n",
    "    nbl = obl*N\n",
    "    nbr = float(nbl)/2\n",
    "    brdiff = nbr - obr\n",
    "    newbins = []\n",
    "    nbnctr = wvl[i] + brdiff\n",
    "    newbins.append(nbnctr)\n",
    "    while i < len(wvl) - np.ceil(N) - N1:\n",
    "        i = i + N1\n",
    "        k = k + N3\n",
    "        obl = wvl[i+1] - wvl[i]\n",
    "        obr = float(obl)/2\n",
    "        nbl = obl*N\n",
    "        nbr = float(nbl)/2\n",
    "        brdiff = nbr - obr\n",
    "        N1 = int(N - (1 - n)) + 1\n",
    "        N3 = int(N - (1 - n0)) + 1\n",
    "        n0 = N - (N1 - n0)\n",
    "        nbnctr +=  (1 - n) * (wvl[i+1] - wvl[i])  + wvl[i + N1] - wvl[i + 1] + n0 * (wvl[i + N1] - wvl[i + N1 - 1])\n",
    "        newbins.append(nbnctr)\n",
    "        n = N - (N1 - n)\n",
    "    return np.array(newbins)"
   ]
  },
  {
   "cell_type": "code",
   "execution_count": 18,
   "metadata": {},
   "outputs": [],
   "source": [
    "# Function that reduces the resolution of a given spectrum by any non-integer number N. It takes \n",
    "# wavelength, flux and uncertainty arrays as input and gives back the new wavelength, flux and uncertainty arrays\n",
    "# of the reduced resolution spectrum.\n",
    "\n",
    "def nonintspecres(wvl, flux, uncer, N):\n",
    "    N1 = int(N)\n",
    "    N3 = int(N)\n",
    "    n = N - N1\n",
    "    n0 = N - N1\n",
    "    N2 = int(np.ceil(N))\n",
    "    i = 0\n",
    "    k = 0\n",
    "    obl = wvl[i+1] - wvl[i]\n",
    "    obr = float(obl)/2\n",
    "    nbl = obl*N\n",
    "    nbr = float(nbl)/2\n",
    "    brdiff = nbr - obr\n",
    "    newbins = []\n",
    "    newflux = []\n",
    "    newuncer = []\n",
    "    nbnctr = wvl[i] + brdiff\n",
    "    newbins.append(nbnctr)\n",
    "    newflux.append(flux[i:i + N1].sum() + n * flux[i + N1])\n",
    "    newuncer.append(np.sqrt(np.sum(np.square(uncer[i:i + N1])) + np.square(n * uncer[i + N1])))\n",
    "    while i < len(wvl) - np.ceil(N) - N1:\n",
    "        i = i + N1\n",
    "        k = k + N3\n",
    "        obl = wvl[i+1] - wvl[i]\n",
    "        obr = float(obl)/2\n",
    "        nbl = obl*N\n",
    "        nbr = float(nbl)/2\n",
    "        brdiff = nbr - obr\n",
    "        N1 = int(N - (1 - n)) + 1\n",
    "        N3 = int(N - (1 - n0)) + 1\n",
    "        n0 = N - (N1 - n0)\n",
    "        nbnctr +=  (1 - n) * (wvl[i+1] - wvl[i])  + wvl[i + N1] - wvl[i + 1] + n0 * (wvl[i + N1] - wvl[i + N1 - 1])\n",
    "        newbins.append(nbnctr)\n",
    "        newflux.append((1 - n) * flux[i] + flux[i + 1:i + N1].sum() + n0 * flux[i + N1])\n",
    "        newuncer.append(np.sqrt(np.square((1 - n) * uncer[i]) + np.sum(np.square(uncer[i + 1:i + N1])) + np.square(n0 * uncer[i + N1])))\n",
    "        n = N - (N1 - n)\n",
    "    return np.array(newbins), np.array(newflux), np.array(newuncer)"
   ]
  },
  {
   "cell_type": "code",
   "execution_count": 19,
   "metadata": {},
   "outputs": [],
   "source": [
    "newspectra = nonintspecres(wvl, flux, uncer, 10.3)"
   ]
  },
  {
   "cell_type": "code",
   "execution_count": 20,
   "metadata": {},
   "outputs": [
    {
     "data": {
      "text/plain": [
       "((40,), (40,), (40,))"
      ]
     },
     "execution_count": 20,
     "metadata": {},
     "output_type": "execute_result"
    }
   ],
   "source": [
    "newspectra[0].shape, newspectra[1].shape, newspectra[2].shape"
   ]
  },
  {
   "cell_type": "code",
   "execution_count": 22,
   "metadata": {},
   "outputs": [
    {
     "data": {
      "image/png": "[encoded data removed]",
      "text/plain": [
       "<Figure size 432x288 with 1 Axes>"
      ]
     },
     "metadata": {
      "needs_background": "light"
     },
     "output_type": "display_data"
    }
   ],
   "source": [
    "# Spectrum of \"X\" with the uncertainty.\n",
    "\n",
    "plt.errorbar(wvl, flux, c='xkcd:red',yerr=uncer, xerr=None,\n",
    "             fmt='.', ecolor=None, elinewidth=None, capsize=None, \n",
    "             barsabove=True, lolims=False, uplims=False, xlolims=False, \n",
    "             xuplims=False, errorevery=1, capthick=None, data=None, label=\"Original resolution\")\n",
    "plt.errorbar(newspectra[0], newspectra[1], c='xkcd:dark teal',yerr=newspectra[2], \n",
    "             xerr=None, fmt='', ecolor=None, elinewidth=None, capsize=None, barsabove=True, \n",
    "             lolims=False, uplims=False, xlolims=False, xuplims=False, errorevery=1, capthick=None, \n",
    "             data=None, label=\"1/10.3 resolution\")\n",
    "plt.xlabel('Wavelength', fontsize=14)\n",
    "plt.ylabel('Flux', fontsize=14)\n",
    "plt.title('sn2009iz (15 days)', fontsize=16)\n",
    "plt.legend(bbox_to_anchor=(1.05, 1), loc='upper left', borderaxespad=0.)\n",
    "#plt.xlim(4550, 5000)\n",
    "#plt.ylim(-0.1, 0.1)\n",
    "plt.show()"
   ]
  },
  {
   "cell_type": "code",
   "execution_count": null,
   "metadata": {},
   "outputs": [],
   "source": []
  },
  {
   "cell_type": "code",
   "execution_count": null,
   "metadata": {},
   "outputs": [],
   "source": []
  }
 ],
 "metadata": {
  "kernelspec": {
   "display_name": "Python 3",
   "language": "python",
   "name": "python3"
  },
  "language_info": {
   "codemirror_mode": {
    "name": "ipython",
    "version": 3
   },
   "file_extension": ".py",
   "mimetype": "text/x-python",
   "name": "python",
   "nbconvert_exporter": "python",
   "pygments_lexer": "ipython3",
   "version": "3.7.3"
  }
 },
 "nbformat": 4,
 "nbformat_minor": 2
}
