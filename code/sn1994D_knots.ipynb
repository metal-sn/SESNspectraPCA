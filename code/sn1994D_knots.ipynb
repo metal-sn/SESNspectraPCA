{
 "cells": [
  {
   "cell_type": "code",
   "execution_count": 1,
   "metadata": {},
   "outputs": [],
   "source": [
    "import numpy as np"
   ]
  },
  {
   "cell_type": "code",
   "execution_count": 165,
   "metadata": {},
   "outputs": [],
   "source": [
    "sn04gt = \"Tutorial_Data/sn1994D_test.txt\""
   ]
  },
  {
   "cell_type": "code",
   "execution_count": 167,
   "metadata": {},
   "outputs": [
    {
     "data": {
      "text/plain": [
       "array([[2501.69,    0.  ,    0.  , ...,    0.  ,    0.  ,    0.  ],\n",
       "       [2505.08,    0.  ,    0.  , ...,    0.  ,    0.  ,    0.  ],\n",
       "       [2508.48,    0.  ,    0.  , ...,    0.  ,    0.  ,    0.  ],\n",
       "       ...,\n",
       "       [9966.21,    0.  ,    0.  , ...,    0.  ,    0.  ,    0.  ],\n",
       "       [9979.71,    0.  ,    0.  , ...,    0.  ,    0.  ,    0.  ],\n",
       "       [9993.24,    0.  ,    0.  , ...,    0.  ,    0.  ,    0.  ]])"
      ]
     },
     "execution_count": 167,
     "metadata": {},
     "output_type": "execute_result"
    }
   ],
   "source": [
    "data = np.loadtxt(sn04gt, skiprows=1)\n",
    "data"
   ]
  },
  {
   "cell_type": "code",
   "execution_count": 168,
   "metadata": {},
   "outputs": [],
   "source": [
    "wvl = data[::, 0]\n",
    "phase1 = data[::, 1]\n",
    "phase2 = data[::, 2]\n",
    "phase3 = data[::, 3]\n",
    "phase4 = data[::, 4]\n",
    "phase5 = data[::, 5]\n",
    "phase6 = data[::, 6]\n",
    "phase7 = data[::, 7]\n",
    "phase8 = data[::, 8]\n",
    "phase9 = data[::, 9]\n",
    "phase10 = data[::, 10]\n",
    "phase11 = data[::, 11]\n",
    "phase12 = data[::, 12]\n",
    "phase13 = data[::, 13]"
   ]
  },
  {
   "cell_type": "code",
   "execution_count": 169,
   "metadata": {},
   "outputs": [
    {
     "data": {
      "text/plain": [
       "(245, 1022)"
      ]
     },
     "execution_count": 169,
     "metadata": {},
     "output_type": "execute_result"
    }
   ],
   "source": [
    "def find_endpoints(phase):\n",
    "    l1 = -1 #placeholder index\n",
    "    wvl_lst = []\n",
    "    for i in range(len(phase)):\n",
    "        if phase[i] != 0 and l1 == -1:\n",
    "            l1 = i\n",
    "        if phase[i] == 0 and l1 != -1:\n",
    "            l2 = i - 1\n",
    "    return l1, l2\n",
    "\n",
    "find_endpoints(phase3)"
   ]
  },
  {
   "cell_type": "code",
   "execution_count": 170,
   "metadata": {},
   "outputs": [],
   "source": [
    "def calc_knots(phase):\n",
    "    nknot = 0\n",
    "    kwidth = 1024 // 13\n",
    "    nave = 0\n",
    "    wave = 0\n",
    "    fave = 0\n",
    "    l1, l2 = find_endpoints(phase)\n",
    "    knot_lst = []\n",
    "    for i in range(1024):\n",
    "        if i > l1 and i < l2:\n",
    "            nave += 1\n",
    "            wave += i - 0.5\n",
    "            fave += phase[i]\n",
    "        if i % kwidth == 0:\n",
    "            if nave > 0 and fave > 0:\n",
    "                nknot += 1\n",
    "                xknot = wave / nave\n",
    "                yknot = np.log10(fave / nave)\n",
    "                knot_tuple = (np.log10(xknot), yknot)\n",
    "                knot_lst.append(knot_tuple)\n",
    "            nave = 0\n",
    "            wave = 0\n",
    "            fave = 0\n",
    "    return nknot, knot_lst"
   ]
  },
  {
   "cell_type": "code",
   "execution_count": 171,
   "metadata": {},
   "outputs": [
    {
     "data": {
      "text/plain": [
       "(6,\n",
       " [(2.1818435879447726, -2.789146634685107),\n",
       "  (2.290034611362518, -1.12844203212595),\n",
       "  (2.545307116465824, -1.040408287248053),\n",
       "  (2.705007959333336, -2.3606156856482285),\n",
       "  (2.7671558660821804, -1.8043131848809382),\n",
       "  (2.869818207979328, -1.3049451044361366)])"
      ]
     },
     "execution_count": 171,
     "metadata": {},
     "output_type": "execute_result"
    }
   ],
   "source": [
    "calc_knots(phase1)"
   ]
  },
  {
   "cell_type": "code",
   "execution_count": 172,
   "metadata": {},
   "outputs": [
    {
     "data": {
      "text/plain": [
       "(7,\n",
       " [(2.307496037913213, -0.5927461964180868),\n",
       "  (2.436162647040756, -2.6087933739869227),\n",
       "  (2.545307116465824, -1.1865729892678134),\n",
       "  (2.7671558660821804, -1.697580260808013),\n",
       "  (2.869818207979328, -1.2410105134474687),\n",
       "  (2.952792443044092, -1.0981645959177957),\n",
       "  (2.989004615698537, -3.716003343634799)])"
      ]
     },
     "execution_count": 172,
     "metadata": {},
     "output_type": "execute_result"
    }
   ],
   "source": [
    "calc_knots(phase2)"
   ]
  },
  {
   "cell_type": "code",
   "execution_count": 173,
   "metadata": {},
   "outputs": [
    {
     "data": {
      "text/plain": [
       "(4,\n",
       " [(2.545307116465824, -1.147410539413594),\n",
       "  (2.705007959333336, -2.148584837962051),\n",
       "  (2.7671558660821804, -2.326246784016963),\n",
       "  (2.869818207979328, -1.4120876597333296)])"
      ]
     },
     "execution_count": 173,
     "metadata": {},
     "output_type": "execute_result"
    }
   ],
   "source": [
    "calc_knots(phase3)"
   ]
  },
  {
   "cell_type": "code",
   "execution_count": 174,
   "metadata": {},
   "outputs": [
    {
     "data": {
      "text/plain": [
       "(6,\n",
       " [(2.4785664955938436, -1.66940177369331),\n",
       "  (2.545307116465824, -1.1639032041005337),\n",
       "  (2.705007959333336, -2.8920946026904915),\n",
       "  (2.7671558660821804, -1.9436816369118795),\n",
       "  (2.869818207979328, -1.6167832481486686),\n",
       "  (2.9132839017604186, -2.5210267404187445)])"
      ]
     },
     "execution_count": 174,
     "metadata": {},
     "output_type": "execute_result"
    }
   ],
   "source": [
    "calc_knots(phase4)"
   ]
  },
  {
   "cell_type": "code",
   "execution_count": 175,
   "metadata": {},
   "outputs": [
    {
     "data": {
      "text/plain": [
       "(5,\n",
       " [(2.4927603890268375, -2.346787486224656),\n",
       "  (2.545307116465824, -1.5199193165754166),\n",
       "  (2.705007959333336, -2.8093092323740274),\n",
       "  (2.7671558660821804, -1.9647242396514564),\n",
       "  (2.869818207979328, -1.6788425504940838)])"
      ]
     },
     "execution_count": 175,
     "metadata": {},
     "output_type": "execute_result"
    }
   ],
   "source": [
    "calc_knots(phase5)"
   ]
  },
  {
   "cell_type": "code",
   "execution_count": 176,
   "metadata": {},
   "outputs": [
    {
     "data": {
      "text/plain": [
       "(5,\n",
       " [(2.4835872969688944, -2.5850266520291822),\n",
       "  (2.545307116465824, -1.2192581485190834),\n",
       "  (2.705007959333336, -2.812913356642852),\n",
       "  (2.7671558660821804, -1.8614948807245293),\n",
       "  (2.869818207979328, -1.5086383061657274)])"
      ]
     },
     "execution_count": 176,
     "metadata": {},
     "output_type": "execute_result"
    }
   ],
   "source": [
    "calc_knots(phase6)"
   ]
  },
  {
   "cell_type": "code",
   "execution_count": 177,
   "metadata": {},
   "outputs": [
    {
     "data": {
      "text/plain": [
       "(5,\n",
       " [(2.4785664955938436, -1.8999429117577578),\n",
       "  (2.545307116465824, -1.2179686199477724),\n",
       "  (2.7671558660821804, -2.303262877096274),\n",
       "  (2.869818207979328, -1.7682429617233943),\n",
       "  (2.9132839017604186, -3.2018985226619665)])"
      ]
     },
     "execution_count": 177,
     "metadata": {},
     "output_type": "execute_result"
    }
   ],
   "source": [
    "calc_knots(phase7)"
   ]
  },
  {
   "cell_type": "code",
   "execution_count": 178,
   "metadata": {},
   "outputs": [
    {
     "data": {
      "text/plain": [
       "(5,\n",
       " [(2.184691430817599, -1.8805241590932023),\n",
       "  (2.290034611362518, -1.1015279775444038),\n",
       "  (2.545307116465824, -1.40227669438903),\n",
       "  (2.7671558660821804, -2.0838836297662593),\n",
       "  (2.821513528404773, -2.4296966047915234)])"
      ]
     },
     "execution_count": 178,
     "metadata": {},
     "output_type": "execute_result"
    }
   ],
   "source": [
    "calc_knots(phase8)"
   ]
  },
  {
   "cell_type": "code",
   "execution_count": 179,
   "metadata": {},
   "outputs": [
    {
     "data": {
      "text/plain": [
       "(7,\n",
       " [(2.3483048630481607, -2.0435696044124994),\n",
       "  (2.545307116465824, -1.4647708163332334),\n",
       "  (2.6324572921847245, -2.029367074372506),\n",
       "  (2.705007959333336, -2.2001294999231202),\n",
       "  (2.869818207979328, -2.3828920803593774),\n",
       "  (2.952792443044092, -1.8738102942639496),\n",
       "  (2.989004615698537, -2.4855544222565267)])"
      ]
     },
     "execution_count": 179,
     "metadata": {},
     "output_type": "execute_result"
    }
   ],
   "source": [
    "calc_knots(phase9)"
   ]
  },
  {
   "cell_type": "code",
   "execution_count": 180,
   "metadata": {},
   "outputs": [
    {
     "data": {
      "text/plain": [
       "(7,\n",
       " [(2.4785664955938436, -2.9444826721501687),\n",
       "  (2.545307116465824, -1.2274526271343547),\n",
       "  (2.6324572921847245, -2.7131176553973084),\n",
       "  (2.7671558660821804, -2.3530185038977036),\n",
       "  (2.821513528404773, -3.159700842867506),\n",
       "  (2.869818207979328, -2.085914628706593),\n",
       "  (2.9132839017604186, -3.219996744754763)])"
      ]
     },
     "execution_count": 180,
     "metadata": {},
     "output_type": "execute_result"
    }
   ],
   "source": [
    "calc_knots(phase10)"
   ]
  },
  {
   "cell_type": "code",
   "execution_count": 181,
   "metadata": {},
   "outputs": [
    {
     "data": {
      "text/plain": [
       "(7,\n",
       " [(2.290034611362518, -1.3893944273799177),\n",
       "  (2.545307116465824, -1.4357285695614375),\n",
       "  (2.6324572921847245, -2.27614455103408),\n",
       "  (2.7671558660821804, -2.162120316990925),\n",
       "  (2.821513528404773, -2.846771623903826),\n",
       "  (2.952792443044092, -1.9451513319926548),\n",
       "  (2.989004615698537, -2.006733382658968)])"
      ]
     },
     "execution_count": 181,
     "metadata": {},
     "output_type": "execute_result"
    }
   ],
   "source": [
    "calc_knots(phase11)"
   ]
  },
  {
   "cell_type": "code",
   "execution_count": 182,
   "metadata": {},
   "outputs": [
    {
     "data": {
      "text/plain": [
       "(6,\n",
       " [(2.545307116465824, -1.2383034153026682),\n",
       "  (2.6324572921847245, -2.4237472722783253),\n",
       "  (2.7671558660821804, -2.339426386578287),\n",
       "  (2.821513528404773, -2.4149733479708213),\n",
       "  (2.869818207979328, -2.359340223697983),\n",
       "  (2.9132839017604186, -3.072550667148612)])"
      ]
     },
     "execution_count": 182,
     "metadata": {},
     "output_type": "execute_result"
    }
   ],
   "source": [
    "calc_knots(phase12)"
   ]
  },
  {
   "cell_type": "code",
   "execution_count": 190,
   "metadata": {},
   "outputs": [
    {
     "data": {
      "text/plain": [
       "(6,\n",
       " [(2.545307116465824, -1.2261385732365238),\n",
       "  (2.6324572921847245, -2.400732908856208),\n",
       "  (2.7671558660821804, -2.3157532524846873),\n",
       "  (2.821513528404773, -2.150155524961282),\n",
       "  (2.869818207979328, -3.4771212547196684),\n",
       "  (2.9132839017604186, -3.159700842867512)])"
      ]
     },
     "execution_count": 190,
     "metadata": {},
     "output_type": "execute_result"
    }
   ],
   "source": [
    "calc_knots(phase13)"
   ]
  },
  {
   "cell_type": "code",
   "execution_count": null,
   "metadata": {},
   "outputs": [],
   "source": []
  }
 ],
 "metadata": {
  "kernelspec": {
   "display_name": "Python 3",
   "language": "python",
   "name": "python3"
  },
  "language_info": {
   "codemirror_mode": {
    "name": "ipython",
    "version": 3
   },
   "file_extension": ".py",
   "mimetype": "text/x-python",
   "name": "python",
   "nbconvert_exporter": "python",
   "pygments_lexer": "ipython3",
   "version": "3.6.7"
  }
 },
 "nbformat": 4,
 "nbformat_minor": 4
}
