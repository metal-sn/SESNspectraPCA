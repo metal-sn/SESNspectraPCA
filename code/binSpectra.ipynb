{
 "cells": [
  {
   "cell_type": "code",
   "execution_count": 1,
   "metadata": {},
   "outputs": [],
   "source": [
    "from __future__ import print_function\n",
    "import SNIDsn\n",
    "import SNIDdataset as snid\n",
    "import numpy as np\n",
    "import SNePCA\n",
    "\n",
    "import plotly.plotly as ply\n",
    "import plotly.graph_objs as go\n",
    "import plotly.tools as tls\n",
    "\n",
    "import matplotlib.pyplot as plt\n",
    "\n",
    "import pandas\n",
    "import scipy"
   ]
  },
  {
   "cell_type": "markdown",
   "metadata": {
    "collapsed": true
   },
   "source": [
    "### Load preprocessed SNID datasets "
   ]
  },
  {
   "cell_type": "markdown",
   "metadata": {},
   "source": [
    "datasetX contains the SNID spectra for the phase range X +/- 5 days, where each SNe has only 1 spectrum in this phase range.  The spectrum with phase closest to X is chosen. All of the preprocessing has been applied (wavelength cut, smoothing, phase type, etc)"
   ]
  },
  {
   "cell_type": "code",
   "execution_count": 2,
   "metadata": {},
   "outputs": [],
   "source": [
    "dataset0 = snid.loadPickle('../Data/DataProducts/dataset0.pickle')\n",
    "dataset5 = snid.loadPickle('../Data/DataProducts/dataset5.pickle')\n",
    "dataset10 = snid.loadPickle('../Data/DataProducts/dataset10.pickle')\n",
    "dataset15 = snid.loadPickle('../Data/DataProducts/dataset15.pickle')"
   ]
  },
  {
   "cell_type": "code",
   "execution_count": null,
   "metadata": {},
   "outputs": [],
   "source": [
    "dataset15"
   ]
  },
  {
   "cell_type": "code",
   "execution_count": null,
   "metadata": {},
   "outputs": [],
   "source": [
    "dataset15_list = list(dataset15.keys())"
   ]
  },
  {
   "cell_type": "code",
   "execution_count": null,
   "metadata": {},
   "outputs": [],
   "source": [
    "plt.plot(x_{},y_{},\\'g\\') \\nplt.xlabel(\\'Wavelength\\', fontsize=14) \\nplt.ylabel(\\'Flux\\', fontsize=14) \\nplt.title(\\'{} (15 days)\\', fontsize=16) \\nplt.show()"
   ]
  },
  {
   "cell_type": "code",
   "execution_count": null,
   "metadata": {},
   "outputs": [],
   "source": [
    "for index in range(len(dataset15_list)):\n",
    "    print(\"plt.plot(x_{},y_{},\\'g\\') \\nplt.xlabel(\\'Wavelength\\', fontsize=14) \\nplt.ylabel(\\'Flux\\', fontsize=14) \\nplt.title(\\'{} (15 days)\\', fontsize=16) \\nplt.show()\".format(dataset15_list[index], dataset15_list[index],dataset15_list[index]))"
   ]
  },
  {
   "cell_type": "code",
   "execution_count": null,
   "metadata": {},
   "outputs": [],
   "source": [
    "for index in range(len(dataset15_list)):\n",
    "    print(\"plt.plot(x_{},y_{})\".format(dataset15_list[index],dataset15_list[index]))"
   ]
  },
  {
   "cell_type": "code",
   "execution_count": null,
   "metadata": {},
   "outputs": [],
   "source": [
    "for index in range(len(dataset15_list)):\n",
    "    print(\"x_{} = dataset15[\\\"{}\\\"].wavelengths \\ny_{} = dataset15[\\\"{}\\\"].data\".format(dataset15_list[index], dataset15_list[index],dataset15_list[index], dataset15_list[index]))"
   ]
  },
  {
   "cell_type": "code",
   "execution_count": null,
   "metadata": {},
   "outputs": [],
   "source": [
    "np.random.seed = 100\n",
    "plt.plot(np.random.rand(100))"
   ]
  },
  {
   "cell_type": "code",
   "execution_count": null,
   "metadata": {},
   "outputs": [],
   "source": [
    "np.random.seed(100)\n",
    "plt.plot(np.histogram)"
   ]
  },
  {
   "cell_type": "code",
   "execution_count": null,
   "metadata": {},
   "outputs": [],
   "source": [
    "np.histogram(np.random.rand(100), np.arange(0, 100, 10))"
   ]
  },
  {
   "cell_type": "code",
   "execution_count": null,
   "metadata": {},
   "outputs": [],
   "source": []
  },
  {
   "cell_type": "code",
   "execution_count": null,
   "metadata": {},
   "outputs": [],
   "source": []
  },
  {
   "cell_type": "code",
   "execution_count": null,
   "metadata": {},
   "outputs": [],
   "source": []
  },
  {
   "cell_type": "code",
   "execution_count": null,
   "metadata": {},
   "outputs": [],
   "source": [
    "x_11hs = dataset5[\"11hs\"].wavelengths\n",
    "y_11hs = dataset5[\"11hs\"].data"
   ]
  },
  {
   "cell_type": "code",
   "execution_count": null,
   "metadata": {},
   "outputs": [],
   "source": [
    "y_11hs.dtype"
   ]
  },
  {
   "cell_type": "code",
   "execution_count": null,
   "metadata": {},
   "outputs": [],
   "source": [
    "y_11hs_2 = y_11hs.astype('float64')"
   ]
  },
  {
   "cell_type": "code",
   "execution_count": null,
   "metadata": {},
   "outputs": [],
   "source": [
    "y_11hs_2.dtype"
   ]
  },
  {
   "cell_type": "code",
   "execution_count": null,
   "metadata": {},
   "outputs": [],
   "source": [
    "y_11hs_2"
   ]
  },
  {
   "cell_type": "code",
   "execution_count": null,
   "metadata": {},
   "outputs": [],
   "source": [
    "plt.plot(x_11hs,y_11hs)\n",
    "plt.xlabel('Wavelength', fontsize=14)\n",
    "plt.ylabel('Flux', fontsize=14)\n",
    "plt.title('11hs (5 days)', fontsize=16)\n",
    "plt.show()"
   ]
  },
  {
   "cell_type": "code",
   "execution_count": null,
   "metadata": {},
   "outputs": [],
   "source": [
    "x.shape,y.shape"
   ]
  },
  {
   "cell_type": "code",
   "execution_count": null,
   "metadata": {},
   "outputs": [],
   "source": [
    "len(x)"
   ]
  },
  {
   "cell_type": "code",
   "execution_count": null,
   "metadata": {},
   "outputs": [],
   "source": [
    "plt.hist?\n"
   ]
  },
  {
   "cell_type": "code",
   "execution_count": null,
   "metadata": {},
   "outputs": [],
   "source": [
    "plt.hist(x, bins=20, alpha=0.5,\n",
    "         histtype='step', color='blue')\n",
    "         #edgecolor='none');"
   ]
  },
  {
   "cell_type": "code",
   "execution_count": null,
   "metadata": {},
   "outputs": [],
   "source": [
    "counts, bin_edges = np.histogram(x, bins=20)\n",
    "print(counts)"
   ]
  },
  {
   "cell_type": "code",
   "execution_count": null,
   "metadata": {},
   "outputs": [],
   "source": [
    "bin_edges = np.histogram(x_11hs, bins=276)"
   ]
  },
  {
   "cell_type": "code",
   "execution_count": null,
   "metadata": {},
   "outputs": [],
   "source": [
    "bin_edges"
   ]
  },
  {
   "cell_type": "code",
   "execution_count": null,
   "metadata": {},
   "outputs": [],
   "source": []
  },
  {
   "cell_type": "code",
   "execution_count": null,
   "metadata": {},
   "outputs": [],
   "source": [
    "bin_wave = bin_edges[1]"
   ]
  },
  {
   "cell_type": "code",
   "execution_count": null,
   "metadata": {},
   "outputs": [],
   "source": [
    "bin_wave.shape"
   ]
  },
  {
   "cell_type": "code",
   "execution_count": null,
   "metadata": {},
   "outputs": [],
   "source": [
    "bin_wave[0]-bin_wave[1],bin_wave[1]-bin_wave[2],bin_wave[2]-bin_wave[3]"
   ]
  },
  {
   "cell_type": "code",
   "execution_count": null,
   "metadata": {},
   "outputs": [],
   "source": [
    "x_11hs"
   ]
  },
  {
   "cell_type": "code",
   "execution_count": null,
   "metadata": {},
   "outputs": [],
   "source": [
    "x_11hs[0] - x_11hs[1], x_11hs[1] - x_11hs[2], x_11hs[2] - x_11hs[3], x_11hs[3] - x_11hs[4]"
   ]
  },
  {
   "cell_type": "code",
   "execution_count": null,
   "metadata": {},
   "outputs": [],
   "source": [
    "(x_11hs[0] - x_11hs[1])*2"
   ]
  },
  {
   "cell_type": "code",
   "execution_count": null,
   "metadata": {},
   "outputs": [],
   "source": []
  },
  {
   "cell_type": "code",
   "execution_count": null,
   "metadata": {},
   "outputs": [],
   "source": []
  },
  {
   "cell_type": "code",
   "execution_count": null,
   "metadata": {},
   "outputs": [],
   "source": [
    "len(bin_edges)"
   ]
  },
  {
   "cell_type": "code",
   "execution_count": null,
   "metadata": {},
   "outputs": [],
   "source": [
    "yy = bin_edges[0]\n",
    "xx = bin_edges[1]"
   ]
  },
  {
   "cell_type": "code",
   "execution_count": null,
   "metadata": {},
   "outputs": [],
   "source": [
    "xx.shape,yy.shape"
   ]
  },
  {
   "cell_type": "code",
   "execution_count": null,
   "metadata": {},
   "outputs": [],
   "source": [
    "len(bin_edges[1])"
   ]
  },
  {
   "cell_type": "code",
   "execution_count": null,
   "metadata": {},
   "outputs": [],
   "source": [
    "plt.plot(xx,yy)\n",
    "plt.xlabel('Wavelength', fontsize=14)\n",
    "plt.ylabel('Bins', fontsize=14)\n",
    "plt.show()"
   ]
  },
  {
   "cell_type": "code",
   "execution_count": null,
   "metadata": {},
   "outputs": [],
   "source": []
  },
  {
   "cell_type": "code",
   "execution_count": null,
   "metadata": {},
   "outputs": [],
   "source": []
  },
  {
   "cell_type": "code",
   "execution_count": null,
   "metadata": {},
   "outputs": [],
   "source": []
  },
  {
   "cell_type": "code",
   "execution_count": null,
   "metadata": {},
   "outputs": [],
   "source": [
    "import numpy\n",
    "data = x\n",
    "bins = numpy.linspace(4001.77, 6999.64, 207)\n",
    "digitized = numpy.digitize(data, bins)\n",
    "bin_means = [data[digitized == i].mean() for i in range(1, len(bins))]"
   ]
  },
  {
   "cell_type": "code",
   "execution_count": null,
   "metadata": {},
   "outputs": [],
   "source": [
    "len(bins)"
   ]
  },
  {
   "cell_type": "code",
   "execution_count": null,
   "metadata": {},
   "outputs": [],
   "source": []
  },
  {
   "cell_type": "code",
   "execution_count": null,
   "metadata": {},
   "outputs": [],
   "source": []
  },
  {
   "cell_type": "code",
   "execution_count": null,
   "metadata": {},
   "outputs": [],
   "source": []
  },
  {
   "cell_type": "code",
   "execution_count": null,
   "metadata": {},
   "outputs": [],
   "source": []
  },
  {
   "cell_type": "code",
   "execution_count": null,
   "metadata": {},
   "outputs": [],
   "source": [
    "hs_obj = dataset5['11hs']"
   ]
  },
  {
   "cell_type": "code",
   "execution_count": null,
   "metadata": {},
   "outputs": [],
   "source": [
    "hs_obj"
   ]
  },
  {
   "cell_type": "code",
   "execution_count": null,
   "metadata": {},
   "outputs": [],
   "source": [
    "sn1993J"
   ]
  },
  {
   "cell_type": "code",
   "execution_count": null,
   "metadata": {},
   "outputs": [],
   "source": [
    "x_sn1993J = dataset5[\"sn1993J\"].wavelengths\n",
    "y_sn1993J = dataset5[\"sn1993J\"].data"
   ]
  },
  {
   "cell_type": "code",
   "execution_count": null,
   "metadata": {},
   "outputs": [],
   "source": [
    "plt.plot(x_sn1993J,y_sn1993J,'c')\n",
    "plt.xlabel('Wavelength', fontsize=14)\n",
    "plt.ylabel('Flux', fontsize=14)\n",
    "plt.title('sn1993J (5 days)', fontsize=16)\n",
    "plt.show()"
   ]
  },
  {
   "cell_type": "code",
   "execution_count": null,
   "metadata": {},
   "outputs": [],
   "source": []
  },
  {
   "cell_type": "code",
   "execution_count": null,
   "metadata": {},
   "outputs": [],
   "source": [
    "x_15dtg = dataset15[\"15dtg\"].wavelengths \n",
    "y_15dtg = dataset15[\"15dtg\"].data\n",
    "x_sn2004gq = dataset15[\"sn2004gq\"].wavelengths \n",
    "y_sn2004gq = dataset15[\"sn2004gq\"].data\n",
    "x_sn2009bb = dataset15[\"sn2009bb\"].wavelengths \n",
    "y_sn2009bb = dataset15[\"sn2009bb\"].data\n",
    "x_sn1983N = dataset15[\"sn1983N\"].wavelengths \n",
    "y_sn1983N = dataset15[\"sn1983N\"].data\n",
    "x_sn2009jf = dataset15[\"sn2009jf\"].wavelengths \n",
    "y_sn2009jf = dataset15[\"sn2009jf\"].data\n",
    "x_sn2004dk = dataset15[\"sn2004dk\"].wavelengths \n",
    "y_sn2004dk = dataset15[\"sn2004dk\"].data\n",
    "x_sn2008bo = dataset15[\"sn2008bo\"].wavelengths \n",
    "y_sn2008bo = dataset15[\"sn2008bo\"].data\n",
    "x_sn2016gkg = dataset15[\"sn2016gkg\"].wavelengths \n",
    "y_sn2016gkg = dataset15[\"sn2016gkg\"].data\n",
    "x_sn2006ep = dataset15[\"sn2006ep\"].wavelengths \n",
    "y_sn2006ep = dataset15[\"sn2006ep\"].data\n",
    "x_sn2008D = dataset15[\"sn2008D\"].wavelengths \n",
    "y_sn2008D = dataset15[\"sn2008D\"].data\n",
    "x_sn2010ay = dataset15[\"sn2010ay\"].wavelengths \n",
    "y_sn2010ay = dataset15[\"sn2010ay\"].data\n",
    "x_sn2004gv = dataset15[\"sn2004gv\"].wavelengths \n",
    "y_sn2004gv = dataset15[\"sn2004gv\"].data\n",
    "x_sn2007uy = dataset15[\"sn2007uy\"].wavelengths \n",
    "y_sn2007uy = dataset15[\"sn2007uy\"].data\n",
    "x_sn2006T = dataset15[\"sn2006T\"].wavelengths \n",
    "y_sn2006T = dataset15[\"sn2006T\"].data\n",
    "x_sn1990U = dataset15[\"sn1990U\"].wavelengths \n",
    "y_sn1990U = dataset15[\"sn1990U\"].data\n",
    "x_sn2003jd = dataset15[\"sn2003jd\"].wavelengths \n",
    "y_sn2003jd = dataset15[\"sn2003jd\"].data\n",
    "x_sn2002ap = dataset15[\"sn2002ap\"].wavelengths \n",
    "y_sn2002ap = dataset15[\"sn2002ap\"].data\n",
    "x_sn2005hg = dataset15[\"sn2005hg\"].wavelengths \n",
    "y_sn2005hg = dataset15[\"sn2005hg\"].data\n",
    "x_sn1990I = dataset15[\"sn1990I\"].wavelengths \n",
    "y_sn1990I = dataset15[\"sn1990I\"].data\n",
    "x_sn1999dn = dataset15[\"sn1999dn\"].wavelengths \n",
    "y_sn1999dn = dataset15[\"sn1999dn\"].data\n",
    "x_sn1998bw = dataset15[\"sn1998bw\"].wavelengths \n",
    "y_sn1998bw = dataset15[\"sn1998bw\"].data\n",
    "x_17ein = dataset15[\"17ein\"].wavelengths \n",
    "y_17ein = dataset15[\"17ein\"].data\n",
    "x_sn1998dt = dataset15[\"sn1998dt\"].wavelengths \n",
    "y_sn1998dt = dataset15[\"sn1998dt\"].data\n",
    "x_sn2013df = dataset15[\"sn2013df\"].wavelengths \n",
    "y_sn2013df = dataset15[\"sn2013df\"].data\n",
    "x_sn2010bh = dataset15[\"sn2010bh\"].wavelengths \n",
    "y_sn2010bh = dataset15[\"sn2010bh\"].data\n",
    "x_sn2009er = dataset15[\"sn2009er\"].wavelengths \n",
    "y_sn2009er = dataset15[\"sn2009er\"].data\n",
    "x_sn2004aw = dataset15[\"sn2004aw\"].wavelengths \n",
    "y_sn2004aw = dataset15[\"sn2004aw\"].data\n",
    "x_sn2004ge = dataset15[\"sn2004ge\"].wavelengths \n",
    "y_sn2004ge = dataset15[\"sn2004ge\"].data\n",
    "x_sn2008ax = dataset15[\"sn2008ax\"].wavelengths \n",
    "y_sn2008ax = dataset15[\"sn2008ax\"].data\n",
    "x_sn2007bg = dataset15[\"sn2007bg\"].wavelengths \n",
    "y_sn2007bg = dataset15[\"sn2007bg\"].data\n",
    "x_sn1994I = dataset15[\"sn1994I\"].wavelengths \n",
    "y_sn1994I = dataset15[\"sn1994I\"].data\n",
    "x_16coi = dataset15[\"16coi\"].wavelengths \n",
    "y_16coi = dataset15[\"16coi\"].data\n",
    "x_sn2011fu = dataset15[\"sn2011fu\"].wavelengths \n",
    "y_sn2011fu = dataset15[\"sn2011fu\"].data\n",
    "x_sn2006aj = dataset15[\"sn2006aj\"].wavelengths \n",
    "y_sn2006aj = dataset15[\"sn2006aj\"].data\n",
    "x_sn2006el = dataset15[\"sn2006el\"].wavelengths \n",
    "y_sn2006el = dataset15[\"sn2006el\"].data\n",
    "x_LSQ14efd = dataset15[\"LSQ14efd\"].wavelengths \n",
    "y_LSQ14efd = dataset15[\"LSQ14efd\"].data\n",
    "x_sn2011bm = dataset15[\"sn2011bm\"].wavelengths \n",
    "y_sn2011bm = dataset15[\"sn2011bm\"].data\n",
    "x_sn2013dx = dataset15[\"sn2013dx\"].wavelengths \n",
    "y_sn2013dx = dataset15[\"sn2013dx\"].data\n",
    "x_sn2011dh = dataset15[\"sn2011dh\"].wavelengths \n",
    "y_sn2011dh = dataset15[\"sn2011dh\"].data\n",
    "x_sn1997ef = dataset15[\"sn1997ef\"].wavelengths \n",
    "y_sn1997ef = dataset15[\"sn1997ef\"].data\n",
    "x_sn2007gr = dataset15[\"sn2007gr\"].wavelengths \n",
    "y_sn2007gr = dataset15[\"sn2007gr\"].data\n",
    "x_sn2011ei = dataset15[\"sn2011ei\"].wavelengths \n",
    "y_sn2011ei = dataset15[\"sn2011ei\"].data\n",
    "x_sn2003bg = dataset15[\"sn2003bg\"].wavelengths \n",
    "y_sn2003bg = dataset15[\"sn2003bg\"].data\n",
    "x_sn2005az = dataset15[\"sn2005az\"].wavelengths \n",
    "y_sn2005az = dataset15[\"sn2005az\"].data\n",
    "x_sn2007C = dataset15[\"sn2007C\"].wavelengths \n",
    "y_sn2007C = dataset15[\"sn2007C\"].data\n",
    "x_sn2004gt = dataset15[\"sn2004gt\"].wavelengths \n",
    "y_sn2004gt = dataset15[\"sn2004gt\"].data\n",
    "x_sn2009iz = dataset15[\"sn2009iz\"].wavelengths \n",
    "y_sn2009iz = dataset15[\"sn2009iz\"].data\n",
    "x_10as = dataset15[\"10as\"].wavelengths \n",
    "y_10as = dataset15[\"10as\"].data\n",
    "x_sn2007Y = dataset15[\"sn2007Y\"].wavelengths \n",
    "y_sn2007Y = dataset15[\"sn2007Y\"].data\n",
    "x_sn2000H = dataset15[\"sn2000H\"].wavelengths \n",
    "y_sn2000H = dataset15[\"sn2000H\"].data\n",
    "x_13ge = dataset15[\"13ge\"].wavelengths \n",
    "y_13ge = dataset15[\"13ge\"].data\n",
    "x_sn2003dh = dataset15[\"sn2003dh\"].wavelengths \n",
    "y_sn2003dh = dataset15[\"sn2003dh\"].data\n",
    "x_sn2009mg = dataset15[\"sn2009mg\"].wavelengths \n",
    "y_sn2009mg = dataset15[\"sn2009mg\"].data\n",
    "x_sn1993J = dataset15[\"sn1993J\"].wavelengths \n",
    "y_sn1993J = dataset15[\"sn1993J\"].data"
   ]
  },
  {
   "cell_type": "code",
   "execution_count": null,
   "metadata": {},
   "outputs": [],
   "source": [
    "plt.plot(x_15dtg,y_15dtg)\n",
    "plt.plot(x_sn2004gq,y_sn2004gq)\n",
    "plt.plot(x_sn2009bb,y_sn2009bb)\n",
    "plt.plot(x_sn1983N,y_sn1983N)\n",
    "plt.plot(x_sn2009jf,y_sn2009jf)\n",
    "plt.plot(x_sn2004dk,y_sn2004dk)\n",
    "plt.plot(x_sn2008bo,y_sn2008bo)\n",
    "plt.plot(x_sn2016gkg,y_sn2016gkg)\n",
    "plt.plot(x_sn2006ep,y_sn2006ep)\n",
    "plt.plot(x_sn2008D,y_sn2008D)\n",
    "plt.plot(x_sn2010ay,y_sn2010ay)\n",
    "plt.plot(x_sn2004gv,y_sn2004gv)\n",
    "plt.plot(x_sn2007uy,y_sn2007uy)\n",
    "plt.plot(x_sn2006T,y_sn2006T)\n",
    "plt.plot(x_sn1990U,y_sn1990U)\n",
    "plt.plot(x_sn2003jd,y_sn2003jd)\n",
    "plt.plot(x_sn2002ap,y_sn2002ap)\n",
    "plt.plot(x_sn2005hg,y_sn2005hg)\n",
    "plt.plot(x_sn1990I,y_sn1990I)\n",
    "plt.plot(x_sn1999dn,y_sn1999dn)\n",
    "plt.plot(x_sn1998bw,y_sn1998bw)\n",
    "plt.plot(x_17ein,y_17ein)\n",
    "plt.plot(x_sn1998dt,y_sn1998dt)\n",
    "plt.plot(x_sn2013df,y_sn2013df)\n",
    "plt.plot(x_sn2010bh,y_sn2010bh)\n",
    "plt.plot(x_sn2009er,y_sn2009er)\n",
    "plt.plot(x_sn2004aw,y_sn2004aw)\n",
    "plt.plot(x_sn2004ge,y_sn2004ge)\n",
    "plt.plot(x_sn2008ax,y_sn2008ax)\n",
    "plt.plot(x_sn2007bg,y_sn2007bg)\n",
    "plt.plot(x_sn1994I,y_sn1994I)\n",
    "plt.plot(x_16coi,y_16coi)\n",
    "plt.plot(x_sn2011fu,y_sn2011fu)\n",
    "plt.plot(x_sn2006aj,y_sn2006aj)\n",
    "plt.plot(x_sn2006el,y_sn2006el)\n",
    "plt.plot(x_LSQ14efd,y_LSQ14efd)\n",
    "plt.plot(x_sn2011bm,y_sn2011bm)\n",
    "plt.plot(x_sn2013dx,y_sn2013dx)\n",
    "plt.plot(x_sn2011dh,y_sn2011dh)\n",
    "plt.plot(x_sn1997ef,y_sn1997ef)\n",
    "plt.plot(x_sn2007gr,y_sn2007gr)\n",
    "plt.plot(x_sn2011ei,y_sn2011ei)\n",
    "plt.plot(x_sn2003bg,y_sn2003bg)\n",
    "plt.plot(x_sn2005az,y_sn2005az)\n",
    "plt.plot(x_sn2007C,y_sn2007C)\n",
    "plt.plot(x_sn2004gt,y_sn2004gt)\n",
    "plt.plot(x_sn2009iz,y_sn2009iz)\n",
    "plt.plot(x_10as,y_10as)\n",
    "plt.plot(x_sn2007Y,y_sn2007Y)\n",
    "plt.plot(x_sn2000H,y_sn2000H)\n",
    "plt.plot(x_13ge,y_13ge)\n",
    "plt.plot(x_sn2003dh,y_sn2003dh)\n",
    "plt.plot(x_sn2009mg,y_sn2009mg)\n",
    "plt.plot(x_sn1993J,y_sn1993J)\n",
    "plt.xlabel('Wavelength', fontsize=14) \n",
    "plt.ylabel('Flux', fontsize=14) \n",
    "plt.title('(15 days)', fontsize=16) \n",
    "plt.show()"
   ]
  },
  {
   "cell_type": "code",
   "execution_count": null,
   "metadata": {},
   "outputs": [],
   "source": [
    "plt.plot(x_sn2004gq,y_sn2004gq,'g') \n",
    "plt.xlabel('Wavelength', fontsize=14) \n",
    "plt.ylabel('Flux', fontsize=14) \n",
    "plt.title('sn2004gq (15 days)', fontsize=16) \n",
    "plt.show()"
   ]
  },
  {
   "cell_type": "code",
   "execution_count": null,
   "metadata": {},
   "outputs": [],
   "source": [
    "plt.plot(x_sn2009bb,y_sn2009bb,'m') \n",
    "plt.xlabel('Wavelength', fontsize=14) \n",
    "plt.ylabel('Flux', fontsize=14) \n",
    "plt.title('sn2009bb (15 days)', fontsize=16) \n",
    "plt.show()"
   ]
  },
  {
   "cell_type": "code",
   "execution_count": null,
   "metadata": {},
   "outputs": [],
   "source": [
    "plt.plot(x_sn1983N,y_sn1983N,'r') \n",
    "plt.xlabel('Wavelength', fontsize=14) \n",
    "plt.ylabel('Flux', fontsize=14) \n",
    "plt.title('sn1983N (15 days)', fontsize=16) \n",
    "plt.show()"
   ]
  },
  {
   "cell_type": "code",
   "execution_count": null,
   "metadata": {},
   "outputs": [],
   "source": [
    "plt.plot(x_sn2009jf,y_sn2009jf,'b') \n",
    "plt.xlabel('Wavelength', fontsize=14) \n",
    "plt.ylabel('Flux', fontsize=14) \n",
    "plt.title('sn2009jf (15 days)', fontsize=16) \n",
    "plt.show()"
   ]
  },
  {
   "cell_type": "code",
   "execution_count": null,
   "metadata": {},
   "outputs": [],
   "source": []
  },
  {
   "cell_type": "code",
   "execution_count": null,
   "metadata": {},
   "outputs": [],
   "source": [
    "plt.plot(x_10as,y_10as,'g')\n",
    "plt.xlabel('Wavelength', fontsize=14)\n",
    "plt.ylabel('Flux', fontsize=14)\n",
    "plt.title('10as (15 days)', fontsize=16)\n",
    "plt.show()"
   ]
  },
  {
   "cell_type": "code",
   "execution_count": null,
   "metadata": {},
   "outputs": [],
   "source": [
    "x_sn1993J_0 = dataset0[\"sn1993J\"].wavelengths \n",
    "y_sn1993J_0 = dataset0[\"sn1993J\"].data\n",
    "x_sn1993J_5 = dataset5[\"sn1993J\"].wavelengths \n",
    "y_sn1993J_5 = dataset5[\"sn1993J\"].data\n",
    "x_sn1993J_10 = dataset10[\"sn1993J\"].wavelengths \n",
    "y_sn1993J_10 = dataset10[\"sn1993J\"].data\n",
    "x_sn1993J_15 = dataset15[\"sn1993J\"].wavelengths \n",
    "y_sn1993J_15 = dataset15[\"sn1993J\"].data"
   ]
  },
  {
   "cell_type": "code",
   "execution_count": null,
   "metadata": {},
   "outputs": [],
   "source": [
    "plt.plot(x_sn1993J_0,y_sn1993J_0, label=\"0 days\")\n",
    "plt.plot(x_sn1993J_5,y_sn1993J_5, label=\"5 days\")\n",
    "plt.plot(x_sn1993J_10,y_sn1993J_10, label=\"10 days\")\n",
    "plt.plot(x_sn1993J_15,y_sn1993J_15, label=\"15 days\")\n",
    "plt.xlabel('Wavelength', fontsize=14)\n",
    "plt.ylabel('Flux', fontsize=14)\n",
    "plt.title('sn1993J', fontsize=16)\n",
    "plt.legend(bbox_to_anchor=(1.05, 1), loc='upper left', borderaxespad=0.)\n",
    "plt.show()"
   ]
  },
  {
   "cell_type": "code",
   "execution_count": null,
   "metadata": {},
   "outputs": [],
   "source": [
    "import numpy as np\n",
    "import scipy.ndimage\n",
    "\n",
    "x = x_11hs\n",
    "y = y_11hs\n",
    "resampled = scipy.ndimage.zoom(x, 0.5, order=1)"
   ]
  },
  {
   "cell_type": "code",
   "execution_count": null,
   "metadata": {},
   "outputs": [],
   "source": [
    "x"
   ]
  },
  {
   "cell_type": "code",
   "execution_count": null,
   "metadata": {},
   "outputs": [],
   "source": [
    "wvl[0], wvl[-1]"
   ]
  },
  {
   "cell_type": "code",
   "execution_count": null,
   "metadata": {},
   "outputs": [],
   "source": [
    "wvl[1] - wvl[0]"
   ]
  },
  {
   "cell_type": "code",
   "execution_count": null,
   "metadata": {},
   "outputs": [],
   "source": [
    "wvl = dataset5[\"11hs\"].wavelengths\n",
    "y_11hs = dataset5[\"11hs\"].data\n",
    "flux = y_11hs.astype('float64')\n",
    "wstart = wvl[0]\n",
    "wend = wvl[-1]\n",
    "res = 10\n",
    "wbin = (wvl[1] - wvl[0])*res"
   ]
  },
  {
   "cell_type": "code",
   "execution_count": null,
   "metadata": {},
   "outputs": [],
   "source": [
    "wstart,wend,wbin"
   ]
  },
  {
   "cell_type": "code",
   "execution_count": null,
   "metadata": {},
   "outputs": [],
   "source": [
    "def binspec(wvl, flux, wstart, wend, wbin):\n",
    "    nlam = (wend - wstart) / wbin + 1\n",
    "    nlam = int(np.ceil(nlam))\n",
    "    outlam = np.arange(nlam) * wbin + wstart\n",
    "    answer = np.zeros(nlam)\n",
    "    interplam = np.unique(np.concatenate((wvl, outlam)))\n",
    "    interpflux = np.interp(interplam, wvl, flux)\n",
    "\n",
    "    for i in np.arange(0, nlam - 1):\n",
    "        cond = np.logical_and(interplam >= outlam[i], interplam <= outlam[i+1])\n",
    "        w = np.where(cond)\n",
    "        if len(w) == 2:\n",
    "            answer[i] = 0.5*(np.sum(interpflux[cond])*wbin)\n",
    "        else:\n",
    "            answer[i] = scipy.integrate.simps(interpflux[cond], interplam[cond])\n",
    "\n",
    "    answer[nlam - 1] = answer[nlam - 2]\n",
    "    cond = np.logical_or(outlam >= max(wvl), outlam < min(wvl))\n",
    "    answer[cond] = 0\n",
    "    return answer/wbin, outlam"
   ]
  },
  {
   "cell_type": "code",
   "execution_count": null,
   "metadata": {},
   "outputs": [],
   "source": [
    "nlam = (wend - wstart) / wbin + 1\n",
    "nlam = int(np.ceil(nlam))\n",
    "outlam = np.arange(nlam) * wbin + wstart\n",
    "answer = np.zeros(nlam)\n",
    "interplam = np.unique(np.concatenate((wvl, outlam)))\n",
    "interpflux = np.interp(interplam, wvl, flux)"
   ]
  },
  {
   "cell_type": "code",
   "execution_count": null,
   "metadata": {},
   "outputs": [],
   "source": [
    "interplam"
   ]
  },
  {
   "cell_type": "code",
   "execution_count": null,
   "metadata": {},
   "outputs": [],
   "source": [
    "outlam[0]"
   ]
  },
  {
   "cell_type": "code",
   "execution_count": null,
   "metadata": {},
   "outputs": [],
   "source": [
    "i = 276\n",
    "cond = np.logical_and(interplam >= outlam[i], interplam <= outlam[i+1])\n",
    "w = np.where(cond)"
   ]
  },
  {
   "cell_type": "code",
   "execution_count": null,
   "metadata": {},
   "outputs": [],
   "source": [
    "cond,w, len(w)"
   ]
  },
  {
   "cell_type": "code",
   "execution_count": null,
   "metadata": {},
   "outputs": [],
   "source": []
  },
  {
   "cell_type": "code",
   "execution_count": null,
   "metadata": {},
   "outputs": [],
   "source": [
    "binspectra = binspec(wvl, flux, wstart, wend, wbin)"
   ]
  },
  {
   "cell_type": "code",
   "execution_count": 4,
   "metadata": {},
   "outputs": [
    {
     "ename": "NameError",
     "evalue": "name 'binspectra' is not defined",
     "output_type": "error",
     "traceback": [
      "\u001b[0;31m---------------------------------------------------------------------------\u001b[0m",
      "\u001b[0;31mNameError\u001b[0m                                 Traceback (most recent call last)",
      "\u001b[0;32m<ipython-input-4-69634de4a5e3>\u001b[0m in \u001b[0;36m<module>\u001b[0;34m()\u001b[0m\n\u001b[1;32m      1\u001b[0m \u001b[0mx_11hs\u001b[0m \u001b[0;34m=\u001b[0m \u001b[0mdataset5\u001b[0m\u001b[0;34m[\u001b[0m\u001b[0;34m\"11hs\"\u001b[0m\u001b[0;34m]\u001b[0m\u001b[0;34m.\u001b[0m\u001b[0mwavelengths\u001b[0m\u001b[0;34m\u001b[0m\u001b[0m\n\u001b[1;32m      2\u001b[0m \u001b[0my_11hs\u001b[0m \u001b[0;34m=\u001b[0m \u001b[0mdataset5\u001b[0m\u001b[0;34m[\u001b[0m\u001b[0;34m\"11hs\"\u001b[0m\u001b[0;34m]\u001b[0m\u001b[0;34m.\u001b[0m\u001b[0mdata\u001b[0m\u001b[0;34m\u001b[0m\u001b[0m\n\u001b[0;32m----> 3\u001b[0;31m \u001b[0mx_11hs_bin\u001b[0m \u001b[0;34m=\u001b[0m \u001b[0mbinspectra\u001b[0m\u001b[0;34m[\u001b[0m\u001b[0;36m1\u001b[0m\u001b[0;34m]\u001b[0m\u001b[0;34m\u001b[0m\u001b[0m\n\u001b[0m\u001b[1;32m      4\u001b[0m \u001b[0my_11hs_bin\u001b[0m \u001b[0;34m=\u001b[0m \u001b[0mbinspectra\u001b[0m\u001b[0;34m[\u001b[0m\u001b[0;36m0\u001b[0m\u001b[0;34m]\u001b[0m\u001b[0;34m\u001b[0m\u001b[0m\n",
      "\u001b[0;31mNameError\u001b[0m: name 'binspectra' is not defined"
     ]
    }
   ],
   "source": [
    "x_11hs = dataset5[\"11hs\"].wavelengths\n",
    "y_11hs = dataset5[\"11hs\"].data\n",
    "x_11hs_bin = binspectra[1]\n",
    "y_11hs_bin = binspectra[0]"
   ]
  },
  {
   "cell_type": "code",
   "execution_count": null,
   "metadata": {},
   "outputs": [],
   "source": [
    "plt.plot(x_11hs,y_11hs,'o', markersize=5, label=\"Original resolution\")\n",
    "plt.plot(x_11hs_bin,y_11hs_bin, 'o', markersize=5, label=\"1/10 resolution\")\n",
    "plt.xlabel('Wavelength', fontsize=14)\n",
    "plt.ylabel('Flux', fontsize=14)\n",
    "plt.title('11hs (5 days)', fontsize=16)\n",
    "plt.legend(bbox_to_anchor=(1.05, 1), loc='upper left', borderaxespad=0.)\n",
    "plt.show()"
   ]
  },
  {
   "cell_type": "code",
   "execution_count": null,
   "metadata": {},
   "outputs": [],
   "source": []
  },
  {
   "cell_type": "code",
   "execution_count": null,
   "metadata": {},
   "outputs": [],
   "source": []
  },
  {
   "cell_type": "code",
   "execution_count": null,
   "metadata": {},
   "outputs": [],
   "source": [
    "binspectra"
   ]
  },
  {
   "cell_type": "code",
   "execution_count": null,
   "metadata": {},
   "outputs": [],
   "source": [
    "binspectra[0].shape"
   ]
  },
  {
   "cell_type": "code",
   "execution_count": null,
   "metadata": {},
   "outputs": [],
   "source": [
    "binspectra[1].shape"
   ]
  },
  {
   "cell_type": "code",
   "execution_count": 3,
   "metadata": {},
   "outputs": [],
   "source": []
  },
  {
   "cell_type": "code",
   "execution_count": null,
   "metadata": {},
   "outputs": [],
   "source": []
  },
  {
   "cell_type": "markdown",
   "metadata": {},
   "source": [
    "### Run PCA"
   ]
  },
  {
   "cell_type": "code",
   "execution_count": null,
   "metadata": {},
   "outputs": [],
   "source": [
    "bin_edges = np.histogram(x, bins=20)"
   ]
  },
  {
   "cell_type": "code",
   "execution_count": null,
   "metadata": {},
   "outputs": [],
   "source": [
    "snidPCA0 = SNePCA.SNePCA(dataset0, -5, 5)\n",
    "snidPCA5 = SNePCA.SNePCA(dataset5, 0, 10)\n",
    "snidPCA10 = SNePCA.SNePCA(dataset10, 5, 15)\n",
    "snidPCA15 = SNePCA.SNePCA(dataset15, 10, 20)"
   ]
  },
  {
   "cell_type": "code",
   "execution_count": null,
   "metadata": {},
   "outputs": [],
   "source": [
    "snidPCA0.snidPCA()\n",
    "snidPCA5.snidPCA()\n",
    "snidPCA10.snidPCA()\n",
    "snidPCA15.snidPCA()"
   ]
  },
  {
   "cell_type": "markdown",
   "metadata": {},
   "source": [
    "Choose the arbitrary signs for the eigenspectra so that they are consistent across phases, and so that the eigenspectra features match H and He absorption features in the mean spectra."
   ]
  },
  {
   "cell_type": "code",
   "execution_count": null,
   "metadata": {},
   "outputs": [],
   "source": [
    "snidPCA10.evecs[0] = -snidPCA10.evecs[0]\n",
    "\n",
    "snidPCA5.evecs[1] = -snidPCA5.evecs[1]\n",
    "snidPCA10.evecs[1] = -snidPCA10.evecs[1]\n",
    "snidPCA15.evecs[1] = -snidPCA15.evecs[1]\n",
    "\n",
    "snidPCA0.evecs[2] = -snidPCA0.evecs[2]\n",
    "snidPCA5.evecs[2] = -snidPCA5.evecs[2]\n",
    "snidPCA15.evecs[2] = -snidPCA15.evecs[2]\n",
    "\n",
    "snidPCA0.evecs[3] = -snidPCA0.evecs[3]\n",
    "snidPCA5.evecs[3] = -snidPCA5.evecs[3]\n",
    "snidPCA10.evecs[3] = -snidPCA10.evecs[3]\n",
    "\n",
    "snidPCA0.evecs[4] = -snidPCA0.evecs[4]"
   ]
  },
  {
   "cell_type": "code",
   "execution_count": null,
   "metadata": {},
   "outputs": [],
   "source": [
    "snidPCA0.calcPCACoeffs()\n",
    "snidPCA5.calcPCACoeffs()\n",
    "snidPCA10.calcPCACoeffs()\n",
    "snidPCA15.calcPCACoeffs()"
   ]
  },
  {
   "cell_type": "code",
   "execution_count": null,
   "metadata": {},
   "outputs": [],
   "source": [
    "print snidPCA0.pcaCoeffMatrix.shape\n",
    "print snidPCA5.pcaCoeffMatrix.shape\n",
    "print snidPCA10.pcaCoeffMatrix.shape\n",
    "print snidPCA15.pcaCoeffMatrix.shape"
   ]
  },
  {
   "cell_type": "code",
   "execution_count": null,
   "metadata": {},
   "outputs": [],
   "source": [
    "# Set colors for plots\n",
    "snidPCA0.Ib_color = 'steelblue'\n",
    "snidPCA5.Ib_color = 'steelblue'\n",
    "snidPCA10.Ib_color = 'steelblue'\n",
    "snidPCA15.Ib_color = 'steelblue'\n",
    "snidPCA0.IIb_color = 'limegreen'\n",
    "snidPCA5.IIb_color = 'limegreen'\n",
    "snidPCA10.IIb_color = 'limegreen'\n",
    "snidPCA15.IIb_color = 'limegreen'\n",
    "snidPCA0.IcBL_color = 'darkgrey'\n",
    "snidPCA5.IcBL_color = 'darkgrey'\n",
    "snidPCA10.IcBL_color = 'darkgrey'\n",
    "snidPCA15.IcBL_color = 'darkgrey'\n",
    "\n",
    "\n",
    "snidPCA0.IIb_ellipse_color = 'green'\n",
    "snidPCA5.IIb_ellipse_color = 'green'\n",
    "snidPCA10.IIb_ellipse_color = 'green'\n",
    "snidPCA15.IIb_ellipse_color = 'green'\n",
    "snidPCA0.IcBL_ellipse_color = 'grey'\n",
    "snidPCA5.IcBL_ellipse_color = 'grey'\n",
    "snidPCA10.IcBL_ellipse_color = 'grey'\n",
    "snidPCA15.IcBL_ellipse_color = 'grey'\n"
   ]
  },
  {
   "cell_type": "markdown",
   "metadata": {},
   "source": [
    "# Reconstruction"
   ]
  },
  {
   "cell_type": "markdown",
   "metadata": {},
   "source": [
    "The following plots show that PCA can reconstruct the original spectra in our dataset."
   ]
  },
  {
   "cell_type": "code",
   "execution_count": null,
   "metadata": {},
   "outputs": [],
   "source": [
    "f,h=snidPCA15.reconstructSpectrumGrid((32,35),'sn2011ei', 'Ph13.0',3,[5,10,20,53],fontsize=65, leg_fontsize=50, ylim=(-1.6,1), dytick=0.5)"
   ]
  },
  {
   "cell_type": "code",
   "execution_count": null,
   "metadata": {},
   "outputs": [],
   "source": [
    "a=f.axes[0]\n",
    "a.text(4000, 0.6,'$t_{V_{max}}=13.0$ days', fontsize=55)"
   ]
  },
  {
   "cell_type": "code",
   "execution_count": null,
   "metadata": {},
   "outputs": [],
   "source": [
    "a=f.axes[-1]\n",
    "from matplotlib.ticker import MultipleLocator\n",
    "a.xaxis.set_minor_locator(MultipleLocator(100))"
   ]
  },
  {
   "cell_type": "code",
   "execution_count": null,
   "metadata": {},
   "outputs": [],
   "source": [
    "f"
   ]
  },
  {
   "cell_type": "code",
   "execution_count": null,
   "metadata": {},
   "outputs": [],
   "source": [
    "f, ax = snidPCA15.pcaCumPlot((32,15), fontsize=55)"
   ]
  },
  {
   "cell_type": "code",
   "execution_count": null,
   "metadata": {},
   "outputs": [],
   "source": [
    "f"
   ]
  },
  {
   "cell_type": "markdown",
   "metadata": {},
   "source": [
    "# Eigenspectra"
   ]
  },
  {
   "cell_type": "markdown",
   "metadata": {},
   "source": [
    "Each panel of the following plot shows one of the first 5 eigenspectra in every phase range.  The eigenspectra signs are consistent across phases."
   ]
  },
  {
   "cell_type": "code",
   "execution_count": null,
   "metadata": {},
   "outputs": [],
   "source": [
    "f, axs = plt.subplots(5,1,figsize=(10,20))"
   ]
  },
  {
   "cell_type": "code",
   "execution_count": null,
   "metadata": {},
   "outputs": [],
   "source": [
    "for i in range(5):\n",
    "    ax = axs[i]\n",
    "    ax.set_title('PCA%d Eigenspectra'%(i+1))\n",
    "    ax.set_xlim((3800,7700))\n",
    "    ax.set_yticks([])\n",
    "    ax.plot(snidPCA0.wavelengths,snidPCA0.evecs[i]+2-0,'r',label='phase 0')\n",
    "    ax.plot(snidPCA0.wavelengths,snidPCA5.evecs[i]+2-.5,'b',label='phase 5')\n",
    "    ax.plot(snidPCA0.wavelengths,snidPCA10.evecs[i]+2-1,'c',label='phase 10')\n",
    "    ax.plot(snidPCA0.wavelengths,snidPCA15.evecs[i]+2-1.5,'g',label='phase 15')\n",
    "    \n",
    "    #ax.plot(snidPCA20.wavelengths,snidPCA20.evecs[i]+2-2,'k',label='phase 20')\n",
    "    #ax.plot(snidPCA25.wavelengths,snidPCA25.evecs[i]+2-2.5,'y',label='phase 25')\n",
    "    \n",
    "    ax.legend()"
   ]
  },
  {
   "cell_type": "code",
   "execution_count": null,
   "metadata": {},
   "outputs": [],
   "source": [
    "f"
   ]
  },
  {
   "cell_type": "markdown",
   "metadata": {},
   "source": [
    "# Classification"
   ]
  },
  {
   "cell_type": "markdown",
   "metadata": {},
   "source": [
    "The following cells construct a 4 panel plot, where each panel corresponds to a 2D projection of PCA space in a different phase range."
   ]
  },
  {
   "cell_type": "code",
   "execution_count": null,
   "metadata": {},
   "outputs": [],
   "source": [
    "f_all, axs = plt.subplots(2,2,figsize=(35,30),gridspec_kw={'wspace':.2,'hspace':.2})"
   ]
  },
  {
   "cell_type": "code",
   "execution_count": null,
   "metadata": {},
   "outputs": [],
   "source": [
    "#Exclude Ib-pec and Ic-pec SNe\n",
    "exclude = ['sn2007uy', 'sn2009er', 'sn2005ek']"
   ]
  },
  {
   "cell_type": "code",
   "execution_count": null,
   "metadata": {
    "scrolled": true
   },
   "outputs": [],
   "source": [
    "svmsc=[]\n",
    "f_all,svmsc,av0,std0=snidPCA0.pcaPlot(1,5,(10,7),alphamean=.5,alphaell=.1,alphasvm=10,purity=True,\n",
    "                                     excludeSNe=exclude, std_rad=1.0, svm=True, count=3, fig=f_all,\n",
    "                                     ax=f_all.axes[0],ncv=50, markOutliers=True)\n",
    "print av0, std0"
   ]
  },
  {
   "cell_type": "code",
   "execution_count": null,
   "metadata": {
    "scrolled": true
   },
   "outputs": [],
   "source": [
    "svmsc=[]\n",
    "f_all,svmsc, av5, std5=snidPCA5.pcaPlot(1,3,(10,7),alphamean=.5,alphaell=.1,alphasvm=10,purity=True, \n",
    "                                       excludeSNe=exclude,std_rad=1.0, svm=True, count=3, \n",
    "                                       fig=f_all, ax=f_all.axes[1], ncv=50, markOutliers=True)\n",
    "print av5, std5"
   ]
  },
  {
   "cell_type": "code",
   "execution_count": null,
   "metadata": {
    "scrolled": true
   },
   "outputs": [],
   "source": [
    "svmsc=[]\n",
    "f_all,svmsc, av10, std10=snidPCA10.pcaPlot(1,3,(10,7),alphamean=.5,alphaell=.1,alphasvm=10,\n",
    "                                          purity=True,excludeSNe=exclude, std_rad=1.0, svm=True,\n",
    "                                          count=3, fig=f_all, ax=f_all.axes[2],ncv=50, markOutliers=True)\n",
    "print av10, std10"
   ]
  },
  {
   "cell_type": "code",
   "execution_count": null,
   "metadata": {
    "scrolled": true
   },
   "outputs": [],
   "source": [
    "svmsc=[]\n",
    "f_all,svmsc, av15, std15=snidPCA15.pcaPlot(1,3,(10,7),alphamean=.5,alphaell=.1,alphasvm=10,\n",
    "                                          purity=True, excludeSNe=exclude,std_rad=1.0,\n",
    "                                          svm=True, count=3, fig=f_all, ax=f_all.axes[3],ncv=50, markOutliers=True)\n",
    "print av15, std15"
   ]
  },
  {
   "cell_type": "code",
   "execution_count": null,
   "metadata": {},
   "outputs": [],
   "source": []
  },
  {
   "cell_type": "code",
   "execution_count": null,
   "metadata": {},
   "outputs": [],
   "source": []
  },
  {
   "cell_type": "code",
   "execution_count": null,
   "metadata": {},
   "outputs": [],
   "source": [
    "for i,ax in enumerate(f_all.axes):\n",
    "    l = ax.get_legend()\n",
    "    t = l.get_title()\n",
    "    t.set_fontsize(30)\n",
    "    ax.tick_params(axis='both',which='major', length=20,direction='inout',labelsize=35)\n",
    "    ax.tick_params(axis='both',which='minor', length=10,direction='inout')\n",
    "    xmin, xmax = ax.get_xlim()\n",
    "    ymin, ymax = ax.get_ylim()\n",
    "    if i==0:\n",
    "        l = ax.get_legend()\n",
    "        t = l.get_title()\n",
    "        l.set_title('')\n",
    "        ymax = ymax + 0.5\n",
    "        ax.set_ylim((ymin,ymax+0.5))\n",
    "        ax.text(xmin + .1,ymax - .3,'$t_{V_{max}} = 0 \\pm 5$ days\\nSVM Test Score = %.2f$\\pm$%.2f'%(av0,std0),fontsize=45)\n",
    "        ax.set_ylabel('PC5', fontsize=50)\n",
    "        ax.set_xlabel('PC1', fontsize=50)\n",
    "    elif i==1:\n",
    "        ymax = ymax + 0.5\n",
    "        ax.set_ylim((ymin,ymax+0.5))\n",
    "        ax.text(xmin + .1,ymax - .2,'$t_{V_{max}} = 5 \\pm 5$ days\\nSVM Test Score = %.2f$\\pm$%.2f'%(av5,std5),fontsize=45)\n",
    "        ax.set_ylabel('PC3', fontsize=50)\n",
    "        ax.set_xlabel('PC1', fontsize=50)\n",
    "        ax.get_legend().remove()\n",
    "    elif i==2:\n",
    "        ymax = ymax + 0.5\n",
    "        ax.set_ylim((ymin,ymax+0.5))\n",
    "        ax.text(xmin + .1,ymax - .4,'$t_{V_{max}} = 10 \\pm 5$ days\\nSVM Test Score = %.2f$\\pm$%.2f'%(av10,std10),fontsize=45)\n",
    "        ax.set_ylabel('PC3', fontsize=50)\n",
    "        ax.set_xlabel('PC1', fontsize=50)\n",
    "        ax.get_legend().remove()\n",
    "    else:\n",
    "        ymax = ymax + 0.5\n",
    "        ax.set_ylim((ymin,ymax+0.5))\n",
    "        ax.text(xmin + .1,ymax - .4,'$t_{V_{max}} = 15 \\pm 5$ days\\nSVM Test Score = %.2f$\\pm$%.2f'%(av15,std15),fontsize=45)\n",
    "        ax.set_ylabel('PC3', fontsize=50)\n",
    "        ax.set_xlabel('PC1', fontsize=50)\n",
    "        ax.get_legend().remove()"
   ]
  },
  {
   "cell_type": "code",
   "execution_count": null,
   "metadata": {},
   "outputs": [],
   "source": [
    "#IIb 2std outliers:  ['sn2016gkg' 'sn2011dh']\n",
    "#Ib 2std outliers:  ['sn2004gq' 'sn2007uy' 'sn1998dt' 'sn2009er' 'sn2007kj']\n",
    "#Ic 2std outliers:  ['sn2005az']\n",
    "#IcBL 2std outliers:  ['sn2010bh']\n",
    "ax = f_all.axes[0]\n",
    "\n",
    "ax.text(-.22,1.25,'07uy',fontdict={'color':'k','fontsize':35})\n",
    "ax.text(.352,.302,'09er',fontdict={'color':'k','fontsize':35})\n",
    "ax.text(.6,-.82,'04gq',fontdict={'color':'k','fontsize':35})\n",
    "ax.text(1.45,-0.85,'98dt',fontdict={'color':'k','fontsize':35})\n",
    "ax.text(3.3,.69,'07kj',fontdict={'color':'k','fontsize':35})\n",
    "\n",
    "ax.text(1.413,-2.14,'16gkg',fontdict={'color':'k','fontsize':35})\n",
    "ax.text(4.15,1.08,'11dh',fontdict={'color':'k','fontsize':35})\n",
    "\n",
    "ax.text(0.25,-0.25,'10bh',fontdict={'color':'k','fontsize':35})\n",
    "\n",
    "ax.text(2.9,1.48,'05az',fontdict={'color':'k','fontsize':35})\n",
    "\n",
    "\n",
    "\n",
    "#IIb 2std outliers:  ['sn2011ei' '10as']\n",
    "#Ib 2std outliers:  ['sn1998dt' 'sn2009er' 'sn2007Y']\n",
    "#Ic 2std outliers:  ['sn1990B']\n",
    "#IcBL 2std outliers:  ['sn2002ap' '16coi']\n",
    "ax = f_all.axes[1]\n",
    "\n",
    "ax.text(2.11,-2.5,'11ei',fontdict={'color':'k','fontsize':35})\n",
    "ax.text(5.1,1.8,'10as',fontdict={'color':'k','fontsize':35})\n",
    "\n",
    "ax.text(0.08,-.31,'09er',fontdict={'color':'k','fontsize':35})\n",
    "ax.text(4.56,.76,'07Y',fontdict={'color':'k','fontsize':35})\n",
    "ax.text(1.58,-1.72,'98dt',fontdict={'color':'k','fontsize':35})\n",
    "\n",
    "ax.text(2.7,-0.8,'90B',fontdict={'color':'k','fontsize':35})\n",
    "\n",
    "ax.text(.75,.0,'02ap',fontdict={'color':'k','fontsize':35})\n",
    "ax.text(.08,-.6,'16coi',fontdict={'color':'k','fontsize':35})\n",
    "\n",
    "ax.text(-0.16,-1.12,'16gkg',fontdict={'color':'k','fontsize':35})\n",
    "\n",
    "ax.text(-0.28,.55,'07bg',fontdict={'color':'k','fontsize':35})\n",
    "\n",
    "ax.text(3.79,.66,'07kj',fontdict={'color':'k','fontsize':35})\n",
    "\n",
    "\n",
    "\n",
    "\n",
    "\n",
    "\n",
    "\n",
    "#IIb 2std outliers:  ['sn2011ei']\n",
    "#Ib 2std outliers:  ['sn2007uy' 'sn1990U' 'sn1990I']\n",
    "#Ic 2std outliers:  ['sn1994I']\n",
    "#IcBL 2std outliers:  ['sn2002ap' 'sn2007bg']\n",
    "ax = f_all.axes[2]\n",
    "\n",
    "ax.text(1.15,-.97,'07uy',fontdict={'color':'k','fontsize':35})\n",
    "ax.text(1.39,-1.40,'90I',fontdict={'color':'k','fontsize':35})\n",
    "ax.text(4.69,.28, '90U',fontdict={'color':'k','fontsize':35})\n",
    "\n",
    "\n",
    "ax.text(2.56,-2.0,'11ei',fontdict={'color':'k','fontsize':35})\n",
    "\n",
    "ax.text(2.99,-1.40,'94I',fontdict={'color':'k','fontsize':35})\n",
    "\n",
    "ax.text(1.03,-.33,'02ap',fontdict={'color':'k','fontsize':35})\n",
    "ax.text(-1.02,-.95,'07ru',fontdict={'color':'k','fontsize':35})\n",
    "\n",
    "ax.text(1.72,-2.40,'99ex',fontdict={'color':'k','fontsize':35})\n",
    "\n",
    "\n",
    "\n",
    "\n",
    "\n",
    "#IIb 2std outliers:  ['sn2011ei']\n",
    "#Ib 2std outliers:  ['sn2007uy' 'sn1990I' 'sn2009er' 'sn2004gq' 'sn2007Y']\n",
    "#Ic 2std outliers:  ['sn1994I']\n",
    "#IcBL 2std outliers:  ['sn2010ay' '16coi']\n",
    "ax = f_all.axes[3]\n",
    "\n",
    "ax.text(.66,-1.18,'09er',fontdict={'color':'k','fontsize':35})\n",
    "ax.text(.95,-1.79,'07uy',fontdict={'color':'k','fontsize':35})\n",
    "ax.text(.85,-2.38,'90I',fontdict={'color':'k','fontsize':35})\n",
    "ax.text(5.06,0.58,'07Y',fontdict={'color':'k','fontsize':35})\n",
    "ax.text(2.08,-3.43,'04gq',fontdict={'color':'k','fontsize':35})\n",
    "\n",
    "ax.text(3.72,-2.09,'11ei',fontdict={'color':'k','fontsize':35})\n",
    "\n",
    "ax.text(2.34,-1.85,'94I',fontdict={'color':'k','fontsize':35})\n",
    "\n",
    "ax.text(-.9,.88,'10ay',fontdict={'color':'k','fontsize':35})\n",
    "ax.text(-0.4,-1.3,'16coi',fontdict={'color':'k','fontsize':35})\n",
    "\n",
    "#ax.text(2.0, 1.0, 'Test', color='green',fontdict={'color':'k','fontsize':35}, bbox=dict(facecolor='white', edgecolor='none', boxstyle='round',alpha=.5))"
   ]
  },
  {
   "cell_type": "code",
   "execution_count": null,
   "metadata": {
    "scrolled": false
   },
   "outputs": [],
   "source": [
    "f_all"
   ]
  },
  {
   "cell_type": "markdown",
   "metadata": {},
   "source": [
    "# PC Time Evolution"
   ]
  },
  {
   "cell_type": "markdown",
   "metadata": {},
   "source": [
    "The following cells construct a plot that shows the time evolution of the eigenspectra as phase changes."
   ]
  },
  {
   "cell_type": "code",
   "execution_count": null,
   "metadata": {},
   "outputs": [],
   "source": [
    "f_all, axs = plt.subplots(2,1,figsize=(15,15),gridspec_kw={'hspace':0})"
   ]
  },
  {
   "cell_type": "code",
   "execution_count": null,
   "metadata": {},
   "outputs": [],
   "source": [
    "ax = axs[0]\n",
    "ax.set_xlim((4000,7000))\n",
    "ax.set_ylim((-.2,.35))\n",
    "\n",
    "l1=ax.plot(snidPCA0.wavelengths,snidPCA0.evecs[4]+0.0,color='k',linewidth=4.0, label='PC5, $t_{V_{max}}=0\\pm5$')\n",
    "l2=ax.plot(snidPCA5.wavelengths, snidPCA5.evecs[2]+0.0,'--',color='r',linewidth=4.0, label='PC3, $t_{V_{max}}=5\\pm5$')\n",
    "l3=ax.plot(snidPCA5.wavelengths, snidPCA10.evecs[2]+0.0,'--',color='green',linewidth=4.0, label='PC3, $t_{V_{max}}=10\\pm5$')\n",
    "l4=ax.plot(snidPCA5.wavelengths, snidPCA15.evecs[2]+0.0,'--',color='b',linewidth=4.0, label='PC3, $t_{V_{max}}=15\\pm5$')\n",
    "\n",
    "ax.legend(handles=[l1[0],l2[0],l3[0],l4[0]],fontsize=30, ncol=2)\n",
    "ax.tick_params(axis='both',which='major', length=20,direction='inout',labelsize=35)\n",
    "ax.tick_params(axis='both',which='minor', length=10,direction='inout')\n",
    "ax.set_yticks([])\n",
    "ax.set_yticklabels([])\n",
    "ax.set_xticklabels([])\n",
    "\n",
    "\n",
    "ax = axs[1]\n",
    "ax.set_xlim((4000,7000))\n",
    "ax.set_ylim((-.2,.35))\n",
    "\n",
    "l1=ax.plot(snidPCA0.wavelengths,snidPCA0.evecs[2]+0.0,color='k',linewidth=4.0, label='PC3, $t_{V_{max}}=0\\pm5$')\n",
    "l2=ax.plot(snidPCA5.wavelengths, snidPCA5.evecs[3]+0.0,'--',color='r',linewidth=4.0, label='PC4, $t_{V_{max}}=5\\pm5$')\n",
    "l3=ax.plot(snidPCA5.wavelengths, snidPCA10.evecs[3]+0.0,'--',color='green',linewidth=4.0, label='PC4, $t_{V_{max}}=10\\pm5$')\n",
    "l4=ax.plot(snidPCA5.wavelengths, snidPCA15.evecs[3]+0.0,'--',color='b',linewidth=4.0, label='PC4, $t_{V_{max}}=15\\pm5$')\n",
    "\n",
    "ax.legend(handles=[l1[0],l2[0],l3[0],l4[0]],fontsize=30,ncol=2)\n",
    "ax.set_xlabel('Wavelength ($\\AA$)',fontsize=50)\n",
    "ax.tick_params(axis='both',which='major', length=20,direction='inout',labelsize=35)\n",
    "ax.tick_params(axis='x',which='minor', length=10,direction='inout')\n",
    "ax.set_yticks([])\n",
    "ax.set_yticklabels([])"
   ]
  },
  {
   "cell_type": "code",
   "execution_count": null,
   "metadata": {},
   "outputs": [],
   "source": [
    "f_all"
   ]
  },
  {
   "cell_type": "markdown",
   "metadata": {
    "collapsed": true
   },
   "source": [
    "# PC's vs Mean Templates"
   ]
  },
  {
   "cell_type": "code",
   "execution_count": null,
   "metadata": {},
   "outputs": [],
   "source": [
    "from scipy.io.idl import readsav\n",
    "import pylab as pl\n",
    "import numpy as np\n",
    "import os"
   ]
  },
  {
   "cell_type": "code",
   "execution_count": null,
   "metadata": {},
   "outputs": [],
   "source": [
    "meanspec_path = os.environ['MEANSPEC']"
   ]
  },
  {
   "cell_type": "code",
   "execution_count": null,
   "metadata": {},
   "outputs": [],
   "source": [
    "def readtemplate(tp):\n",
    "    if tp=='IcBL' or tp=='Ic':\n",
    "        s = readsav(meanspec_path + '/meanspec%s_1specperSN_15_ft.sav'%tp)\n",
    "    else:\n",
    "        s = readsav(meanspec_path + '/meanspec%s_1specperSN_15.sav'%tp)\n",
    "    \n",
    "    return s"
   ]
  },
  {
   "cell_type": "code",
   "execution_count": null,
   "metadata": {},
   "outputs": [],
   "source": [
    "def plotPCs(s, tp, c, ax, eig, ewav, sgn):\n",
    "    lines = []\n",
    "    for i,e in enumerate(eig):\n",
    "        line = ax.plot(ewav, sgn[i]*2*e +5-1.0*i, label=\"PCA%i\"%i,c='k')\n",
    "        lines.append(line)\n",
    "        if i:\n",
    "            ax.fill_between(s.wlog, s.fmean + s.fsdev+ 5-1.0*i,\n",
    "                            s.fmean - s.fsdev +5-1.0*i, \n",
    "                    color = c, alpha = 0.2)\n",
    "        else:\n",
    "            ax.fill_between(s.wlog, s.fmean + s.fsdev +5-1.0*i,\n",
    "                            s.fmean - s.fsdev +5-1.0*i, \n",
    "                    color = c, alpha = 0.2, label=tp+' Template')\n",
    "            \n",
    "    ax.set_xlim(4000,7000)\n",
    "    ax.set_xlabel(\"wavelength ($\\AA$)\",fontsize=26)\n",
    "    ax.set_ylim(0, 8)\n",
    "    return ax, lines"
   ]
  },
  {
   "cell_type": "code",
   "execution_count": null,
   "metadata": {},
   "outputs": [],
   "source": [
    "plt.clf()"
   ]
  },
  {
   "cell_type": "code",
   "execution_count": null,
   "metadata": {},
   "outputs": [],
   "source": [
    "plt.clf()\n",
    "snIb = readtemplate('Ib')\n",
    "snIc = readtemplate('Ic')\n",
    "snIIb = readtemplate('IIb')\n",
    "snIcBL = readtemplate('IcBL')"
   ]
  },
  {
   "cell_type": "code",
   "execution_count": null,
   "metadata": {},
   "outputs": [],
   "source": [
    "import matplotlib.patches as mpatches\n",
    "plt.clf()\n",
    "f, axs = plt.subplots(2,2,figsize=(25,20), sharex=True, sharey=True)\n",
    "plt.subplots_adjust(hspace=0.05, wspace=0.05)\n",
    "axs[0,0], _ = plotPCs(snIIb, 'IIb',snidPCA15.IIb_color, axs[0,0], snidPCA15.evecs[0:5], snidPCA0.wavelengths,[1,1,1,1,1])\n",
    "axs[0,1], _ = plotPCs(snIb, 'Ib',snidPCA15.Ib_color, axs[0,1], snidPCA15.evecs[0:5], snidPCA0.wavelengths,[1,1,1,1,1])\n",
    "axs[1,0], _ = plotPCs(snIcBL, 'IcBL',snidPCA15.IcBL_color, axs[1,0], snidPCA15.evecs[0:5], snidPCA0.wavelengths,[1,1,1,1,1])\n",
    "axs[1,1], lines = plotPCs(snIc, 'Ic',snidPCA15.Ic_color, axs[1,1], snidPCA15.evecs[0:5], snidPCA0.wavelengths,[1,1,1,1,1])\n",
    "leg = [el[0] for el in lines]\n",
    "red_patch = mpatches.Patch(color='steelblue', label='Ib Mean Spec', alpha=0.1)\n",
    "green_patch = mpatches.Patch(color='limegreen', label='IIb Mean Spec', alpha=0.1)\n",
    "black_patch = mpatches.Patch(color='darkgrey', label='IcBL Mean Spec', alpha=0.1)\n",
    "blue_patch = mpatches.Patch(color='r', label='Ic Mean Spec', alpha=0.1)\n",
    "leg.append(green_patch)\n",
    "leg.append(black_patch)\n",
    "leg.append(red_patch)\n",
    "leg.append(blue_patch)\n"
   ]
  },
  {
   "cell_type": "code",
   "execution_count": null,
   "metadata": {},
   "outputs": [],
   "source": [
    "ymax = 7.8\n",
    "xmin = 3800\n",
    "\n",
    "fontsz=35\n",
    "axs[0,0].set_ylim((0,ymax))\n",
    "axs[0,0].set_xlabel('')\n",
    "axs[0,1].set_xlabel('')\n",
    "\n",
    "\n",
    "\n",
    "ax = axs[0,0]\n",
    "ax.axvspan(6213, 6366, alpha=0.1, color='k') #H alpha -9000 km/s to -16000 km/s\n",
    "s = r'$\\alpha$'\n",
    "ax.text((6213+6366)/2.0, ymax + ymax * 0.02, 'H'+s, fontsize=fontsz, horizontalalignment='center')\n",
    "ax.axvspan(4602, 4715, alpha=0.1, color='k') #H Beta -9000 km/s to-16000 km/s\n",
    "s = r'$\\beta$'\n",
    "ax.text((4602+4715)/2.0, ymax + ymax * 0.02, 'H'+s, fontsize=fontsz, horizontalalignment='center')\n",
    "ax.axvspan(5621, 5758, alpha=0.1, color='k') #HeI5876 -6000 km/s to -13000 km/s\n",
    "ax.text((5621+5758)/2.0, ymax + ymax * 0.02, 'HeI5876', fontsize=fontsz, horizontalalignment='center')\n",
    "\n",
    "ax = axs[0,1]\n",
    "ax.axvspan(5621, 5758, alpha=0.1, color='k') #HeI5876 -6000 km/s to -13000 km/s\n",
    "ax.text((5621+5758)/2.0, ymax + ymax * 0.02, 'HeI5876', fontsize=fontsz, horizontalalignment='center')\n",
    "\n",
    "\n",
    "axs[0,0].tick_params(axis='both',which='both',labelsize=fontsz, length=20,direction='inout')\n",
    "axs[0,0].get_yaxis().set_ticks([])\n",
    "axs[0,1].tick_params(axis='both',which='both',labelsize=fontsz, length=20,direction='inout')\n",
    "axs[1,0].tick_params(axis='both',which='both',labelsize=fontsz, length=20,direction='inout')\n",
    "axs[1,0].get_yaxis().set_ticks([])\n",
    "axs[1,1].tick_params(axis='both',which='both',labelsize=fontsz, length=20,direction='inout')\n",
    "\n",
    "\n",
    "axs[0,0].set_ylim((0,ymax))\n",
    "axs[0,0].set_xlim((xmin, 7100))\n",
    "axs[1,0].set_xlim((xmin,7100))\n",
    "axs[1,0].set_xlabel('')\n",
    "axs[1,1].set_xlabel('')\n",
    "\n",
    "\n",
    "f.text(0.085, 2.0/4.0, 'Relative Flux', verticalalignment='center', rotation='vertical', fontsize=fontsz)\n",
    "xmax = axs[0,0].get_xlim()[1]\n",
    "\n",
    "f.text(0.5,0.07, 'Wavelength $(\\AA)$', horizontalalignment='center', fontsize=fontsz)\n",
    "\n",
    "for ax in axs.flatten():\n",
    "    ax.text(xmin, 5.15, 'PC1', fontsize=50, color='k')\n",
    "    ax.text(xmin, 4.15, 'PC2', fontsize=50, color='k')\n",
    "    ax.text(xmin, 3.15, 'PC3', fontsize=50, color='k')\n",
    "    ax.text(xmin, 2.15, 'PC4', fontsize=50, color='k')\n",
    "    ax.text(xmin, 1.15, 'PC5', fontsize=50, color='k')\n",
    "    from matplotlib.ticker import MultipleLocator\n",
    "    ax.xaxis.set_minor_locator(MultipleLocator(100))\n",
    "    ax.tick_params(axis='x', which='minor', direction='inout', length=15)\n",
    "    \n",
    "axs[0,0].text(xmax-50, ymax-1.7, 'IIb Mean Spectrum $\\pm 1\\sigma$', fontsize=50, color='limegreen', ha='right')\n",
    "axs[0,1].text(xmax-50, ymax-1.7, 'Ib Mean Spectrum $\\pm 1\\sigma$', fontsize=50, color='steelblue', ha='right')\n",
    "axs[1,0].text(xmax-50, ymax-1.7, 'IcBL Mean Spectrum $\\pm 1\\sigma$', fontsize=50, color='darkgrey', ha='right')\n",
    "axs[1,1].text(xmax-50, ymax-1.7, 'Ic Mean Spectrum $\\pm 1\\sigma$', fontsize=50, color='r', ha='right')"
   ]
  },
  {
   "cell_type": "code",
   "execution_count": null,
   "metadata": {},
   "outputs": [],
   "source": [
    "axs[0,0].text(4000,7.2,'$t_{V_{max}}=15\\pm5$',fontsize=35)"
   ]
  },
  {
   "cell_type": "code",
   "execution_count": 3,
   "metadata": {},
   "outputs": [],
   "source": [
    "wvl = dataset5[\"11hs\"].wavelengths"
   ]
  },
  {
   "cell_type": "code",
   "execution_count": 14,
   "metadata": {},
   "outputs": [],
   "source": [
    "b1=(wvl[0]+wvl[1]+wvl[2])/3\n",
    "b2=(wvl[2]+wvl[3]+wvl[4])/3\n",
    "b3=(wvl[4]+wvl[5]+wvl[6])/3"
   ]
  },
  {
   "cell_type": "code",
   "execution_count": 16,
   "metadata": {},
   "outputs": [
    {
     "data": {
      "text/plain": [
       "(10.866666666666788, 10.89333333333343)"
      ]
     },
     "execution_count": 16,
     "metadata": {},
     "output_type": "execute_result"
    }
   ],
   "source": [
    "b2-b1,b3-b2"
   ]
  },
  {
   "cell_type": "code",
   "execution_count": 19,
   "metadata": {},
   "outputs": [
    {
     "data": {
      "text/plain": [
       "[2669.653333333333,\n",
       " 2673.27,\n",
       " 2676.8933333333334,\n",
       " 2680.52,\n",
       " 2684.15,\n",
       " 2687.7866666666664,\n",
       " 2691.43,\n",
       " 2695.0766666666664,\n",
       " 2698.726666666667,\n",
       " 2702.383333333333,\n",
       " 2706.0433333333335,\n",
       " 2709.71,\n",
       " 2713.383333333333,\n",
       " 2717.056666666667,\n",
       " 2720.7366666666667,\n",
       " 2724.4233333333336,\n",
       " 2728.1133333333332,\n",
       " 2731.81,\n",
       " 2735.5099999999998,\n",
       " 2739.2166666666667,\n",
       " 2742.9300000000003,\n",
       " 2746.6433333333334,\n",
       " 2750.3633333333332,\n",
       " 2754.09,\n",
       " 2757.8199999999997,\n",
       " 2761.556666666667,\n",
       " 2765.2966666666666,\n",
       " 2769.0433333333335,\n",
       " 2772.7966666666666,\n",
       " 2776.5533333333333,\n",
       " 2780.313333333333,\n",
       " 2784.08,\n",
       " 2787.853333333333,\n",
       " 2791.6299999999997,\n",
       " 2795.41,\n",
       " 2799.1966666666667,\n",
       " 2802.9900000000002,\n",
       " 2806.786666666667,\n",
       " 2810.59,\n",
       " 2814.396666666666,\n",
       " 2818.2100000000005,\n",
       " 2822.03,\n",
       " 2825.85,\n",
       " 2829.6766666666667,\n",
       " 2833.51,\n",
       " 2837.35,\n",
       " 2841.1966666666667,\n",
       " 2845.0433333333335,\n",
       " 2848.896666666666,\n",
       " 2852.7566666666667,\n",
       " 2856.6200000000003,\n",
       " 2860.4900000000002,\n",
       " 2864.366666666667,\n",
       " 2868.2466666666664,\n",
       " 2872.133333333333,\n",
       " 2876.0266666666666,\n",
       " 2879.92,\n",
       " 2883.8199999999997,\n",
       " 2887.726666666667,\n",
       " 2891.64,\n",
       " 2895.56,\n",
       " 2899.4799999999996,\n",
       " 2903.406666666667,\n",
       " 2907.34,\n",
       " 2911.28,\n",
       " 2915.226666666667,\n",
       " 2919.1733333333336,\n",
       " 2923.126666666667,\n",
       " 2927.0866666666666,\n",
       " 2931.0533333333333,\n",
       " 2935.026666666667,\n",
       " 2939.0033333333336,\n",
       " 2942.9833333333336,\n",
       " 2946.97,\n",
       " 2950.963333333333,\n",
       " 2954.9599999999996,\n",
       " 2958.963333333333,\n",
       " 2962.97,\n",
       " 2966.9833333333336,\n",
       " 2971.0033333333336,\n",
       " 2975.026666666667,\n",
       " 2979.056666666667,\n",
       " 2983.093333333333,\n",
       " 2987.1366666666668,\n",
       " 2991.183333333333,\n",
       " 2995.2333333333336,\n",
       " 2999.2899999999995,\n",
       " 3003.353333333333,\n",
       " 3007.4233333333336,\n",
       " 3011.5,\n",
       " 3015.5800000000004,\n",
       " 3019.663333333334,\n",
       " 3023.7533333333336,\n",
       " 3027.85,\n",
       " 3031.9533333333334,\n",
       " 3036.06,\n",
       " 3040.1733333333336,\n",
       " 3044.2933333333335,\n",
       " 3048.4166666666665,\n",
       " 3052.5466666666666,\n",
       " 3056.683333333333,\n",
       " 3060.8233333333337,\n",
       " 3064.97,\n",
       " 3069.123333333333,\n",
       " 3073.28,\n",
       " 3077.443333333333,\n",
       " 3081.6133333333332,\n",
       " 3085.786666666667,\n",
       " 3089.966666666667,\n",
       " 3094.153333333333,\n",
       " 3098.343333333333,\n",
       " 3102.5399999999995,\n",
       " 3106.7433333333333,\n",
       " 3110.9533333333334,\n",
       " 3115.17,\n",
       " 3119.39,\n",
       " 3123.6133333333332,\n",
       " 3127.843333333333,\n",
       " 3132.08,\n",
       " 3136.3233333333337,\n",
       " 3140.5733333333337,\n",
       " 3144.83,\n",
       " 3149.09,\n",
       " 3153.3566666666666,\n",
       " 3157.6299999999997,\n",
       " 3161.9066666666663,\n",
       " 3166.19,\n",
       " 3170.4799999999996,\n",
       " 3174.773333333333,\n",
       " 3179.0733333333337,\n",
       " 3183.3799999999997,\n",
       " 3187.693333333333,\n",
       " 3192.013333333334,\n",
       " 3196.3366666666666,\n",
       " 3200.6666666666665,\n",
       " 3205.0033333333336,\n",
       " 3209.346666666667,\n",
       " 3213.693333333333,\n",
       " 3218.0466666666666,\n",
       " 3222.406666666667,\n",
       " 3226.7700000000004,\n",
       " 3231.14,\n",
       " 3235.5166666666664,\n",
       " 3239.9,\n",
       " 3244.2899999999995,\n",
       " 3248.6866666666665,\n",
       " 3253.09,\n",
       " 3257.4966666666664,\n",
       " 3261.906666666667,\n",
       " 3266.3266666666664,\n",
       " 3270.7533333333336,\n",
       " 3275.183333333333,\n",
       " 3279.6200000000003,\n",
       " 3284.0633333333335,\n",
       " 3288.513333333334,\n",
       " 3292.9666666666667,\n",
       " 3297.4266666666663,\n",
       " 3301.896666666666,\n",
       " 3306.3700000000003,\n",
       " 3310.846666666667,\n",
       " 3315.3333333333335,\n",
       " 3319.8266666666664,\n",
       " 3324.3233333333333,\n",
       " 3328.8266666666664,\n",
       " 3333.3366666666666,\n",
       " 3337.853333333334,\n",
       " 3342.373333333333,\n",
       " 3346.9,\n",
       " 3351.433333333333,\n",
       " 3355.9733333333334,\n",
       " 3360.52,\n",
       " 3365.0733333333333,\n",
       " 3369.633333333333,\n",
       " 3374.1966666666667,\n",
       " 3378.7666666666664,\n",
       " 3383.343333333333,\n",
       " 3387.9266666666663,\n",
       " 3392.5166666666664,\n",
       " 3397.1133333333332,\n",
       " 3401.7166666666667,\n",
       " 3406.3266666666664,\n",
       " 3410.94,\n",
       " 3415.56,\n",
       " 3420.186666666667,\n",
       " 3424.8199999999997,\n",
       " 3429.4600000000005,\n",
       " 3434.1066666666666,\n",
       " 3438.7599999999998,\n",
       " 3443.4166666666665,\n",
       " 3448.08,\n",
       " 3452.7533333333336,\n",
       " 3457.433333333333,\n",
       " 3462.1166666666663,\n",
       " 3466.806666666666,\n",
       " 3471.5033333333326,\n",
       " 3476.2066666666665,\n",
       " 3480.9166666666665,\n",
       " 3485.6299999999997,\n",
       " 3490.35,\n",
       " 3495.08,\n",
       " 3499.816666666667,\n",
       " 3504.556666666667,\n",
       " 3509.3033333333333,\n",
       " 3514.06,\n",
       " 3518.8199999999997,\n",
       " 3523.5866666666666,\n",
       " 3528.36,\n",
       " 3533.14,\n",
       " 3537.9266666666663,\n",
       " 3542.7166666666667,\n",
       " 3547.5166666666664,\n",
       " 3552.3233333333337,\n",
       " 3557.1366666666668,\n",
       " 3561.9566666666665,\n",
       " 3566.78,\n",
       " 3571.6133333333332,\n",
       " 3576.4533333333334,\n",
       " 3581.2966666666666,\n",
       " 3586.146666666666,\n",
       " 3591.0066666666667,\n",
       " 3595.873333333333,\n",
       " 3600.7433333333333,\n",
       " 3605.6200000000003,\n",
       " 3610.5033333333336,\n",
       " 3615.396666666667,\n",
       " 3620.2966666666666,\n",
       " 3625.1999999999994,\n",
       " 3630.11,\n",
       " 3635.0266666666666,\n",
       " 3639.9499999999994,\n",
       " 3644.883333333333,\n",
       " 3649.8233333333333,\n",
       " 3654.7666666666664,\n",
       " 3659.7166666666667,\n",
       " 3664.6733333333336,\n",
       " 3669.6366666666668,\n",
       " 3674.61,\n",
       " 3679.59,\n",
       " 3684.5733333333337,\n",
       " 3689.5633333333335,\n",
       " 3694.5633333333335,\n",
       " 3699.5699999999997,\n",
       " 3704.58,\n",
       " 3709.6,\n",
       " 3714.626666666667,\n",
       " 3719.656666666667,\n",
       " 3724.6966666666667,\n",
       " 3729.7433333333333,\n",
       " 3734.793333333333,\n",
       " 3739.853333333333,\n",
       " 3744.92,\n",
       " 3749.9933333333333,\n",
       " 3755.0733333333337,\n",
       " 3760.16,\n",
       " 3765.2566666666667,\n",
       " 3770.3566666666666,\n",
       " 3775.463333333333,\n",
       " 3780.58,\n",
       " 3785.7000000000003,\n",
       " 3790.8266666666664,\n",
       " 3795.963333333333,\n",
       " 3801.1066666666666,\n",
       " 3806.2566666666667,\n",
       " 3811.4133333333334,\n",
       " 3816.5766666666664,\n",
       " 3821.7466666666664,\n",
       " 3826.9233333333336,\n",
       " 3832.1066666666666,\n",
       " 3837.2966666666666,\n",
       " 3842.4966666666664,\n",
       " 3847.7033333333334,\n",
       " 3852.9166666666665,\n",
       " 3858.1366666666668,\n",
       " 3863.3633333333332,\n",
       " 3868.596666666667,\n",
       " 3873.836666666666,\n",
       " 3879.086666666666,\n",
       " 3884.34,\n",
       " 3889.6,\n",
       " 3894.8700000000003,\n",
       " 3900.146666666667,\n",
       " 3905.4300000000003,\n",
       " 3910.72,\n",
       " 3916.0200000000004,\n",
       " 3921.3266666666664,\n",
       " 3926.6366666666668,\n",
       " 3931.9566666666665,\n",
       " 3937.2833333333333,\n",
       " 3942.616666666667,\n",
       " 3947.9600000000005,\n",
       " 3953.306666666667,\n",
       " 3958.66,\n",
       " 3964.023333333333,\n",
       " 3969.3933333333334,\n",
       " 3974.773333333333,\n",
       " 3980.16,\n",
       " 3985.5499999999997,\n",
       " 3990.9499999999994,\n",
       " 3996.3566666666666,\n",
       " 4001.7700000000004,\n",
       " 4007.19,\n",
       " 4012.616666666667,\n",
       " 4018.0533333333333,\n",
       " 4023.4966666666664,\n",
       " 4028.9500000000003,\n",
       " 4034.41,\n",
       " 4039.873333333333,\n",
       " 4045.346666666667,\n",
       " 4050.8266666666664,\n",
       " 4056.3133333333335,\n",
       " 4061.81,\n",
       " 4067.3133333333335,\n",
       " 4072.8233333333337,\n",
       " 4078.34,\n",
       " 4083.8633333333332,\n",
       " 4089.396666666666,\n",
       " 4094.936666666667,\n",
       " 4100.483333333334,\n",
       " 4106.04,\n",
       " 4111.6033333333335,\n",
       " 4117.173333333333,\n",
       " 4122.75,\n",
       " 4128.333333333333,\n",
       " 4133.926666666666,\n",
       " 4139.53,\n",
       " 4145.136666666666,\n",
       " 4150.75,\n",
       " 4156.373333333333,\n",
       " 4162.003333333333,\n",
       " 4167.643333333333,\n",
       " 4173.29,\n",
       " 4178.943333333334,\n",
       " 4184.606666666667,\n",
       " 4190.276666666667,\n",
       " 4195.953333333334,\n",
       " 4201.636666666666,\n",
       " 4207.326666666667,\n",
       " 4213.026666666667,\n",
       " 4218.733333333334,\n",
       " 4224.446666666667,\n",
       " 4230.17,\n",
       " 4235.900000000001,\n",
       " 4241.64,\n",
       " 4247.386666666666,\n",
       " 4253.14,\n",
       " 4258.903333333333,\n",
       " 4264.673333333333,\n",
       " 4270.45,\n",
       " 4276.236666666667,\n",
       " 4282.03,\n",
       " 4287.830000000001,\n",
       " 4293.64,\n",
       " 4299.456666666666,\n",
       " 4305.28,\n",
       " 4311.11,\n",
       " 4316.95,\n",
       " 4322.8,\n",
       " 4328.656666666667,\n",
       " 4334.52,\n",
       " 4340.393333333333,\n",
       " 4346.2733333333335,\n",
       " 4352.16,\n",
       " 4358.056666666666,\n",
       " 4363.96,\n",
       " 4369.873333333333,\n",
       " 4375.793333333334,\n",
       " 4381.72,\n",
       " 4387.656666666667,\n",
       " 4393.599999999999,\n",
       " 4399.553333333333,\n",
       " 4405.513333333333,\n",
       " 4411.48,\n",
       " 4417.456666666666,\n",
       " 4423.44,\n",
       " 4429.433333333333,\n",
       " 4435.4366666666665,\n",
       " 4441.446666666667,\n",
       " 4447.463333333333,\n",
       " 4453.486666666667,\n",
       " 4459.52,\n",
       " 4465.5633333333335,\n",
       " 4471.613333333334,\n",
       " 4477.67,\n",
       " 4483.733333333334,\n",
       " 4489.806666666666,\n",
       " 4495.89,\n",
       " 4501.98,\n",
       " 4508.08,\n",
       " 4514.1866666666665,\n",
       " 4520.3,\n",
       " 4526.426666666666,\n",
       " 4532.56,\n",
       " 4538.7,\n",
       " 4544.849999999999,\n",
       " 4551.006666666667,\n",
       " 4557.17,\n",
       " 4563.343333333333,\n",
       " 4569.526666666667,\n",
       " 4575.716666666667,\n",
       " 4581.913333333334,\n",
       " 4588.12,\n",
       " 4594.336666666667,\n",
       " 4600.56,\n",
       " 4606.793333333334,\n",
       " 4613.036666666667,\n",
       " 4619.286666666667,\n",
       " 4625.543333333334,\n",
       " 4631.81,\n",
       " 4638.083333333333,\n",
       " 4644.366666666667,\n",
       " 4650.66,\n",
       " 4656.96,\n",
       " 4663.27,\n",
       " 2333.2133333333336]"
      ]
     },
     "execution_count": 19,
     "metadata": {},
     "output_type": "execute_result"
    }
   ],
   "source": [
    "[wvl[i:i+2].sum()/3 for i in range(0,413,1)]"
   ]
  },
  {
   "cell_type": "code",
   "execution_count": 11,
   "metadata": {},
   "outputs": [
    {
     "data": {
      "text/plain": [
       "4007.193333333333"
      ]
     },
     "execution_count": 11,
     "metadata": {},
     "output_type": "execute_result"
    }
   ],
   "source": [
    "i=0\n",
    "wvl[i:i+3].sum()/3"
   ]
  },
  {
   "cell_type": "code",
   "execution_count": 12,
   "metadata": {},
   "outputs": [
    {
     "data": {
      "text/plain": [
       "(array([4001.77, 4007.19, 4012.62]), array([4018.06, 4023.5 , 4028.95]))"
      ]
     },
     "execution_count": 12,
     "metadata": {},
     "output_type": "execute_result"
    }
   ],
   "source": [
    "wvl[0:3],wvl[3:6]"
   ]
  },
  {
   "cell_type": "code",
   "execution_count": 19,
   "metadata": {},
   "outputs": [
    {
     "ename": "TypeError",
     "evalue": "'int' object is not callable",
     "output_type": "error",
     "traceback": [
      "\u001b[0;31m---------------------------------------------------------------------------\u001b[0m",
      "\u001b[0;31mTypeError\u001b[0m                                 Traceback (most recent call last)",
      "\u001b[0;32m<ipython-input-19-3d3c934ff1bf>\u001b[0m in \u001b[0;36m<module>\u001b[0;34m()\u001b[0m\n\u001b[1;32m      1\u001b[0m \u001b[0mi\u001b[0m\u001b[0;34m=\u001b[0m\u001b[0;36m0\u001b[0m\u001b[0;34m\u001b[0m\u001b[0m\n\u001b[0;32m----> 2\u001b[0;31m \u001b[0mi\u001b[0m\u001b[0;34m(\u001b[0m\u001b[0mi\u001b[0m\u001b[0;34m+\u001b[0m\u001b[0;36m2\u001b[0m\u001b[0;34m)\u001b[0m\u001b[0;34m\u001b[0m\u001b[0m\n\u001b[0m",
      "\u001b[0;31mTypeError\u001b[0m: 'int' object is not callable"
     ]
    }
   ],
   "source": [
    "i=0\n",
    "i(i+2)"
   ]
  },
  {
   "cell_type": "code",
   "execution_count": null,
   "metadata": {},
   "outputs": [],
   "source": []
  }
 ],
 "metadata": {
  "kernelspec": {
   "display_name": "Python 3",
   "language": "python",
   "name": "python3"
  },
  "language_info": {
   "codemirror_mode": {
    "name": "ipython",
    "version": 3
   },
   "file_extension": ".py",
   "mimetype": "text/x-python",
   "name": "python",
   "nbconvert_exporter": "python",
   "pygments_lexer": "ipython3",
   "version": "3.7.3"
  }
 },
 "nbformat": 4,
 "nbformat_minor": 2
}
