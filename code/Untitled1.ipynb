{
 "cells": [
  {
   "cell_type": "code",
   "execution_count": 7,
   "metadata": {},
   "outputs": [],
   "source": [
    "import numpy as np\n",
    "from scipy.stats import binned_statistic\n",
    "\n",
    "data = np.random.rand(100)\n",
    "bin_means = binned_statistic(data, data, bins=50, range=(0, 1))[0]"
   ]
  },
  {
   "cell_type": "code",
   "execution_count": 8,
   "metadata": {},
   "outputs": [
    {
     "data": {
      "text/plain": [
       "array([0.00226888, 0.02556046, 0.05249916, 0.06615998, 0.09657614,\n",
       "       0.11053436, 0.13615797, 0.14048912, 0.16518654, 0.18969645,\n",
       "       0.21661536, 0.23074954,        nan,        nan, 0.29529402,\n",
       "              nan,        nan, 0.34779207, 0.37585559, 0.38546844,\n",
       "       0.40866914, 0.42866417, 0.44539375,        nan, 0.49181095,\n",
       "       0.50753877, 0.53487174,        nan, 0.56604805,        nan,\n",
       "       0.60879742,        nan, 0.64889839, 0.6662205 ,        nan,\n",
       "              nan, 0.72681254, 0.75684913, 0.77321844, 0.79006653,\n",
       "       0.8062669 , 0.82915585, 0.85147433,        nan, 0.89341843,\n",
       "       0.90783459, 0.93500978, 0.94789185, 0.96928652, 0.99984234])"
      ]
     },
     "execution_count": 8,
     "metadata": {},
     "output_type": "execute_result"
    }
   ],
   "source": [
    "bin_means"
   ]
  },
  {
   "cell_type": "code",
   "execution_count": 9,
   "metadata": {},
   "outputs": [
    {
     "data": {
      "text/plain": [
       "(array([100,   0,   0,   0,   0,   0,   0,   0,   0]),\n",
       " array([ 0, 10, 20, 30, 40, 50, 60, 70, 80, 90]))"
      ]
     },
     "execution_count": 9,
     "metadata": {},
     "output_type": "execute_result"
    }
   ],
   "source": [
    "np.histogram(np.random.rand(100), np.arange(0, 100, 10))"
   ]
  },
  {
   "cell_type": "code",
   "execution_count": 10,
   "metadata": {},
   "outputs": [
    {
     "data": {
      "text/plain": [
       "array([0.94855623, 0.88342014, 0.31841258, 0.7080758 , 0.56225204,\n",
       "       0.0140544 , 0.58754835, 0.20285781, 0.55667552, 0.34082422,\n",
       "       0.9288472 , 0.77781181, 0.5519908 , 0.54385804, 0.57336053,\n",
       "       0.95294125, 0.28027562, 0.63021738, 0.01236056, 0.87479139,\n",
       "       0.96068674, 0.21684439, 0.5084723 , 0.17916598, 0.58039094,\n",
       "       0.34878682, 0.04470062, 0.03725658, 0.84272163, 0.21575043,\n",
       "       0.09827758, 0.76503696, 0.63812249, 0.23333294, 0.4003827 ,\n",
       "       0.70333636, 0.43444005, 0.78369627, 0.13761779, 0.94724306,\n",
       "       0.63596844, 0.49879504, 0.04043737, 0.86076593, 0.96904825,\n",
       "       0.8975702 , 0.34607073, 0.49060706, 0.16239546, 0.1883221 ,\n",
       "       0.40743985, 0.01069929, 0.7519687 , 0.83336404, 0.2555921 ,\n",
       "       0.82381152, 0.07418331, 0.29516107, 0.66494175, 0.03847676,\n",
       "       0.67687797, 0.91997971, 0.13171019, 0.52628433, 0.67174489,\n",
       "       0.63242942, 0.90421534, 0.84476899, 0.60751324, 0.79091784,\n",
       "       0.27246107, 0.94615055, 0.93326843, 0.59022438, 0.11898937,\n",
       "       0.39668833, 0.37471669, 0.73886701, 0.34684169, 0.71128709,\n",
       "       0.54048628, 0.77256407, 0.89626678, 0.23425732, 0.49894462,\n",
       "       0.88508368, 0.47405408, 0.24714675, 0.24444319, 0.13890561,\n",
       "       0.97146269, 0.02347458, 0.35908045, 0.76995473, 0.36101151,\n",
       "       0.8139986 , 0.23532979, 0.6891815 , 0.35105822, 0.42638338])"
      ]
     },
     "execution_count": 10,
     "metadata": {},
     "output_type": "execute_result"
    }
   ],
   "source": [
    "np.random.rand(100)"
   ]
  },
  {
   "cell_type": "code",
   "execution_count": 11,
   "metadata": {},
   "outputs": [
    {
     "data": {
      "text/plain": [
       "array([ 0, 10, 20, 30, 40, 50, 60, 70, 80, 90])"
      ]
     },
     "execution_count": 11,
     "metadata": {},
     "output_type": "execute_result"
    }
   ],
   "source": [
    "np.arange(0, 100, 10)"
   ]
  },
  {
   "cell_type": "code",
   "execution_count": 12,
   "metadata": {},
   "outputs": [],
   "source": [
    "import numpy\n",
    "data = numpy.random.rand(100)\n",
    "bins = numpy.linspace(0, 1, 10)\n",
    "digitized = numpy.digitize(data, bins)\n",
    "bin_means1 = [data[digitized == i].mean() for i in range(1, len(bins))]"
   ]
  },
  {
   "cell_type": "code",
   "execution_count": 13,
   "metadata": {},
   "outputs": [
    {
     "data": {
      "text/plain": [
       "[0.05624290211337007,\n",
       " 0.16759015353504922,\n",
       " 0.28748130240202613,\n",
       " 0.3886815126497651,\n",
       " 0.5099255537993517,\n",
       " 0.6119879341473667,\n",
       " 0.7294373037363147,\n",
       " 0.8203897354212705,\n",
       " 0.9503194676141303]"
      ]
     },
     "execution_count": 13,
     "metadata": {},
     "output_type": "execute_result"
    }
   ],
   "source": [
    "bin_means1"
   ]
  },
  {
   "cell_type": "code",
   "execution_count": 10,
   "metadata": {},
   "outputs": [],
   "source": [
    "import numpy as np\n",
    "from scipy.stats import binned_statistic\n",
    "\n",
    "data = np.random.rand(100)\n",
    "bin_means = binned_statistic(data, data, bins=10, range=(0, 1))[0]"
   ]
  },
  {
   "cell_type": "code",
   "execution_count": 11,
   "metadata": {},
   "outputs": [
    {
     "data": {
      "text/plain": [
       "array([0.05113885, 0.15006343, 0.24951037, 0.3459825 , 0.44245771,\n",
       "       0.56604227, 0.643648  , 0.74783657, 0.83580362, 0.94215446])"
      ]
     },
     "execution_count": 11,
     "metadata": {},
     "output_type": "execute_result"
    }
   ],
   "source": [
    "bin_means"
   ]
  },
  {
   "cell_type": "code",
   "execution_count": 14,
   "metadata": {},
   "outputs": [
    {
     "name": "stdout",
     "output_type": "stream",
     "text": [
      "[0.50262847 0.41716175 0.50731987 0.59543146 0.507083   0.37819309\n",
      " 0.4775056  0.5626248  0.49517319 0.60054984]\n"
     ]
    }
   ],
   "source": [
    "import numpy as np\n",
    "\n",
    "data = np.random.rand(100)\n",
    "bins = 10\n",
    "slices = np.linspace(0, 100, bins+1, True).astype(np.int)\n",
    "counts = np.diff(slices)\n",
    "\n",
    "mean = np.add.reduceat(data, slices[:-1]) / counts\n",
    "print mean"
   ]
  },
  {
   "cell_type": "code",
   "execution_count": 15,
   "metadata": {},
   "outputs": [
    {
     "data": {
      "text/plain": [
       "array([  0,  10,  20,  30,  40,  50,  60,  70,  80,  90, 100])"
      ]
     },
     "execution_count": 15,
     "metadata": {},
     "output_type": "execute_result"
    }
   ],
   "source": [
    "slices"
   ]
  },
  {
   "cell_type": "code",
   "execution_count": 16,
   "metadata": {},
   "outputs": [
    {
     "data": {
      "text/plain": [
       "array([10, 10, 10, 10, 10, 10, 10, 10, 10, 10])"
      ]
     },
     "execution_count": 16,
     "metadata": {},
     "output_type": "execute_result"
    }
   ],
   "source": [
    "counts"
   ]
  },
  {
   "cell_type": "code",
   "execution_count": 3,
   "metadata": {},
   "outputs": [
    {
     "data": {
      "text/plain": [
       "array([  0,  10,  20,  30,  40,  50,  60,  70,  80,  90, 100])"
      ]
     },
     "execution_count": 3,
     "metadata": {},
     "output_type": "execute_result"
    }
   ],
   "source": [
    "import numpy as np\n",
    "bins=10\n",
    "np.linspace(0, 100, bins+1, True).astype(np.int)"
   ]
  },
  {
   "cell_type": "code",
   "execution_count": 4,
   "metadata": {},
   "outputs": [
    {
     "data": {
      "text/plain": [
       "(array([100,   0,   0,   0,   0,   0,   0,   0,   0]),\n",
       " array([ 0, 10, 20, 30, 40, 50, 60, 70, 80, 90]))"
      ]
     },
     "execution_count": 4,
     "metadata": {},
     "output_type": "execute_result"
    }
   ],
   "source": [
    "np.histogram(np.random.rand(100), np.arange(0, 100, 10))"
   ]
  },
  {
   "cell_type": "code",
   "execution_count": 5,
   "metadata": {},
   "outputs": [
    {
     "data": {
      "text/plain": [
       "(array([100,   0,   0,   0,   0,   0,   0,   0,   0,   0]),\n",
       " array([  0,  10,  20,  30,  40,  50,  60,  70,  80,  90, 100]))"
      ]
     },
     "execution_count": 5,
     "metadata": {},
     "output_type": "execute_result"
    }
   ],
   "source": [
    "import numpy as np\n",
    "bins=10\n",
    "slice = np.linspace(0, 100, bins+1, True).astype(np.int)\n",
    "np.histogram(np.random.rand(100), slice)"
   ]
  },
  {
   "cell_type": "code",
   "execution_count": null,
   "metadata": {},
   "outputs": [],
   "source": []
  }
 ],
 "metadata": {
  "kernelspec": {
   "display_name": "Python 2",
   "language": "python",
   "name": "python2"
  },
  "language_info": {
   "codemirror_mode": {
    "name": "ipython",
    "version": 2
   },
   "file_extension": ".py",
   "mimetype": "text/x-python",
   "name": "python",
   "nbconvert_exporter": "python",
   "pygments_lexer": "ipython2",
   "version": "2.7.16"
  }
 },
 "nbformat": 4,
 "nbformat_minor": 2
}
