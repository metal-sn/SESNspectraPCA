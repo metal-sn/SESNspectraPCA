{
 "cells": [
  {
   "cell_type": "code",
   "execution_count": 1,
   "metadata": {},
   "outputs": [],
   "source": [
    "def nonintbinspectra(wvl, flux, uncer, N):\n",
    "    wvllog = np.log(wvl)\n",
    "    N1 = int(N)\n",
    "    N3 = int(N)\n",
    "    n = N - N1\n",
    "    n0 = N - N1\n",
    "    N2 = int(np.ceil(N))\n",
    "    i = 0\n",
    "    k = 0\n",
    "    obl = wvllog[i+1] - wvllog[i]\n",
    "    obr = float(obl)/2\n",
    "    nbl = obl*N\n",
    "    nbr = float(nbl)/2\n",
    "    brdiff = nbr - obr\n",
    "    newbins = []\n",
    "    newflux = []\n",
    "    newuncer = []\n",
    "    nbnctr = wvllog[i] + brdiff\n",
    "    newbins.append(np.exp(nbnctr))\n",
    "    newflux.append(flux[i:i + N1].sum() + n * flux[i + N1])\n",
    "    newuncer.append(np.sqrt(np.sum(np.square(uncer[i:i + N1])) + np.square(n * uncer[i + N1])))\n",
    "    while i < len(wvllog) - np.ceil(N) - N1:\n",
    "        i = i + N1\n",
    "        k = k + N3\n",
    "        N1 = int(N - (1 - n)) + 1\n",
    "        N3 = int(N - (1 - n0)) + 1\n",
    "        n0 = N - (N1 - n0)\n",
    "        nbnctr +=  (1 - n) * (wvllog[i+1] - wvllog[i])  + wvllog[i + N1] - wvllog[i + 1] + n0 * (wvllog[i + N1] - wvllog[i + N1 - 1])\n",
    "        newbins.append(np.exp(nbnctr))\n",
    "        newflux.append((1 - n) * flux[i] + flux[i + 1:i + N1].sum() + n0 * flux[i + N1])\n",
    "        newuncer.append(np.sqrt(np.square((1 - n) * uncer[i]) + np.sum(np.square(uncer[i + 1:i + N1])) + np.square(n0 * uncer[i + N1])))\n",
    "        n = N - (N1 - n)\n",
    "    return np.array(newbins), np.array(newflux), np.array(newuncer)"
   ]
  },
  {
   "cell_type": "code",
   "execution_count": 3,
   "metadata": {},
   "outputs": [],
   "source": [
    "import numpy as np\n",
    "import matplotlib.pyplot as plt\n",
    "import array"
   ]
  },
  {
   "cell_type": "code",
   "execution_count": 65,
   "metadata": {},
   "outputs": [],
   "source": [
    "f = np.ones(100)\n",
    "wl = np.arange(1., 3., 0.02)\n",
    "w = np.exp(wl)\n",
    "#f[20:21] = 2\n",
    "#f[30:31] = 1.5\n",
    "#f[40:41] = 0\n",
    "#f[50:51] = 1.5\n",
    "#f[60:61] = 2\n",
    "f[70:71] = 0"
   ]
  },
  {
   "cell_type": "code",
   "execution_count": 66,
   "metadata": {},
   "outputs": [
    {
     "data": {
      "text/plain": [
       "((100,), (100,))"
      ]
     },
     "execution_count": 66,
     "metadata": {},
     "output_type": "execute_result"
    }
   ],
   "source": [
    "f.shape, w.shape"
   ]
  },
  {
   "cell_type": "code",
   "execution_count": 67,
   "metadata": {},
   "outputs": [
    {
     "data": {
      "text/plain": [
       "[<matplotlib.lines.Line2D at 0x7f85e7dfea90>]"
      ]
     },
     "execution_count": 67,
     "metadata": {},
     "output_type": "execute_result"
    },
    {
     "data": {
      "image/png": "[encoded data removed]",
      "text/plain": [
       "<Figure size 432x288 with 1 Axes>"
      ]
     },
     "metadata": {
      "needs_background": "light"
     },
     "output_type": "display_data"
    }
   ],
   "source": [
    "plt.plot(w,f)"
   ]
  },
  {
   "cell_type": "code",
   "execution_count": 68,
   "metadata": {},
   "outputs": [],
   "source": [
    "ns = nonintbinspectra(w, f, f, 6.4)"
   ]
  },
  {
   "cell_type": "code",
   "execution_count": 69,
   "metadata": {},
   "outputs": [],
   "source": [
    "w2 = ns[0]\n",
    "f2 = ns[1]"
   ]
  },
  {
   "cell_type": "code",
   "execution_count": 70,
   "metadata": {},
   "outputs": [
    {
     "data": {
      "text/plain": [
       "[<matplotlib.lines.Line2D at 0x7f85e7d63320>]"
      ]
     },
     "execution_count": 70,
     "metadata": {},
     "output_type": "execute_result"
    },
    {
     "data": {
      "image/png": "[encoded data removed]",
      "text/plain": [
       "<Figure size 432x288 with 1 Axes>"
      ]
     },
     "metadata": {
      "needs_background": "light"
     },
     "output_type": "display_data"
    }
   ],
   "source": [
    "plt.plot(w2, f2)"
   ]
  },
  {
   "cell_type": "code",
   "execution_count": 71,
   "metadata": {},
   "outputs": [
    {
     "data": {
      "text/plain": [
       "<matplotlib.legend.Legend at 0x7f85e7e34048>"
      ]
     },
     "execution_count": 71,
     "metadata": {},
     "output_type": "execute_result"
    },
    {
     "data": {
      "image/png": "[encoded data removed]",
      "text/plain": [
       "<Figure size 432x288 with 1 Axes>"
      ]
     },
     "metadata": {
      "needs_background": "light"
     },
     "output_type": "display_data"
    }
   ],
   "source": [
    "plt.plot(w, f, label=\"Original resolution\")\n",
    "plt.plot(w2, f2, label=\"1/6.4 resolution\")\n",
    "plt.xlabel('Wavelength', fontsize=14)\n",
    "plt.ylabel('Flux', fontsize=14)\n",
    "plt.legend(bbox_to_anchor=(1.05, 1), loc='upper left', borderaxespad=0.)"
   ]
  },
  {
   "cell_type": "code",
   "execution_count": null,
   "metadata": {},
   "outputs": [],
   "source": []
  },
  {
   "cell_type": "code",
   "execution_count": 74,
   "metadata": {},
   "outputs": [
    {
     "data": {
      "text/plain": [
       "6.333333333333335"
      ]
     },
     "execution_count": 74,
     "metadata": {},
     "output_type": "execute_result"
    }
   ],
   "source": [
    "f2.mean()"
   ]
  },
  {
   "cell_type": "code",
   "execution_count": null,
   "metadata": {},
   "outputs": [],
   "source": []
  }
 ],
 "metadata": {
  "kernelspec": {
   "display_name": "Python 3",
   "language": "python",
   "name": "python3"
  },
  "language_info": {
   "codemirror_mode": {
    "name": "ipython",
    "version": 3
   },
   "file_extension": ".py",
   "mimetype": "text/x-python",
   "name": "python",
   "nbconvert_exporter": "python",
   "pygments_lexer": "ipython3",
   "version": "3.7.3"
  }
 },
 "nbformat": 4,
 "nbformat_minor": 2
}
